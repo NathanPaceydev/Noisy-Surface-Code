{
 "cells": [
  {
   "cell_type": "markdown",
   "id": "60a6f930",
   "metadata": {},
   "source": [
    "## Deriving the Covariance relationships of Depolarizing Channel\n",
    "\n",
    "Given the Hamiltonain only depends on $R_xyz$\n",
    "\n",
    "\n",
    "and \n",
    "$$ U = cos(\\theta s /2) I - i sin(\\theta s /2) R $$"
   ]
  },
  {
   "cell_type": "markdown",
   "id": "41002bf0",
   "metadata": {},
   "source": [
    "Where $$ R_{xyz} = sin(\\psi) cos(\\phi) X + sin(\\psi) sin(\\phi) Y + cos(\\psi) Z $$\n",
    "\n",
    "Goal to Compute X, Y, Z components for each X, Y, Z, I gate\n",
    "H ommited since $$ H= \\dfrac{1}{\\sqrt 2} (X+Z)$$\n",
    "\n",
    "| Gate  | $\\theta$ | $\\psi$          | $\\phi$          |\n",
    "| ----- | -------- | --------------- | --------------- |\n",
    "| **I** | $2\\pi$   | –               | –               |\n",
    "| **X** | –        | $\\frac{\\pi}{2}$ | $0$             |\n",
    "| **Y** | –        | $\\frac{\\pi}{2}$ | $\\frac{\\pi}{2}$ |\n",
    "| **Z** | –        | $0$             | $\\frac{\\pi}{2}$ |\n"
   ]
  },
  {
   "cell_type": "code",
   "execution_count": 1,
   "id": "6ceebea5",
   "metadata": {},
   "outputs": [],
   "source": [
    "import sympy as sp\n",
    "import numpy as np\n",
    "from numpy import exp, sqrt, array\n",
    "from numpy.random import multivariate_normal"
   ]
  },
  {
   "cell_type": "code",
   "execution_count": 2,
   "id": "45a22c0f",
   "metadata": {},
   "outputs": [],
   "source": [
    "\n",
    "# === Symbols ===\n",
    "theta, s = sp.symbols('theta s', real=True)\n",
    "alpha = s * theta / 2\n",
    "\n",
    "i = sp.I\n",
    "\n",
    "# === Pauli Matrices ===\n",
    "I2 = sp.eye(2)\n",
    "X = sp.Matrix([[0, 1], [1, 0]])\n",
    "Y = sp.Matrix([[0, -i], [i, 0]])\n",
    "Z = sp.Matrix([[1, 0], [0, -1]])\n",
    "pauli_labels = {'I': I2, 'X': X, 'Y': Y, 'Z': Z}\n",
    "\n",
    "\n",
    "\n",
    "def compute_R(psi, phi):\n",
    "    # === Rotation Axes ===\n",
    "    R = (\n",
    "        sp.sin(psi) * sp.cos(phi) * X +\n",
    "        sp.sin(psi) * sp.sin(phi) * Y +\n",
    "        sp.cos(psi) * Z\n",
    "    )\n",
    "    return R\n",
    "\n",
    "# === IBM-style unitary ===\n",
    "def compute_U(alpha, R):\n",
    "    U = sp.cos(alpha) * I2 - sp.I * sp.sin(alpha) * R\n",
    "    U_dag = U.H\n",
    "    return U, U_dag\n",
    "\n",
    "# === Core function: compute f_k^σ(s) components ===\n",
    "def compute_pauli_components(sigma_k, U, U_dag):\n",
    "    Lk = sp.simplify(U_dag * sigma_k * U)\n",
    "    components = {}\n",
    "    for label, P in pauli_labels.items():\n",
    "        f_σ = sp.simplify(sp.trigsimp((Lk * P).trace() / 2))\n",
    "        components[label] = f_σ\n",
    "    return Lk, components\n",
    "\n",
    "# === Integration helper for variances and covariances ===\n",
    "def compute_var_and_cov(f_dict):\n",
    "    keys = list(f_dict.keys())\n",
    "    results = {}\n",
    "    for k in keys:\n",
    "        results[f'Var_{k}'] = sp.simplify(sp.integrate(f_dict[k]**2, (s, 0, 1)))\n",
    "    for i in range(len(keys)):\n",
    "        for j in range(i+1, len(keys)):\n",
    "            k1, k2 = keys[i], keys[j]\n",
    "            cov = sp.simplify(sp.integrate(f_dict[k1] * f_dict[k2], (s, 0, 1)))\n",
    "            results[f'Cov_{k1}_{k2}'] = cov\n",
    "    return results\n",
    "\n"
   ]
  },
  {
   "cell_type": "code",
   "execution_count": 3,
   "id": "ab203471",
   "metadata": {},
   "outputs": [],
   "source": [
    "def analyze_pauli_rotation(pauli_target, psi, phi, alpha=alpha):\n",
    "    # Identify label dynamically\n",
    "    inv_pauli_labels = {id(mat): label for label, mat in pauli_labels.items()}\n",
    "    pauli_target_label = inv_pauli_labels.get(id(pauli_target), \"Unknown\")\n",
    "\n",
    "    # Compute L_k and its Pauli decomposition\n",
    "    R = compute_R(psi, phi)\n",
    "    U, U_dag = compute_U(alpha, R)\n",
    "    Lk, f_components = compute_pauli_components(pauli_target,U, U_dag)\n",
    "    variances = compute_var_and_cov(f_components)\n",
    "\n",
    "    # Print results\n",
    "    print(f\"\\n=== Analysis for Pauli Target: {pauli_target_label} ===\")\n",
    "    print(f\"\\n--- Matrix L_k = U† {pauli_target_label} U ---\")\n",
    "    print(Lk)  # cleaner symbolic form\n",
    "\n",
    "\n",
    "    print(f\"\\n--- Pauli Basis Components f_k^({pauli_target_label})(s) ---\")\n",
    "    for label, expr in f_components.items():\n",
    "        print(f\"f_{pauli_target_label}^{label}(s) =\", expr)\n",
    "\n",
    "    print(f\"\\n--- Variances and Covariances for L_k = {pauli_target_label} ---\")\n",
    "    for name, val in variances.items():\n",
    "        print(f\"{name} =\", val)\n",
    "        \n",
    "    return Lk, f_components, variances\n"
   ]
  },
  {
   "cell_type": "markdown",
   "id": "075939b0",
   "metadata": {},
   "source": [
    "Z -component"
   ]
  },
  {
   "cell_type": "code",
   "execution_count": 4,
   "id": "30f875af",
   "metadata": {},
   "outputs": [],
   "source": [
    "## Z - Target Depolarizing Component ##\n",
    "def z_depolarizing_component(psi,phi,alpha):\n",
    "    \n",
    "    Lk_Z, f_components_Z, variances_Z = analyze_pauli_rotation(Z,psi,phi,alpha)  # func call\n",
    "\n",
    "    # Extract relevant entries for cov_x matrix\n",
    "    VarZ_X = variances_Z['Var_X']\n",
    "    VarZ_Y = variances_Z['Var_Y']\n",
    "    VarZ_Z = variances_Z['Var_Z']\n",
    "    CovZ_XY = variances_Z.get('Cov_X_Y', 0)\n",
    "    CovZ_XZ = variances_Z.get('Cov_X_Z', 0)\n",
    "    CovZ_YZ = variances_Z.get('Cov_Y_Z', 0)\n",
    "\n",
    "\n",
    "    cov_Z_symbolic = sp.Matrix([[VarZ_X, CovZ_XY, CovZ_XZ],\n",
    "                                [CovZ_XY, VarZ_Y, CovZ_YZ],\n",
    "                                [CovZ_XZ, CovZ_YZ, VarZ_Z]])\n",
    "\n",
    "    cov_Z_symbolic = sp.simplify(cov_Z_symbolic)\n",
    "\n",
    "    return cov_Z_symbolic"
   ]
  },
  {
   "cell_type": "markdown",
   "id": "5a0d1f35",
   "metadata": {},
   "source": [
    "X-component"
   ]
  },
  {
   "cell_type": "code",
   "execution_count": 5,
   "id": "45e113c6",
   "metadata": {},
   "outputs": [],
   "source": [
    "## X - Target Depolarizing Component ##\n",
    "# Compute and extract symbolic variances/covariances for Pauli X\n",
    "def x_depolarizing_component(psi,phi,alpha):\n",
    "    Lk_X, f_components_X, variances_X = analyze_pauli_rotation(X,psi,phi,alpha)  # func call\n",
    "\n",
    "    # Extract relevant entries for cov_x matrix\n",
    "    VarX_X = variances_X['Var_X']\n",
    "    VarX_Y = variances_X['Var_Y']\n",
    "    VarX_Z = variances_X['Var_Z']\n",
    "    CovX_XY = variances_X.get('Cov_X_Y', 0)\n",
    "    CovX_XZ = variances_X.get('Cov_X_Z', 0)\n",
    "    CovX_YZ = variances_X.get('Cov_Y_Z', 0)\n",
    "\n",
    "    # Construct symbolic covariance matrix\n",
    "    cov_x_symbolic = sp.Matrix([\n",
    "        [VarX_X,    CovX_XY,   CovX_XZ],\n",
    "        [CovX_XY,   VarX_Y,    CovX_YZ],\n",
    "        [CovX_XZ,   CovX_YZ,   VarX_Z]\n",
    "    ])\n",
    "\n",
    "    cov_x_symbolic = sp.simplify(cov_x_symbolic)\n",
    "\n",
    "    return cov_x_symbolic"
   ]
  },
  {
   "cell_type": "markdown",
   "id": "e2242abe",
   "metadata": {},
   "source": [
    "Y-component"
   ]
  },
  {
   "cell_type": "code",
   "execution_count": 6,
   "id": "8bb911af",
   "metadata": {},
   "outputs": [],
   "source": [
    "## Y - Target Depolarizing Component ##\n",
    "def y_depolarizing_component(psi,phi,alpha):\n",
    "    Lk_Y, f_components_Y, variances_Y = analyze_pauli_rotation(Y, psi,phi,alpha)\n",
    "\n",
    "    VarY_X = variances_Y['Var_X']\n",
    "    VarY_Y = variances_Y['Var_Y']\n",
    "    VarY_Z = variances_Y['Var_Z']\n",
    "    CovY_XY = variances_Y.get('Cov_X_Y', 0)\n",
    "    CovY_XZ = variances_Y.get('Cov_X_Z', 0)\n",
    "    CovY_YZ = variances_Y.get('Cov_Y_Z', 0)\n",
    "\n",
    "    cov_Y_symbolic = sp.Matrix([\n",
    "        [VarY_X, CovY_XY, CovY_XZ],\n",
    "        [CovY_XY, VarY_Y, CovY_YZ],\n",
    "        [CovY_XZ, CovY_YZ, VarY_Z]\n",
    "    ])\n",
    "\n",
    "    cov_Y_symbolic = sp.simplify(cov_Y_symbolic)\n",
    "\n",
    "    return cov_Y_symbolic"
   ]
  },
  {
   "cell_type": "code",
   "execution_count": null,
   "id": "835f28d4",
   "metadata": {},
   "outputs": [],
   "source": []
  },
  {
   "cell_type": "markdown",
   "id": "8de401ca",
   "metadata": {},
   "source": [
    "# X - Gate"
   ]
  },
  {
   "cell_type": "code",
   "execution_count": 7,
   "id": "eeb8b9e6",
   "metadata": {},
   "outputs": [
    {
     "name": "stdout",
     "output_type": "stream",
     "text": [
      "\n",
      "=== Analysis for Pauli Target: X ===\n",
      "\n",
      "--- Matrix L_k = U† X U ---\n",
      "Matrix([[0, 1], [1, 0]])\n",
      "\n",
      "--- Pauli Basis Components f_k^(X)(s) ---\n",
      "f_X^I(s) = 0\n",
      "f_X^X(s) = 1\n",
      "f_X^Y(s) = 0\n",
      "f_X^Z(s) = 0\n",
      "\n",
      "--- Variances and Covariances for L_k = X ---\n",
      "Var_I = 0\n",
      "Var_X = 1\n",
      "Var_Y = 0\n",
      "Var_Z = 0\n",
      "Cov_I_X = 0\n",
      "Cov_I_Y = 0\n",
      "Cov_I_Z = 0\n",
      "Cov_X_Y = 0\n",
      "Cov_X_Z = 0\n",
      "Cov_Y_Z = 0\n"
     ]
    },
    {
     "data": {
      "text/latex": [
       "$\\displaystyle \\left[\\begin{matrix}1 & 0 & 0\\\\0 & 0 & 0\\\\0 & 0 & 0\\end{matrix}\\right]$"
      ],
      "text/plain": [
       "Matrix([\n",
       "[1, 0, 0],\n",
       "[0, 0, 0],\n",
       "[0, 0, 0]])"
      ]
     },
     "execution_count": 7,
     "metadata": {},
     "output_type": "execute_result"
    }
   ],
   "source": [
    "## Change for Each Gate implemented ##\n",
    "psi = sp.pi / 2\n",
    "phi = 0\n",
    "\n",
    "x_depolarizing_component(psi,phi,alpha)\n"
   ]
  },
  {
   "cell_type": "code",
   "execution_count": 8,
   "id": "80efc289",
   "metadata": {},
   "outputs": [
    {
     "name": "stdout",
     "output_type": "stream",
     "text": [
      "\n",
      "=== Analysis for Pauli Target: Z ===\n",
      "\n",
      "--- Matrix L_k = U† Z U ---\n",
      "Matrix([[cos(s*theta), -I*sin(s*theta)], [I*sin(s*theta), -cos(s*theta)]])\n",
      "\n",
      "--- Pauli Basis Components f_k^(Z)(s) ---\n",
      "f_Z^I(s) = 0\n",
      "f_Z^X(s) = 0\n",
      "f_Z^Y(s) = sin(s*theta)\n",
      "f_Z^Z(s) = cos(s*theta)\n",
      "\n",
      "--- Variances and Covariances for L_k = Z ---\n",
      "Var_I = 0\n",
      "Var_X = 0\n",
      "Var_Y = Piecewise(((theta - sin(2*theta)/2)/(2*theta), (theta > 0) | (theta < 0)), (0, True))\n",
      "Var_Z = Piecewise(((theta + sin(2*theta)/2)/(2*theta), (theta > 0) | (theta < 0)), (1, True))\n",
      "Cov_I_X = 0\n",
      "Cov_I_Y = 0\n",
      "Cov_I_Z = 0\n",
      "Cov_X_Y = 0\n",
      "Cov_X_Z = 0\n",
      "Cov_Y_Z = Piecewise((sin(theta)**2/(2*theta), (theta > 0) | (theta < 0)), (0, True))\n"
     ]
    },
    {
     "data": {
      "text/latex": [
       "$\\displaystyle \\left[\\begin{matrix}0 & 0 & 0\\\\0 & \\begin{cases} \\frac{2 \\theta - \\sin{\\left(2 \\theta \\right)}}{4 \\theta} & \\text{for}\\: \\theta > 0 \\vee \\theta < 0 \\\\0 & \\text{otherwise} \\end{cases} & \\begin{cases} \\frac{\\sin^{2}{\\left(\\theta \\right)}}{2 \\theta} & \\text{for}\\: \\theta > 0 \\vee \\theta < 0 \\\\0 & \\text{otherwise} \\end{cases}\\\\0 & \\begin{cases} \\frac{\\sin^{2}{\\left(\\theta \\right)}}{2 \\theta} & \\text{for}\\: \\theta > 0 \\vee \\theta < 0 \\\\0 & \\text{otherwise} \\end{cases} & \\begin{cases} \\frac{2 \\theta + \\sin{\\left(2 \\theta \\right)}}{4 \\theta} & \\text{for}\\: \\theta > 0 \\vee \\theta < 0 \\\\1 & \\text{otherwise} \\end{cases}\\end{matrix}\\right]$"
      ],
      "text/plain": [
       "Matrix([\n",
       "[0,                                                                                     0,                                                                                     0],\n",
       "[0, Piecewise(((2*theta - sin(2*theta))/(4*theta), (theta > 0) | (theta < 0)), (0, True)),            Piecewise((sin(theta)**2/(2*theta), (theta > 0) | (theta < 0)), (0, True))],\n",
       "[0,            Piecewise((sin(theta)**2/(2*theta), (theta > 0) | (theta < 0)), (0, True)), Piecewise(((2*theta + sin(2*theta))/(4*theta), (theta > 0) | (theta < 0)), (1, True))]])"
      ]
     },
     "execution_count": 8,
     "metadata": {},
     "output_type": "execute_result"
    }
   ],
   "source": [
    "z_depolarizing_component(psi,phi,alpha)\n"
   ]
  },
  {
   "cell_type": "code",
   "execution_count": 9,
   "id": "3f43c8ca",
   "metadata": {},
   "outputs": [
    {
     "name": "stdout",
     "output_type": "stream",
     "text": [
      "\n",
      "=== Analysis for Pauli Target: Y ===\n",
      "\n",
      "--- Matrix L_k = U† Y U ---\n",
      "Matrix([[-sin(s*theta), -I*cos(s*theta)], [I*cos(s*theta), sin(s*theta)]])\n",
      "\n",
      "--- Pauli Basis Components f_k^(Y)(s) ---\n",
      "f_Y^I(s) = 0\n",
      "f_Y^X(s) = 0\n",
      "f_Y^Y(s) = cos(s*theta)\n",
      "f_Y^Z(s) = -sin(s*theta)\n",
      "\n",
      "--- Variances and Covariances for L_k = Y ---\n",
      "Var_I = 0\n",
      "Var_X = 0\n",
      "Var_Y = Piecewise(((theta + sin(2*theta)/2)/(2*theta), (theta > 0) | (theta < 0)), (1, True))\n",
      "Var_Z = Piecewise(((theta - sin(2*theta)/2)/(2*theta), (theta > 0) | (theta < 0)), (0, True))\n",
      "Cov_I_X = 0\n",
      "Cov_I_Y = 0\n",
      "Cov_I_Z = 0\n",
      "Cov_X_Y = 0\n",
      "Cov_X_Z = 0\n",
      "Cov_Y_Z = Piecewise((-sin(theta)**2/(2*theta), (theta > 0) | (theta < 0)), (0, True))\n"
     ]
    },
    {
     "data": {
      "text/latex": [
       "$\\displaystyle \\left[\\begin{matrix}0 & 0 & 0\\\\0 & \\begin{cases} \\frac{2 \\theta + \\sin{\\left(2 \\theta \\right)}}{4 \\theta} & \\text{for}\\: \\theta > 0 \\vee \\theta < 0 \\\\1 & \\text{otherwise} \\end{cases} & \\begin{cases} - \\frac{\\sin^{2}{\\left(\\theta \\right)}}{2 \\theta} & \\text{for}\\: \\theta > 0 \\vee \\theta < 0 \\\\0 & \\text{otherwise} \\end{cases}\\\\0 & \\begin{cases} - \\frac{\\sin^{2}{\\left(\\theta \\right)}}{2 \\theta} & \\text{for}\\: \\theta > 0 \\vee \\theta < 0 \\\\0 & \\text{otherwise} \\end{cases} & \\begin{cases} \\frac{2 \\theta - \\sin{\\left(2 \\theta \\right)}}{4 \\theta} & \\text{for}\\: \\theta > 0 \\vee \\theta < 0 \\\\0 & \\text{otherwise} \\end{cases}\\end{matrix}\\right]$"
      ],
      "text/plain": [
       "Matrix([\n",
       "[0,                                                                                     0,                                                                                     0],\n",
       "[0, Piecewise(((2*theta + sin(2*theta))/(4*theta), (theta > 0) | (theta < 0)), (1, True)),           Piecewise((-sin(theta)**2/(2*theta), (theta > 0) | (theta < 0)), (0, True))],\n",
       "[0,           Piecewise((-sin(theta)**2/(2*theta), (theta > 0) | (theta < 0)), (0, True)), Piecewise(((2*theta - sin(2*theta))/(4*theta), (theta > 0) | (theta < 0)), (0, True))]])"
      ]
     },
     "execution_count": 9,
     "metadata": {},
     "output_type": "execute_result"
    }
   ],
   "source": [
    "y_depolarizing_component(psi,phi,alpha)"
   ]
  },
  {
   "cell_type": "markdown",
   "id": "8dbcf562",
   "metadata": {},
   "source": [
    "# Y-Gate"
   ]
  },
  {
   "cell_type": "code",
   "execution_count": 10,
   "id": "61bb81cf",
   "metadata": {},
   "outputs": [
    {
     "name": "stdout",
     "output_type": "stream",
     "text": [
      "\n",
      "=== Analysis for Pauli Target: X ===\n",
      "\n",
      "--- Matrix L_k = U† X U ---\n",
      "Matrix([[sin(s*theta), cos(s*theta)], [cos(s*theta), -sin(s*theta)]])\n",
      "\n",
      "--- Pauli Basis Components f_k^(X)(s) ---\n",
      "f_X^I(s) = 0\n",
      "f_X^X(s) = cos(s*theta)\n",
      "f_X^Y(s) = 0\n",
      "f_X^Z(s) = sin(s*theta)\n",
      "\n",
      "--- Variances and Covariances for L_k = X ---\n",
      "Var_I = 0\n",
      "Var_X = Piecewise(((theta + sin(2*theta)/2)/(2*theta), (theta > 0) | (theta < 0)), (1, True))\n",
      "Var_Y = 0\n",
      "Var_Z = Piecewise(((theta - sin(2*theta)/2)/(2*theta), (theta > 0) | (theta < 0)), (0, True))\n",
      "Cov_I_X = 0\n",
      "Cov_I_Y = 0\n",
      "Cov_I_Z = 0\n",
      "Cov_X_Y = 0\n",
      "Cov_X_Z = Piecewise((sin(theta)**2/(2*theta), (theta > 0) | (theta < 0)), (0, True))\n",
      "Cov_Y_Z = 0\n"
     ]
    },
    {
     "data": {
      "text/latex": [
       "$\\displaystyle \\left[\\begin{matrix}\\begin{cases} \\frac{2 \\theta + \\sin{\\left(2 \\theta \\right)}}{4 \\theta} & \\text{for}\\: \\theta > 0 \\vee \\theta < 0 \\\\1 & \\text{otherwise} \\end{cases} & 0 & \\begin{cases} \\frac{\\sin^{2}{\\left(\\theta \\right)}}{2 \\theta} & \\text{for}\\: \\theta > 0 \\vee \\theta < 0 \\\\0 & \\text{otherwise} \\end{cases}\\\\0 & 0 & 0\\\\\\begin{cases} \\frac{\\sin^{2}{\\left(\\theta \\right)}}{2 \\theta} & \\text{for}\\: \\theta > 0 \\vee \\theta < 0 \\\\0 & \\text{otherwise} \\end{cases} & 0 & \\begin{cases} \\frac{2 \\theta - \\sin{\\left(2 \\theta \\right)}}{4 \\theta} & \\text{for}\\: \\theta > 0 \\vee \\theta < 0 \\\\0 & \\text{otherwise} \\end{cases}\\end{matrix}\\right]$"
      ],
      "text/plain": [
       "Matrix([\n",
       "[Piecewise(((2*theta + sin(2*theta))/(4*theta), (theta > 0) | (theta < 0)), (1, True)), 0,            Piecewise((sin(theta)**2/(2*theta), (theta > 0) | (theta < 0)), (0, True))],\n",
       "[                                                                                    0, 0,                                                                                     0],\n",
       "[           Piecewise((sin(theta)**2/(2*theta), (theta > 0) | (theta < 0)), (0, True)), 0, Piecewise(((2*theta - sin(2*theta))/(4*theta), (theta > 0) | (theta < 0)), (0, True))]])"
      ]
     },
     "execution_count": 10,
     "metadata": {},
     "output_type": "execute_result"
    }
   ],
   "source": [
    "## Change for Each Gate implemented ##\n",
    "psi = sp.pi / 2\n",
    "phi = sp.pi /2\n",
    "\n",
    "x_depolarizing_component(psi,phi,alpha)\n"
   ]
  },
  {
   "cell_type": "code",
   "execution_count": 11,
   "id": "eabf2244",
   "metadata": {},
   "outputs": [
    {
     "name": "stdout",
     "output_type": "stream",
     "text": [
      "\n",
      "=== Analysis for Pauli Target: Y ===\n",
      "\n",
      "--- Matrix L_k = U† Y U ---\n",
      "Matrix([[0, -I], [I, 0]])\n",
      "\n",
      "--- Pauli Basis Components f_k^(Y)(s) ---\n",
      "f_Y^I(s) = 0\n",
      "f_Y^X(s) = 0\n",
      "f_Y^Y(s) = 1\n",
      "f_Y^Z(s) = 0\n",
      "\n",
      "--- Variances and Covariances for L_k = Y ---\n",
      "Var_I = 0\n",
      "Var_X = 0\n",
      "Var_Y = 1\n",
      "Var_Z = 0\n",
      "Cov_I_X = 0\n",
      "Cov_I_Y = 0\n",
      "Cov_I_Z = 0\n",
      "Cov_X_Y = 0\n",
      "Cov_X_Z = 0\n",
      "Cov_Y_Z = 0\n"
     ]
    },
    {
     "data": {
      "text/latex": [
       "$\\displaystyle \\left[\\begin{matrix}0 & 0 & 0\\\\0 & 1 & 0\\\\0 & 0 & 0\\end{matrix}\\right]$"
      ],
      "text/plain": [
       "Matrix([\n",
       "[0, 0, 0],\n",
       "[0, 1, 0],\n",
       "[0, 0, 0]])"
      ]
     },
     "execution_count": 11,
     "metadata": {},
     "output_type": "execute_result"
    }
   ],
   "source": [
    "y_depolarizing_component(psi,phi,alpha)"
   ]
  },
  {
   "cell_type": "code",
   "execution_count": 12,
   "id": "ae436389",
   "metadata": {},
   "outputs": [
    {
     "name": "stdout",
     "output_type": "stream",
     "text": [
      "\n",
      "=== Analysis for Pauli Target: Z ===\n",
      "\n",
      "--- Matrix L_k = U† Z U ---\n",
      "Matrix([[cos(s*theta), -sin(s*theta)], [-sin(s*theta), -cos(s*theta)]])\n",
      "\n",
      "--- Pauli Basis Components f_k^(Z)(s) ---\n",
      "f_Z^I(s) = 0\n",
      "f_Z^X(s) = -sin(s*theta)\n",
      "f_Z^Y(s) = 0\n",
      "f_Z^Z(s) = cos(s*theta)\n",
      "\n",
      "--- Variances and Covariances for L_k = Z ---\n",
      "Var_I = 0\n",
      "Var_X = Piecewise(((theta - sin(2*theta)/2)/(2*theta), (theta > 0) | (theta < 0)), (0, True))\n",
      "Var_Y = 0\n",
      "Var_Z = Piecewise(((theta + sin(2*theta)/2)/(2*theta), (theta > 0) | (theta < 0)), (1, True))\n",
      "Cov_I_X = 0\n",
      "Cov_I_Y = 0\n",
      "Cov_I_Z = 0\n",
      "Cov_X_Y = 0\n",
      "Cov_X_Z = Piecewise((-sin(theta)**2/(2*theta), (theta > 0) | (theta < 0)), (0, True))\n",
      "Cov_Y_Z = 0\n"
     ]
    },
    {
     "data": {
      "text/latex": [
       "$\\displaystyle \\left[\\begin{matrix}\\begin{cases} \\frac{2 \\theta - \\sin{\\left(2 \\theta \\right)}}{4 \\theta} & \\text{for}\\: \\theta > 0 \\vee \\theta < 0 \\\\0 & \\text{otherwise} \\end{cases} & 0 & \\begin{cases} - \\frac{\\sin^{2}{\\left(\\theta \\right)}}{2 \\theta} & \\text{for}\\: \\theta > 0 \\vee \\theta < 0 \\\\0 & \\text{otherwise} \\end{cases}\\\\0 & 0 & 0\\\\\\begin{cases} - \\frac{\\sin^{2}{\\left(\\theta \\right)}}{2 \\theta} & \\text{for}\\: \\theta > 0 \\vee \\theta < 0 \\\\0 & \\text{otherwise} \\end{cases} & 0 & \\begin{cases} \\frac{2 \\theta + \\sin{\\left(2 \\theta \\right)}}{4 \\theta} & \\text{for}\\: \\theta > 0 \\vee \\theta < 0 \\\\1 & \\text{otherwise} \\end{cases}\\end{matrix}\\right]$"
      ],
      "text/plain": [
       "Matrix([\n",
       "[Piecewise(((2*theta - sin(2*theta))/(4*theta), (theta > 0) | (theta < 0)), (0, True)), 0,           Piecewise((-sin(theta)**2/(2*theta), (theta > 0) | (theta < 0)), (0, True))],\n",
       "[                                                                                    0, 0,                                                                                     0],\n",
       "[          Piecewise((-sin(theta)**2/(2*theta), (theta > 0) | (theta < 0)), (0, True)), 0, Piecewise(((2*theta + sin(2*theta))/(4*theta), (theta > 0) | (theta < 0)), (1, True))]])"
      ]
     },
     "execution_count": 12,
     "metadata": {},
     "output_type": "execute_result"
    }
   ],
   "source": [
    "z_depolarizing_component(psi,phi,alpha)"
   ]
  },
  {
   "cell_type": "markdown",
   "id": "7f0f34fa",
   "metadata": {},
   "source": [
    "# Z-Gate"
   ]
  },
  {
   "cell_type": "code",
   "execution_count": 13,
   "id": "c6f533d4",
   "metadata": {},
   "outputs": [
    {
     "name": "stdout",
     "output_type": "stream",
     "text": [
      "\n",
      "=== Analysis for Pauli Target: X ===\n",
      "\n",
      "--- Matrix L_k = U† X U ---\n",
      "Matrix([[0, exp(I*s*theta)], [exp(-I*s*theta), 0]])\n",
      "\n",
      "--- Pauli Basis Components f_k^(X)(s) ---\n",
      "f_X^I(s) = 0\n",
      "f_X^X(s) = cos(s*theta)\n",
      "f_X^Y(s) = -sin(s*theta)\n",
      "f_X^Z(s) = 0\n",
      "\n",
      "--- Variances and Covariances for L_k = X ---\n",
      "Var_I = 0\n",
      "Var_X = Piecewise(((theta + sin(2*theta)/2)/(2*theta), (theta > 0) | (theta < 0)), (1, True))\n",
      "Var_Y = Piecewise(((theta - sin(2*theta)/2)/(2*theta), (theta > 0) | (theta < 0)), (0, True))\n",
      "Var_Z = 0\n",
      "Cov_I_X = 0\n",
      "Cov_I_Y = 0\n",
      "Cov_I_Z = 0\n",
      "Cov_X_Y = Piecewise((-sin(theta)**2/(2*theta), (theta > 0) | (theta < 0)), (0, True))\n",
      "Cov_X_Z = 0\n",
      "Cov_Y_Z = 0\n"
     ]
    },
    {
     "data": {
      "text/latex": [
       "$\\displaystyle \\left[\\begin{matrix}\\begin{cases} \\frac{2 \\theta + \\sin{\\left(2 \\theta \\right)}}{4 \\theta} & \\text{for}\\: \\theta > 0 \\vee \\theta < 0 \\\\1 & \\text{otherwise} \\end{cases} & \\begin{cases} - \\frac{\\sin^{2}{\\left(\\theta \\right)}}{2 \\theta} & \\text{for}\\: \\theta > 0 \\vee \\theta < 0 \\\\0 & \\text{otherwise} \\end{cases} & 0\\\\\\begin{cases} - \\frac{\\sin^{2}{\\left(\\theta \\right)}}{2 \\theta} & \\text{for}\\: \\theta > 0 \\vee \\theta < 0 \\\\0 & \\text{otherwise} \\end{cases} & \\begin{cases} \\frac{2 \\theta - \\sin{\\left(2 \\theta \\right)}}{4 \\theta} & \\text{for}\\: \\theta > 0 \\vee \\theta < 0 \\\\0 & \\text{otherwise} \\end{cases} & 0\\\\0 & 0 & 0\\end{matrix}\\right]$"
      ],
      "text/plain": [
       "Matrix([\n",
       "[Piecewise(((2*theta + sin(2*theta))/(4*theta), (theta > 0) | (theta < 0)), (1, True)),           Piecewise((-sin(theta)**2/(2*theta), (theta > 0) | (theta < 0)), (0, True)), 0],\n",
       "[          Piecewise((-sin(theta)**2/(2*theta), (theta > 0) | (theta < 0)), (0, True)), Piecewise(((2*theta - sin(2*theta))/(4*theta), (theta > 0) | (theta < 0)), (0, True)), 0],\n",
       "[                                                                                    0,                                                                                     0, 0]])"
      ]
     },
     "execution_count": 13,
     "metadata": {},
     "output_type": "execute_result"
    }
   ],
   "source": [
    "## Change for Each Gate implemented ##\n",
    "psi = 0\n",
    "phi = sp.pi /2\n",
    "\n",
    "x_depolarizing_component(psi,phi,alpha)\n"
   ]
  },
  {
   "cell_type": "code",
   "execution_count": 14,
   "id": "a991e490",
   "metadata": {},
   "outputs": [
    {
     "name": "stdout",
     "output_type": "stream",
     "text": [
      "\n",
      "=== Analysis for Pauli Target: Y ===\n",
      "\n",
      "--- Matrix L_k = U† Y U ---\n",
      "Matrix([[0, -I*exp(I*s*theta)], [I*exp(-I*s*theta), 0]])\n",
      "\n",
      "--- Pauli Basis Components f_k^(Y)(s) ---\n",
      "f_Y^I(s) = 0\n",
      "f_Y^X(s) = sin(s*theta)\n",
      "f_Y^Y(s) = cos(s*theta)\n",
      "f_Y^Z(s) = 0\n",
      "\n",
      "--- Variances and Covariances for L_k = Y ---\n",
      "Var_I = 0\n",
      "Var_X = Piecewise(((theta - sin(2*theta)/2)/(2*theta), (theta > 0) | (theta < 0)), (0, True))\n",
      "Var_Y = Piecewise(((theta + sin(2*theta)/2)/(2*theta), (theta > 0) | (theta < 0)), (1, True))\n",
      "Var_Z = 0\n",
      "Cov_I_X = 0\n",
      "Cov_I_Y = 0\n",
      "Cov_I_Z = 0\n",
      "Cov_X_Y = Piecewise((sin(theta)**2/(2*theta), (theta > 0) | (theta < 0)), (0, True))\n",
      "Cov_X_Z = 0\n",
      "Cov_Y_Z = 0\n"
     ]
    },
    {
     "data": {
      "text/latex": [
       "$\\displaystyle \\left[\\begin{matrix}\\begin{cases} \\frac{2 \\theta - \\sin{\\left(2 \\theta \\right)}}{4 \\theta} & \\text{for}\\: \\theta > 0 \\vee \\theta < 0 \\\\0 & \\text{otherwise} \\end{cases} & \\begin{cases} \\frac{\\sin^{2}{\\left(\\theta \\right)}}{2 \\theta} & \\text{for}\\: \\theta > 0 \\vee \\theta < 0 \\\\0 & \\text{otherwise} \\end{cases} & 0\\\\\\begin{cases} \\frac{\\sin^{2}{\\left(\\theta \\right)}}{2 \\theta} & \\text{for}\\: \\theta > 0 \\vee \\theta < 0 \\\\0 & \\text{otherwise} \\end{cases} & \\begin{cases} \\frac{2 \\theta + \\sin{\\left(2 \\theta \\right)}}{4 \\theta} & \\text{for}\\: \\theta > 0 \\vee \\theta < 0 \\\\1 & \\text{otherwise} \\end{cases} & 0\\\\0 & 0 & 0\\end{matrix}\\right]$"
      ],
      "text/plain": [
       "Matrix([\n",
       "[Piecewise(((2*theta - sin(2*theta))/(4*theta), (theta > 0) | (theta < 0)), (0, True)),            Piecewise((sin(theta)**2/(2*theta), (theta > 0) | (theta < 0)), (0, True)), 0],\n",
       "[           Piecewise((sin(theta)**2/(2*theta), (theta > 0) | (theta < 0)), (0, True)), Piecewise(((2*theta + sin(2*theta))/(4*theta), (theta > 0) | (theta < 0)), (1, True)), 0],\n",
       "[                                                                                    0,                                                                                     0, 0]])"
      ]
     },
     "execution_count": 14,
     "metadata": {},
     "output_type": "execute_result"
    }
   ],
   "source": [
    "y_depolarizing_component(psi,phi,alpha)"
   ]
  },
  {
   "cell_type": "code",
   "execution_count": 15,
   "id": "1825310c",
   "metadata": {},
   "outputs": [
    {
     "name": "stdout",
     "output_type": "stream",
     "text": [
      "\n",
      "=== Analysis for Pauli Target: Z ===\n",
      "\n",
      "--- Matrix L_k = U† Z U ---\n",
      "Matrix([[1, 0], [0, -1]])\n",
      "\n",
      "--- Pauli Basis Components f_k^(Z)(s) ---\n",
      "f_Z^I(s) = 0\n",
      "f_Z^X(s) = 0\n",
      "f_Z^Y(s) = 0\n",
      "f_Z^Z(s) = 1\n",
      "\n",
      "--- Variances and Covariances for L_k = Z ---\n",
      "Var_I = 0\n",
      "Var_X = 0\n",
      "Var_Y = 0\n",
      "Var_Z = 1\n",
      "Cov_I_X = 0\n",
      "Cov_I_Y = 0\n",
      "Cov_I_Z = 0\n",
      "Cov_X_Y = 0\n",
      "Cov_X_Z = 0\n",
      "Cov_Y_Z = 0\n"
     ]
    },
    {
     "data": {
      "text/latex": [
       "$\\displaystyle \\left[\\begin{matrix}0 & 0 & 0\\\\0 & 0 & 0\\\\0 & 0 & 1\\end{matrix}\\right]$"
      ],
      "text/plain": [
       "Matrix([\n",
       "[0, 0, 0],\n",
       "[0, 0, 0],\n",
       "[0, 0, 1]])"
      ]
     },
     "execution_count": 15,
     "metadata": {},
     "output_type": "execute_result"
    }
   ],
   "source": [
    "z_depolarizing_component(psi,phi,alpha)"
   ]
  },
  {
   "cell_type": "markdown",
   "id": "220c03f9",
   "metadata": {},
   "source": [
    "# I Gate"
   ]
  },
  {
   "cell_type": "code",
   "execution_count": 19,
   "id": "38ff5a24",
   "metadata": {},
   "outputs": [
    {
     "name": "stdout",
     "output_type": "stream",
     "text": [
      "\n",
      "=== Analysis for Pauli Target: X ===\n",
      "\n",
      "--- Matrix L_k = U† X U ---\n",
      "Matrix([[0, exp(4*I*pi*s)], [exp(-4*I*pi*s), 0]])\n",
      "\n",
      "--- Pauli Basis Components f_k^(X)(s) ---\n",
      "f_X^I(s) = 0\n",
      "f_X^X(s) = cos(4*pi*s)\n",
      "f_X^Y(s) = -sin(4*pi*s)\n",
      "f_X^Z(s) = 0\n",
      "\n",
      "--- Variances and Covariances for L_k = X ---\n",
      "Var_I = 0\n",
      "Var_X = 1/2\n",
      "Var_Y = 1/2\n",
      "Var_Z = 0\n",
      "Cov_I_X = 0\n",
      "Cov_I_Y = 0\n",
      "Cov_I_Z = 0\n",
      "Cov_X_Y = 0\n",
      "Cov_X_Z = 0\n",
      "Cov_Y_Z = 0\n"
     ]
    },
    {
     "data": {
      "text/latex": [
       "$\\displaystyle \\left[\\begin{matrix}\\frac{1}{2} & 0 & 0\\\\0 & \\frac{1}{2} & 0\\\\0 & 0 & 0\\end{matrix}\\right]$"
      ],
      "text/plain": [
       "Matrix([\n",
       "[1/2,   0, 0],\n",
       "[  0, 1/2, 0],\n",
       "[  0,   0, 0]])"
      ]
     },
     "execution_count": 19,
     "metadata": {},
     "output_type": "execute_result"
    }
   ],
   "source": [
    "theta = sp.pi *2\n",
    "alpha = theta *s\n",
    "x_depolarizing_component(psi,phi,alpha)\n"
   ]
  },
  {
   "cell_type": "code",
   "execution_count": 20,
   "id": "14d92389",
   "metadata": {},
   "outputs": [
    {
     "name": "stdout",
     "output_type": "stream",
     "text": [
      "\n",
      "=== Analysis for Pauli Target: Y ===\n",
      "\n",
      "--- Matrix L_k = U† Y U ---\n",
      "Matrix([[0, -I*exp(4*I*pi*s)], [I*exp(-4*I*pi*s), 0]])\n",
      "\n",
      "--- Pauli Basis Components f_k^(Y)(s) ---\n",
      "f_Y^I(s) = 0\n",
      "f_Y^X(s) = sin(4*pi*s)\n",
      "f_Y^Y(s) = cos(4*pi*s)\n",
      "f_Y^Z(s) = 0\n",
      "\n",
      "--- Variances and Covariances for L_k = Y ---\n",
      "Var_I = 0\n",
      "Var_X = 1/2\n",
      "Var_Y = 1/2\n",
      "Var_Z = 0\n",
      "Cov_I_X = 0\n",
      "Cov_I_Y = 0\n",
      "Cov_I_Z = 0\n",
      "Cov_X_Y = 0\n",
      "Cov_X_Z = 0\n",
      "Cov_Y_Z = 0\n"
     ]
    },
    {
     "data": {
      "text/latex": [
       "$\\displaystyle \\left[\\begin{matrix}\\frac{1}{2} & 0 & 0\\\\0 & \\frac{1}{2} & 0\\\\0 & 0 & 0\\end{matrix}\\right]$"
      ],
      "text/plain": [
       "Matrix([\n",
       "[1/2,   0, 0],\n",
       "[  0, 1/2, 0],\n",
       "[  0,   0, 0]])"
      ]
     },
     "execution_count": 20,
     "metadata": {},
     "output_type": "execute_result"
    }
   ],
   "source": [
    "y_depolarizing_component(psi,phi,alpha)"
   ]
  },
  {
   "cell_type": "code",
   "execution_count": 21,
   "id": "4f89738d",
   "metadata": {},
   "outputs": [
    {
     "name": "stdout",
     "output_type": "stream",
     "text": [
      "\n",
      "=== Analysis for Pauli Target: Z ===\n",
      "\n",
      "--- Matrix L_k = U† Z U ---\n",
      "Matrix([[1, 0], [0, -1]])\n",
      "\n",
      "--- Pauli Basis Components f_k^(Z)(s) ---\n",
      "f_Z^I(s) = 0\n",
      "f_Z^X(s) = 0\n",
      "f_Z^Y(s) = 0\n",
      "f_Z^Z(s) = 1\n",
      "\n",
      "--- Variances and Covariances for L_k = Z ---\n",
      "Var_I = 0\n",
      "Var_X = 0\n",
      "Var_Y = 0\n",
      "Var_Z = 1\n",
      "Cov_I_X = 0\n",
      "Cov_I_Y = 0\n",
      "Cov_I_Z = 0\n",
      "Cov_X_Y = 0\n",
      "Cov_X_Z = 0\n",
      "Cov_Y_Z = 0\n"
     ]
    },
    {
     "data": {
      "text/latex": [
       "$\\displaystyle \\left[\\begin{matrix}0 & 0 & 0\\\\0 & 0 & 0\\\\0 & 0 & 1\\end{matrix}\\right]$"
      ],
      "text/plain": [
       "Matrix([\n",
       "[0, 0, 0],\n",
       "[0, 0, 0],\n",
       "[0, 0, 1]])"
      ]
     },
     "execution_count": 21,
     "metadata": {},
     "output_type": "execute_result"
    }
   ],
   "source": [
    "z_depolarizing_component(psi,phi,alpha)"
   ]
  }
 ],
 "metadata": {
  "kernelspec": {
   "display_name": "Python 3",
   "language": "python",
   "name": "python3"
  },
  "language_info": {
   "codemirror_mode": {
    "name": "ipython",
    "version": 3
   },
   "file_extension": ".py",
   "mimetype": "text/x-python",
   "name": "python",
   "nbconvert_exporter": "python",
   "pygments_lexer": "ipython3",
   "version": "3.12.3"
  }
 },
 "nbformat": 4,
 "nbformat_minor": 5
}
