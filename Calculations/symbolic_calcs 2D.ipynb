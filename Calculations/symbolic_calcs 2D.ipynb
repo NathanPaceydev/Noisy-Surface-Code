{
 "cells": [
  {
   "cell_type": "markdown",
   "id": "b0dbb2ff",
   "metadata": {},
   "source": [
    "## Calculating Symbolic 2D expressions\n",
    "$$ U = cos(\\theta s /2) I + i sin(\\theta s /2) R $$\n",
    "$$R_{xy} = cos(\\phi) X + sin(\\phi) Y$$\n"
   ]
  },
  {
   "cell_type": "code",
   "execution_count": 1,
   "id": "b6cab5ff",
   "metadata": {},
   "outputs": [],
   "source": [
    "import sympy as sp\n",
    "import numpy as np\n",
    "from numpy import exp, sqrt, array\n",
    "from numpy.random import multivariate_normal"
   ]
  },
  {
   "cell_type": "code",
   "execution_count": 2,
   "id": "10c160ee",
   "metadata": {},
   "outputs": [],
   "source": [
    "# === Symbols ===\n",
    "theta, s, phi, psi = sp.symbols('theta s phi psi', real=True)\n",
    "alpha = s * theta / 2\n",
    "\n",
    "# === Pauli Matrices and Identity ===\n",
    "I2 = sp.eye(2)\n",
    "X = sp.Matrix([[0, 1], [1, 0]])\n",
    "Y = sp.Matrix([[0, -sp.I], [sp.I, 0]])\n",
    "Z = sp.Matrix([[1, 0], [0, -1]])\n",
    "\n",
    "R = (\n",
    "    sp.cos(phi)*X + sp.sin(phi)*Y\n",
    ")\n",
    "\n",
    "U = sp.cos(alpha) * I2 - sp.I * sp.sin(alpha) * R\n",
    "U_dag = U.H"
   ]
  },
  {
   "cell_type": "markdown",
   "id": "db090cb2",
   "metadata": {},
   "source": [
    "---\n",
    "## Symbolic Calculations ##"
   ]
  },
  {
   "cell_type": "markdown",
   "id": "93bbfe10",
   "metadata": {},
   "source": [
    "Find components in X Y Z"
   ]
  },
  {
   "cell_type": "code",
   "execution_count": 3,
   "id": "b434036f",
   "metadata": {},
   "outputs": [],
   "source": [
    "def pauli_decomposition(Z_s ,paulis):\n",
    "    components = {}\n",
    "    for label, sigma in paulis.items():\n",
    "        coeff = (Z_s * sigma).trace() / 2\n",
    "        components[label] = sp.simplify(coeff)\n",
    "    return components\n",
    "\n",
    "paulis = {'I': I2, 'X': X, 'Y': Y, 'Z': Z}\n"
   ]
  },
  {
   "cell_type": "code",
   "execution_count": 4,
   "id": "8ed30df2",
   "metadata": {},
   "outputs": [],
   "source": [
    "def fully_simplify_pauli_decomposition(decomp, collect_vars=None):\n",
    "    \"\"\"\n",
    "    Deeply simplify and factor a symbolic Pauli decomposition dictionary.\n",
    "\n",
    "    Parameters:\n",
    "        decomp (dict): output from pauli_decomposition\n",
    "        collect_vars (list): list of sympy symbols to factor/collect\n",
    "\n",
    "    Returns:\n",
    "        dict: simplified and factored expressions\n",
    "    \"\"\"\n",
    "    simplified = {}\n",
    "    for pauli, expr in decomp.items():\n",
    "        # Step-by-step simplification\n",
    "        expr = sp.expand_trig(expr)\n",
    "        expr = sp.trigsimp(expr)\n",
    "        expr = sp.expand(expr)\n",
    "        expr = sp.powsimp(expr, force=True)\n",
    "        expr = sp.simplify(expr)\n",
    "        expr = sp.expand_complex(expr)\n",
    "\n",
    "        # Collect φ, ψ, or any variables provided\n",
    "        if collect_vars:\n",
    "            for var in collect_vars:\n",
    "                expr = sp.collect(expr, var)\n",
    "                if isinstance(var, sp.Basic):\n",
    "                    expr = sp.collect(expr, sp.exp(sp.I * var))\n",
    "                    expr = sp.collect(expr, sp.exp(-sp.I * var))\n",
    "        \n",
    "        simplified[pauli] = expr\n",
    "    return simplified\n"
   ]
  },
  {
   "cell_type": "markdown",
   "id": "a2ac7fad",
   "metadata": {},
   "source": [
    "## Z(t) Component ##"
   ]
  },
  {
   "cell_type": "code",
   "execution_count": 5,
   "id": "d78f55e8",
   "metadata": {},
   "outputs": [
    {
     "data": {
      "text/latex": [
       "$\\displaystyle \\left[\\begin{matrix}\\cos{\\left(s \\theta \\right)} & 2 i \\left(i \\sin{\\left(\\phi \\right)} - \\cos{\\left(\\phi \\right)}\\right) \\sin{\\left(\\frac{s \\theta}{2} \\right)} \\cos{\\left(\\frac{s \\theta}{2} \\right)}\\\\2 \\left(- \\sin{\\left(\\phi \\right)} + i \\cos{\\left(\\phi \\right)}\\right) \\sin{\\left(\\frac{s \\theta}{2} \\right)} \\cos{\\left(\\frac{s \\theta}{2} \\right)} & - \\cos{\\left(s \\theta \\right)}\\end{matrix}\\right]$"
      ],
      "text/plain": [
       "Matrix([\n",
       "[                                            cos(s*theta), 2*I*(I*sin(phi) - cos(phi))*sin(s*theta/2)*cos(s*theta/2)],\n",
       "[2*(-sin(phi) + I*cos(phi))*sin(s*theta/2)*cos(s*theta/2),                                             -cos(s*theta)]])"
      ]
     },
     "execution_count": 5,
     "metadata": {},
     "output_type": "execute_result"
    }
   ],
   "source": [
    "Z_s = U_dag * Z * U\n",
    "Z_s = sp.simplify(Z_s)\n",
    "Z_s = sp.expand_trig(Z_s)\n",
    "Z_s = sp.trigsimp(Z_s)\n",
    "Z_s"
   ]
  },
  {
   "cell_type": "code",
   "execution_count": 6,
   "id": "bf626ee7",
   "metadata": {},
   "outputs": [
    {
     "data": {
      "text/latex": [
       "$\\displaystyle \\left\\{ i : 0, \\  X : - \\sin{\\left(\\phi \\right)} \\sin{\\left(s \\theta \\right)}, \\  Y : \\sin{\\left(s \\theta \\right)} \\cos{\\left(\\phi \\right)}, \\  Z : \\cos{\\left(s \\theta \\right)}\\right\\}$"
      ],
      "text/plain": [
       "{I: 0, X: -sin(phi)*sin(s*theta), Y: sin(s*theta)*cos(phi), Z: cos(s*theta)}"
      ]
     },
     "execution_count": 6,
     "metadata": {},
     "output_type": "execute_result"
    }
   ],
   "source": [
    "Z_s_decomp = pauli_decomposition(Z_s, paulis)\n",
    "Z_s_decomp = sp.simplify(Z_s_decomp)\n",
    "Z_s_decomp = sp.trigsimp(Z_s_decomp)\n",
    "Z_s_decomp"
   ]
  },
  {
   "cell_type": "code",
   "execution_count": 7,
   "id": "4bed7270",
   "metadata": {},
   "outputs": [
    {
     "data": {
      "text/plain": [
       "{'I': 0,\n",
       " 'X': -sin(phi)*sin(s*theta),\n",
       " 'Y': sin(s*theta)*cos(phi),\n",
       " 'Z': cos(s*theta)}"
      ]
     },
     "execution_count": 7,
     "metadata": {},
     "output_type": "execute_result"
    }
   ],
   "source": [
    "Z_s_decomp = pauli_decomposition(Z_s, paulis)\n",
    "\n",
    "# Clean and factor using φ and ψ\n",
    "Z_s_decomp_cleaned = fully_simplify_pauli_decomposition(\n",
    "    Z_s_decomp,\n",
    "    collect_vars=[phi, psi, sp.sin(phi), sp.cos(phi), sp.sin(psi), sp.cos(psi)]\n",
    ")\n",
    "Z_s_decomp_cleaned"
   ]
  },
  {
   "cell_type": "markdown",
   "id": "dbe94cdd",
   "metadata": {},
   "source": [
    "Finding X component"
   ]
  },
  {
   "cell_type": "code",
   "execution_count": 8,
   "id": "8a8b76b7",
   "metadata": {},
   "outputs": [
    {
     "data": {
      "text/latex": [
       "$\\displaystyle - \\sin{\\left(\\phi \\right)} \\sin{\\left(s \\theta \\right)}$"
      ],
      "text/plain": [
       "-sin(phi)*sin(s*theta)"
      ]
     },
     "execution_count": 8,
     "metadata": {},
     "output_type": "execute_result"
    }
   ],
   "source": [
    "Z_s_decomp_cleaned['X']\n"
   ]
  },
  {
   "cell_type": "markdown",
   "id": "434d4849",
   "metadata": {},
   "source": [
    "Finding Y component"
   ]
  },
  {
   "cell_type": "code",
   "execution_count": 9,
   "id": "1085bbc5",
   "metadata": {},
   "outputs": [
    {
     "data": {
      "text/latex": [
       "$\\displaystyle \\sin{\\left(s \\theta \\right)} \\cos{\\left(\\phi \\right)}$"
      ],
      "text/plain": [
       "sin(s*theta)*cos(phi)"
      ]
     },
     "execution_count": 9,
     "metadata": {},
     "output_type": "execute_result"
    }
   ],
   "source": [
    "Z_s_decomp_cleaned['Y']"
   ]
  },
  {
   "cell_type": "markdown",
   "id": "e8ab3b41",
   "metadata": {},
   "source": [
    "Finding Y component"
   ]
  },
  {
   "cell_type": "code",
   "execution_count": 10,
   "id": "646cbe07",
   "metadata": {},
   "outputs": [
    {
     "data": {
      "text/latex": [
       "$\\displaystyle \\cos{\\left(s \\theta \\right)}$"
      ],
      "text/plain": [
       "cos(s*theta)"
      ]
     },
     "execution_count": 10,
     "metadata": {},
     "output_type": "execute_result"
    }
   ],
   "source": [
    "Z_s_decomp_cleaned['Z']"
   ]
  },
  {
   "cell_type": "markdown",
   "id": "8a9944d7",
   "metadata": {},
   "source": [
    "## Y(t) Component ##"
   ]
  },
  {
   "cell_type": "code",
   "execution_count": 11,
   "id": "30672406",
   "metadata": {},
   "outputs": [
    {
     "data": {
      "text/latex": [
       "$\\displaystyle \\left[\\begin{matrix}- \\sin{\\left(s \\theta \\right)} \\cos{\\left(\\phi \\right)} & i \\left(- \\cos^{2}{\\left(\\frac{s \\theta}{2} \\right)} + e^{- 2 i \\phi} \\sin^{2}{\\left(\\frac{s \\theta}{2} \\right)}\\right)\\\\i \\left(- e^{2 i \\phi} \\sin^{2}{\\left(\\frac{s \\theta}{2} \\right)} + \\cos^{2}{\\left(\\frac{s \\theta}{2} \\right)}\\right) & \\sin{\\left(s \\theta \\right)} \\cos{\\left(\\phi \\right)}\\end{matrix}\\right]$"
      ],
      "text/plain": [
       "Matrix([\n",
       "[                                 -sin(s*theta)*cos(phi), I*(-cos(s*theta/2)**2 + exp(-2*I*phi)*sin(s*theta/2)**2)],\n",
       "[I*(-exp(2*I*phi)*sin(s*theta/2)**2 + cos(s*theta/2)**2),                                    sin(s*theta)*cos(phi)]])"
      ]
     },
     "execution_count": 11,
     "metadata": {},
     "output_type": "execute_result"
    }
   ],
   "source": [
    "Y_s = U_dag * Y * U\n",
    "Y_s = sp.simplify(Y_s)\n",
    "Y_s = sp.expand_trig(Y_s)\n",
    "Y_s = sp.trigsimp(Y_s)\n",
    "Y_s"
   ]
  },
  {
   "cell_type": "code",
   "execution_count": 12,
   "id": "5dd177bc",
   "metadata": {},
   "outputs": [
    {
     "data": {
      "text/latex": [
       "$\\displaystyle \\left\\{ i : 0, \\  X : \\sin{\\left(2 \\phi \\right)} \\sin^{2}{\\left(\\frac{s \\theta}{2} \\right)}, \\  Y : - \\frac{e^{2 i \\phi} \\sin^{2}{\\left(\\frac{s \\theta}{2} \\right)}}{2} + \\cos^{2}{\\left(\\frac{s \\theta}{2} \\right)} - \\frac{e^{- 2 i \\phi} \\sin^{2}{\\left(\\frac{s \\theta}{2} \\right)}}{2}, \\  Z : - \\sin{\\left(s \\theta \\right)} \\cos{\\left(\\phi \\right)}\\right\\}$"
      ],
      "text/plain": [
       "{I: 0, X: sin(2*phi)*sin(s*theta/2)**2, Y: -exp(2*I*phi)*sin(s*theta/2)**2/2 + cos(s*theta/2)**2 - exp(-2*I*phi)*sin(s*theta/2)**2/2, Z: -sin(s*theta)*cos(phi)}"
      ]
     },
     "execution_count": 12,
     "metadata": {},
     "output_type": "execute_result"
    }
   ],
   "source": [
    "Y_s_decomp = pauli_decomposition(Y_s, paulis)\n",
    "Y_s_decomp = sp.simplify(Y_s_decomp)\n",
    "Y_s_decomp = sp.trigsimp(Y_s_decomp)\n",
    "Y_s_decomp"
   ]
  },
  {
   "cell_type": "code",
   "execution_count": 13,
   "id": "b5a7dffd",
   "metadata": {},
   "outputs": [
    {
     "data": {
      "text/plain": [
       "{'I': 0,\n",
       " 'X': 2*sin(phi)*sin(s*theta/2)**2*cos(phi),\n",
       " 'Y': -sin(s*theta/2)**2*cos(2*phi) + cos(s*theta/2)**2,\n",
       " 'Z': -sin(s*theta)*cos(phi)}"
      ]
     },
     "execution_count": 13,
     "metadata": {},
     "output_type": "execute_result"
    }
   ],
   "source": [
    "Y_s_decomp = pauli_decomposition(Y_s, paulis)\n",
    "\n",
    "# Clean and factor using φ and ψ\n",
    "Y_s_decomp_cleaned = fully_simplify_pauli_decomposition(\n",
    "    Y_s_decomp,\n",
    "    collect_vars=[phi, psi, sp.sin(phi), sp.cos(phi), sp.sin(psi), sp.cos(psi)]\n",
    ")\n",
    "Y_s_decomp_cleaned"
   ]
  },
  {
   "cell_type": "code",
   "execution_count": 14,
   "id": "68917c0d",
   "metadata": {},
   "outputs": [
    {
     "data": {
      "text/latex": [
       "$\\displaystyle 2 \\sin{\\left(\\phi \\right)} \\sin^{2}{\\left(\\frac{s \\theta}{2} \\right)} \\cos{\\left(\\phi \\right)}$"
      ],
      "text/plain": [
       "2*sin(phi)*sin(s*theta/2)**2*cos(phi)"
      ]
     },
     "execution_count": 14,
     "metadata": {},
     "output_type": "execute_result"
    }
   ],
   "source": [
    "Y_s_decomp_cleaned['X']\n"
   ]
  },
  {
   "cell_type": "code",
   "execution_count": 15,
   "id": "f42e2bb5",
   "metadata": {},
   "outputs": [
    {
     "data": {
      "text/latex": [
       "$\\displaystyle - \\sin^{2}{\\left(\\frac{s \\theta}{2} \\right)} \\cos{\\left(2 \\phi \\right)} + \\cos^{2}{\\left(\\frac{s \\theta}{2} \\right)}$"
      ],
      "text/plain": [
       "-sin(s*theta/2)**2*cos(2*phi) + cos(s*theta/2)**2"
      ]
     },
     "execution_count": 15,
     "metadata": {},
     "output_type": "execute_result"
    }
   ],
   "source": [
    "Y_s_decomp_cleaned['Y']"
   ]
  },
  {
   "cell_type": "code",
   "execution_count": 16,
   "id": "0ef05a22",
   "metadata": {},
   "outputs": [
    {
     "data": {
      "text/latex": [
       "$\\displaystyle - \\sin{\\left(s \\theta \\right)} \\cos{\\left(\\phi \\right)}$"
      ],
      "text/plain": [
       "-sin(s*theta)*cos(phi)"
      ]
     },
     "execution_count": 16,
     "metadata": {},
     "output_type": "execute_result"
    }
   ],
   "source": [
    "Y_s_decomp_cleaned['Z']"
   ]
  },
  {
   "cell_type": "markdown",
   "id": "56960fdf",
   "metadata": {},
   "source": [
    "## X(t) Component ##"
   ]
  },
  {
   "cell_type": "code",
   "execution_count": 17,
   "id": "0f5ca6f0",
   "metadata": {},
   "outputs": [
    {
     "data": {
      "text/latex": [
       "$\\displaystyle \\left[\\begin{matrix}\\sin{\\left(\\phi \\right)} \\sin{\\left(s \\theta \\right)} & \\cos^{2}{\\left(\\frac{s \\theta}{2} \\right)} + e^{- 2 i \\phi} \\sin^{2}{\\left(\\frac{s \\theta}{2} \\right)}\\\\e^{2 i \\phi} \\sin^{2}{\\left(\\frac{s \\theta}{2} \\right)} + \\cos^{2}{\\left(\\frac{s \\theta}{2} \\right)} & - \\sin{\\left(\\phi \\right)} \\sin{\\left(s \\theta \\right)}\\end{matrix}\\right]$"
      ],
      "text/plain": [
       "Matrix([\n",
       "[                             sin(phi)*sin(s*theta), cos(s*theta/2)**2 + exp(-2*I*phi)*sin(s*theta/2)**2],\n",
       "[exp(2*I*phi)*sin(s*theta/2)**2 + cos(s*theta/2)**2,                              -sin(phi)*sin(s*theta)]])"
      ]
     },
     "execution_count": 17,
     "metadata": {},
     "output_type": "execute_result"
    }
   ],
   "source": [
    "X_s  = U_dag * X * U\n",
    "X_s  = sp.simplify(X_s )\n",
    "X_s  = sp.expand_trig(X_s )\n",
    "X_s  = sp.trigsimp(X_s )\n",
    "X_s "
   ]
  },
  {
   "cell_type": "code",
   "execution_count": 18,
   "id": "8a709394",
   "metadata": {},
   "outputs": [
    {
     "data": {
      "text/latex": [
       "$\\displaystyle \\left\\{ i : 0, \\  X : \\frac{e^{2 i \\phi} \\sin^{2}{\\left(\\frac{s \\theta}{2} \\right)}}{2} + \\cos^{2}{\\left(\\frac{s \\theta}{2} \\right)} + \\frac{e^{- 2 i \\phi} \\sin^{2}{\\left(\\frac{s \\theta}{2} \\right)}}{2}, \\  Y : \\sin{\\left(2 \\phi \\right)} \\sin^{2}{\\left(\\frac{s \\theta}{2} \\right)}, \\  Z : \\sin{\\left(\\phi \\right)} \\sin{\\left(s \\theta \\right)}\\right\\}$"
      ],
      "text/plain": [
       "{I: 0, X: exp(2*I*phi)*sin(s*theta/2)**2/2 + cos(s*theta/2)**2 + exp(-2*I*phi)*sin(s*theta/2)**2/2, Y: sin(2*phi)*sin(s*theta/2)**2, Z: sin(phi)*sin(s*theta)}"
      ]
     },
     "execution_count": 18,
     "metadata": {},
     "output_type": "execute_result"
    }
   ],
   "source": [
    "X_s_decomp = pauli_decomposition(X_s , paulis)\n",
    "X_s_decomp = sp.simplify(X_s_decomp)\n",
    "X_s_decomp = sp.trigsimp(X_s_decomp)\n",
    "X_s_decomp"
   ]
  },
  {
   "cell_type": "code",
   "execution_count": 19,
   "id": "8f946f7d",
   "metadata": {},
   "outputs": [
    {
     "data": {
      "text/plain": [
       "{'I': 0,\n",
       " 'X': sin(s*theta/2)**2*cos(2*phi) + cos(s*theta/2)**2,\n",
       " 'Y': 2*sin(phi)*sin(s*theta/2)**2*cos(phi),\n",
       " 'Z': sin(phi)*sin(s*theta)}"
      ]
     },
     "execution_count": 19,
     "metadata": {},
     "output_type": "execute_result"
    }
   ],
   "source": [
    "X_s_decomp = pauli_decomposition(X_s , paulis)\n",
    "\n",
    "# Clean and factor using φ and ψ\n",
    "X_s_decomp_cleaned = fully_simplify_pauli_decomposition(\n",
    "    X_s_decomp,\n",
    "    collect_vars=[phi, psi, sp.sin(phi), sp.cos(phi), sp.sin(psi), sp.cos(psi)]\n",
    ")\n",
    "X_s_decomp_cleaned"
   ]
  },
  {
   "cell_type": "code",
   "execution_count": 20,
   "id": "d22f7b4e",
   "metadata": {},
   "outputs": [
    {
     "data": {
      "text/latex": [
       "$\\displaystyle \\sin^{2}{\\left(\\frac{s \\theta}{2} \\right)} \\cos{\\left(2 \\phi \\right)} + \\cos^{2}{\\left(\\frac{s \\theta}{2} \\right)}$"
      ],
      "text/plain": [
       "sin(s*theta/2)**2*cos(2*phi) + cos(s*theta/2)**2"
      ]
     },
     "execution_count": 20,
     "metadata": {},
     "output_type": "execute_result"
    }
   ],
   "source": [
    "X_s_decomp_cleaned['X']"
   ]
  },
  {
   "cell_type": "code",
   "execution_count": 21,
   "id": "5c65b19f",
   "metadata": {},
   "outputs": [
    {
     "data": {
      "text/latex": [
       "$\\displaystyle 2 \\sin{\\left(\\phi \\right)} \\sin^{2}{\\left(\\frac{s \\theta}{2} \\right)} \\cos{\\left(\\phi \\right)}$"
      ],
      "text/plain": [
       "2*sin(phi)*sin(s*theta/2)**2*cos(phi)"
      ]
     },
     "execution_count": 21,
     "metadata": {},
     "output_type": "execute_result"
    }
   ],
   "source": [
    "X_s_decomp_cleaned['Y']"
   ]
  },
  {
   "cell_type": "code",
   "execution_count": 22,
   "id": "83f1bbb6",
   "metadata": {},
   "outputs": [
    {
     "data": {
      "text/latex": [
       "$\\displaystyle \\sin{\\left(\\phi \\right)} \\sin{\\left(s \\theta \\right)}$"
      ],
      "text/plain": [
       "sin(phi)*sin(s*theta)"
      ]
     },
     "execution_count": 22,
     "metadata": {},
     "output_type": "execute_result"
    }
   ],
   "source": [
    "X_s_decomp_cleaned['Z']"
   ]
  },
  {
   "cell_type": "markdown",
   "id": "69f57340",
   "metadata": {},
   "source": [
    "## Checking I components"
   ]
  },
  {
   "cell_type": "code",
   "execution_count": 23,
   "id": "2c51bfaf",
   "metadata": {},
   "outputs": [
    {
     "data": {
      "text/latex": [
       "$\\displaystyle \\left[\\begin{matrix}1 & 0\\\\0 & 1\\end{matrix}\\right]$"
      ],
      "text/plain": [
       "Matrix([\n",
       "[1, 0],\n",
       "[0, 1]])"
      ]
     },
     "execution_count": 23,
     "metadata": {},
     "output_type": "execute_result"
    }
   ],
   "source": [
    "I_s = U_dag * I2 * U\n",
    "I_s = sp.simplify(I_s)\n",
    "I_s = sp.expand_trig(I_s)\n",
    "I_s = sp.trigsimp(I_s)\n",
    "I_s"
   ]
  },
  {
   "cell_type": "code",
   "execution_count": 24,
   "id": "8e055524",
   "metadata": {},
   "outputs": [
    {
     "data": {
      "text/plain": [
       "{'I': 1, 'X': 0, 'Y': 0, 'Z': 0}"
      ]
     },
     "execution_count": 24,
     "metadata": {},
     "output_type": "execute_result"
    }
   ],
   "source": [
    "I_s_decomp = pauli_decomposition(I_s, paulis)\n",
    "\n",
    "# Clean and factor using φ and ψ\n",
    "I_s_decomp_cleaned = fully_simplify_pauli_decomposition(\n",
    "    I_s_decomp,\n",
    "    collect_vars=[phi, psi, sp.sin(phi), sp.cos(phi), sp.sin(psi), sp.cos(psi)]\n",
    ")\n",
    "I_s_decomp_cleaned"
   ]
  },
  {
   "cell_type": "markdown",
   "id": "463abc95",
   "metadata": {},
   "source": [
    "# Relaxation Contributions"
   ]
  },
  {
   "cell_type": "markdown",
   "id": "f47f26d5",
   "metadata": {},
   "source": [
    "## $ \\sigma_- $ Channel\n",
    "$$ \\sigma^- = (X-iY)/2 $$"
   ]
  },
  {
   "cell_type": "code",
   "execution_count": 25,
   "id": "9c37b2b9",
   "metadata": {},
   "outputs": [
    {
     "data": {
      "text/latex": [
       "$\\displaystyle \\left[\\begin{matrix}0 & 0\\\\1 & 0\\end{matrix}\\right]$"
      ],
      "text/plain": [
       "Matrix([\n",
       "[0, 0],\n",
       "[1, 0]])"
      ]
     },
     "execution_count": 25,
     "metadata": {},
     "output_type": "execute_result"
    }
   ],
   "source": [
    "sigma_minus = (X - sp.I * Y) / 2\n",
    "sigma_minus"
   ]
  },
  {
   "cell_type": "code",
   "execution_count": 26,
   "id": "3f2af1ca",
   "metadata": {},
   "outputs": [
    {
     "data": {
      "text/latex": [
       "$\\displaystyle \\left[\\begin{matrix}\\left(\\sin{\\left(\\phi \\right)} + i \\cos{\\left(\\phi \\right)}\\right) \\sin{\\left(\\frac{s \\theta}{2} \\right)} \\cos{\\left(\\frac{s \\theta}{2} \\right)} & e^{- 2 i \\phi} \\sin^{2}{\\left(\\frac{s \\theta}{2} \\right)}\\\\\\cos^{2}{\\left(\\frac{s \\theta}{2} \\right)} & i \\left(i \\sin{\\left(\\phi \\right)} - \\cos{\\left(\\phi \\right)}\\right) \\sin{\\left(\\frac{s \\theta}{2} \\right)} \\cos{\\left(\\frac{s \\theta}{2} \\right)}\\end{matrix}\\right]$"
      ],
      "text/plain": [
       "Matrix([\n",
       "[(sin(phi) + I*cos(phi))*sin(s*theta/2)*cos(s*theta/2),                         exp(-2*I*phi)*sin(s*theta/2)**2],\n",
       "[                                    cos(s*theta/2)**2, I*(I*sin(phi) - cos(phi))*sin(s*theta/2)*cos(s*theta/2)]])"
      ]
     },
     "execution_count": 26,
     "metadata": {},
     "output_type": "execute_result"
    }
   ],
   "source": [
    "\n",
    "sigma_minus_s  = U_dag * sigma_minus * U\n",
    "sigma_minus_s  = sp.simplify(sigma_minus_s )\n",
    "sigma_minus_s  = sp.expand_trig(sigma_minus_s )\n",
    "sigma_minus_s  = sp.trigsimp(sigma_minus_s )\n",
    "sigma_minus_s "
   ]
  },
  {
   "cell_type": "code",
   "execution_count": 27,
   "id": "ce9b89c7",
   "metadata": {},
   "outputs": [
    {
     "data": {
      "text/latex": [
       "$\\displaystyle \\left\\{ i : 0, \\  X : \\frac{\\cos^{2}{\\left(\\frac{s \\theta}{2} \\right)}}{2} + \\frac{e^{- 2 i \\phi} \\sin^{2}{\\left(\\frac{s \\theta}{2} \\right)}}{2}, \\  Y : \\frac{i \\left(- \\cos^{2}{\\left(\\frac{s \\theta}{2} \\right)} + e^{- 2 i \\phi} \\sin^{2}{\\left(\\frac{s \\theta}{2} \\right)}\\right)}{2}, \\  Z : \\left(\\sin{\\left(\\phi \\right)} + i \\cos{\\left(\\phi \\right)}\\right) \\sin{\\left(\\frac{s \\theta}{2} \\right)} \\cos{\\left(\\frac{s \\theta}{2} \\right)}\\right\\}$"
      ],
      "text/plain": [
       "{I: 0, X: cos(s*theta/2)**2/2 + exp(-2*I*phi)*sin(s*theta/2)**2/2, Y: I*(-cos(s*theta/2)**2 + exp(-2*I*phi)*sin(s*theta/2)**2)/2, Z: (sin(phi) + I*cos(phi))*sin(s*theta/2)*cos(s*theta/2)}"
      ]
     },
     "execution_count": 27,
     "metadata": {},
     "output_type": "execute_result"
    }
   ],
   "source": [
    "sigma_minus_s_decomp = pauli_decomposition(sigma_minus_s , paulis)\n",
    "sigma_minus_s_decomp = sp.simplify(sigma_minus_s_decomp)\n",
    "sigma_minus_s_decomp = sp.trigsimp(sigma_minus_s_decomp)\n",
    "sigma_minus_s_decomp"
   ]
  },
  {
   "cell_type": "code",
   "execution_count": 28,
   "id": "a6c98366",
   "metadata": {},
   "outputs": [
    {
     "data": {
      "text/plain": [
       "{'I': 0,\n",
       " 'X': -I*sin(2*phi)*sin(s*theta/2)**2/2 + sin(s*theta/2)**2*cos(2*phi)/2 + cos(s*theta/2)**2/2,\n",
       " 'Y': I*(sin(s*theta/2)**2*cos(2*phi)/2 - cos(s*theta/2)**2/2) + sin(2*phi)*sin(s*theta/2)**2/2,\n",
       " 'Z': sin(phi)*sin(s*theta/2)*cos(s*theta/2) + I*sin(s*theta/2)*cos(phi)*cos(s*theta/2)}"
      ]
     },
     "execution_count": 28,
     "metadata": {},
     "output_type": "execute_result"
    }
   ],
   "source": [
    "sigma_minus_s_decomp = pauli_decomposition(sigma_minus_s , paulis)\n",
    "\n",
    "# Clean and factor using φ and ψ\n",
    "sigma_minus_s_decomp_cleaned = fully_simplify_pauli_decomposition(\n",
    "    sigma_minus_s_decomp,\n",
    "    collect_vars=[phi, psi, sp.sin(phi), sp.cos(phi), sp.sin(psi), sp.cos(psi)]\n",
    ")\n",
    "sigma_minus_s_decomp_cleaned"
   ]
  },
  {
   "cell_type": "code",
   "execution_count": 29,
   "id": "b71f8484",
   "metadata": {},
   "outputs": [
    {
     "data": {
      "text/latex": [
       "$\\displaystyle - \\frac{i \\sin{\\left(2 \\phi \\right)} \\sin^{2}{\\left(\\frac{s \\theta}{2} \\right)}}{2} + \\frac{\\sin^{2}{\\left(\\frac{s \\theta}{2} \\right)} \\cos{\\left(2 \\phi \\right)}}{2} + \\frac{\\cos^{2}{\\left(\\frac{s \\theta}{2} \\right)}}{2}$"
      ],
      "text/plain": [
       "-I*sin(2*phi)*sin(s*theta/2)**2/2 + sin(s*theta/2)**2*cos(2*phi)/2 + cos(s*theta/2)**2/2"
      ]
     },
     "execution_count": 29,
     "metadata": {},
     "output_type": "execute_result"
    }
   ],
   "source": [
    "sigma_minus_s_decomp_cleaned['X']"
   ]
  },
  {
   "cell_type": "code",
   "execution_count": 30,
   "id": "80a96959",
   "metadata": {},
   "outputs": [
    {
     "data": {
      "text/latex": [
       "$\\displaystyle i \\left(\\frac{\\sin^{2}{\\left(\\frac{s \\theta}{2} \\right)} \\cos{\\left(2 \\phi \\right)}}{2} - \\frac{\\cos^{2}{\\left(\\frac{s \\theta}{2} \\right)}}{2}\\right) + \\frac{\\sin{\\left(2 \\phi \\right)} \\sin^{2}{\\left(\\frac{s \\theta}{2} \\right)}}{2}$"
      ],
      "text/plain": [
       "I*(sin(s*theta/2)**2*cos(2*phi)/2 - cos(s*theta/2)**2/2) + sin(2*phi)*sin(s*theta/2)**2/2"
      ]
     },
     "execution_count": 30,
     "metadata": {},
     "output_type": "execute_result"
    }
   ],
   "source": [
    "sigma_minus_s_decomp_cleaned['Y']"
   ]
  },
  {
   "cell_type": "code",
   "execution_count": 31,
   "id": "39f6da76",
   "metadata": {},
   "outputs": [
    {
     "data": {
      "text/latex": [
       "$\\displaystyle \\sin{\\left(\\phi \\right)} \\sin{\\left(\\frac{s \\theta}{2} \\right)} \\cos{\\left(\\frac{s \\theta}{2} \\right)} + i \\sin{\\left(\\frac{s \\theta}{2} \\right)} \\cos{\\left(\\phi \\right)} \\cos{\\left(\\frac{s \\theta}{2} \\right)}$"
      ],
      "text/plain": [
       "sin(phi)*sin(s*theta/2)*cos(s*theta/2) + I*sin(s*theta/2)*cos(phi)*cos(s*theta/2)"
      ]
     },
     "execution_count": 31,
     "metadata": {},
     "output_type": "execute_result"
    }
   ],
   "source": [
    "sigma_minus_s_decomp_cleaned['Z']"
   ]
  },
  {
   "cell_type": "markdown",
   "id": "8fe47bd6",
   "metadata": {},
   "source": [
    "## $ \\sigma_+ $ Channel\n",
    "$$ \\sigma^+ = (X+iY)/2 $$"
   ]
  },
  {
   "cell_type": "code",
   "execution_count": 32,
   "id": "4fea17e5",
   "metadata": {},
   "outputs": [
    {
     "data": {
      "text/latex": [
       "$\\displaystyle \\left[\\begin{matrix}0 & 1\\\\0 & 0\\end{matrix}\\right]$"
      ],
      "text/plain": [
       "Matrix([\n",
       "[0, 1],\n",
       "[0, 0]])"
      ]
     },
     "execution_count": 32,
     "metadata": {},
     "output_type": "execute_result"
    }
   ],
   "source": [
    "sigma_plus = (X + sp.I * Y) / 2\n",
    "sigma_plus"
   ]
  },
  {
   "cell_type": "code",
   "execution_count": 33,
   "id": "bfb7d147",
   "metadata": {},
   "outputs": [
    {
     "data": {
      "text/latex": [
       "$\\displaystyle \\left[\\begin{matrix}\\left(\\sin{\\left(\\phi \\right)} - i \\cos{\\left(\\phi \\right)}\\right) \\sin{\\left(\\frac{s \\theta}{2} \\right)} \\cos{\\left(\\frac{s \\theta}{2} \\right)} & \\cos^{2}{\\left(\\frac{s \\theta}{2} \\right)}\\\\e^{2 i \\phi} \\sin^{2}{\\left(\\frac{s \\theta}{2} \\right)} & \\left(- \\sin{\\left(\\phi \\right)} + i \\cos{\\left(\\phi \\right)}\\right) \\sin{\\left(\\frac{s \\theta}{2} \\right)} \\cos{\\left(\\frac{s \\theta}{2} \\right)}\\end{matrix}\\right]$"
      ],
      "text/plain": [
       "Matrix([\n",
       "[(sin(phi) - I*cos(phi))*sin(s*theta/2)*cos(s*theta/2),                                      cos(s*theta/2)**2],\n",
       "[                       exp(2*I*phi)*sin(s*theta/2)**2, (-sin(phi) + I*cos(phi))*sin(s*theta/2)*cos(s*theta/2)]])"
      ]
     },
     "execution_count": 33,
     "metadata": {},
     "output_type": "execute_result"
    }
   ],
   "source": [
    "\n",
    "sigma_plus_s  = U_dag * sigma_plus * U\n",
    "sigma_plus_s  = sp.simplify(sigma_plus_s )\n",
    "sigma_plus_s  = sp.expand_trig(sigma_plus_s )\n",
    "sigma_plus_s  = sp.trigsimp(sigma_plus_s )\n",
    "sigma_plus_s "
   ]
  },
  {
   "cell_type": "code",
   "execution_count": 34,
   "id": "68aac66f",
   "metadata": {},
   "outputs": [
    {
     "data": {
      "text/latex": [
       "$\\displaystyle \\left\\{ i : 0, \\  X : \\frac{- e^{2 i \\phi} \\cos{\\left(s \\theta \\right)} + e^{2 i \\phi} + \\cos{\\left(s \\theta \\right)} + 1}{4}, \\  Y : \\frac{i \\left(- e^{2 i \\phi} \\sin^{2}{\\left(\\frac{s \\theta}{2} \\right)} + \\cos^{2}{\\left(\\frac{s \\theta}{2} \\right)}\\right)}{2}, \\  Z : \\left(\\sin{\\left(\\phi \\right)} - i \\cos{\\left(\\phi \\right)}\\right) \\sin{\\left(\\frac{s \\theta}{2} \\right)} \\cos{\\left(\\frac{s \\theta}{2} \\right)}\\right\\}$"
      ],
      "text/plain": [
       "{I: 0, X: (-exp(2*I*phi)*cos(s*theta) + exp(2*I*phi) + cos(s*theta) + 1)/4, Y: I*(-exp(2*I*phi)*sin(s*theta/2)**2 + cos(s*theta/2)**2)/2, Z: (sin(phi) - I*cos(phi))*sin(s*theta/2)*cos(s*theta/2)}"
      ]
     },
     "execution_count": 34,
     "metadata": {},
     "output_type": "execute_result"
    }
   ],
   "source": [
    "sigma_plus_s_decomp = pauli_decomposition(sigma_plus_s , paulis)\n",
    "sigma_plus_s_decomp = sp.simplify(sigma_plus_s_decomp)\n",
    "sigma_plus_s_decomp = sp.trigsimp(sigma_plus_s_decomp)\n",
    "sigma_plus_s_decomp"
   ]
  },
  {
   "cell_type": "code",
   "execution_count": 35,
   "id": "02d8f7a8",
   "metadata": {},
   "outputs": [
    {
     "data": {
      "text/plain": [
       "{'I': 0,\n",
       " 'X': I*(-sin(2*phi)*cos(s*theta)/4 + sin(2*phi)/4) - cos(2*phi)*cos(s*theta)/4 + cos(2*phi)/4 + cos(s*theta)/4 + 1/4,\n",
       " 'Y': I*(-sin(s*theta/2)**2*cos(2*phi)/2 + cos(s*theta/2)**2/2) + sin(2*phi)*sin(s*theta/2)**2/2,\n",
       " 'Z': sin(phi)*sin(s*theta/2)*cos(s*theta/2) - I*sin(s*theta/2)*cos(phi)*cos(s*theta/2)}"
      ]
     },
     "execution_count": 35,
     "metadata": {},
     "output_type": "execute_result"
    }
   ],
   "source": [
    "sigma_plus_s_decomp = pauli_decomposition(sigma_plus_s , paulis)\n",
    "\n",
    "# Clean and factor using φ and ψ\n",
    "sigma_plus_s_decomp_cleaned = fully_simplify_pauli_decomposition(\n",
    "    sigma_plus_s_decomp,\n",
    "    collect_vars=[phi, psi, sp.sin(phi), sp.cos(phi), sp.sin(psi), sp.cos(psi)]\n",
    ")\n",
    "sigma_plus_s_decomp_cleaned"
   ]
  },
  {
   "cell_type": "code",
   "execution_count": 36,
   "id": "54dea42e",
   "metadata": {},
   "outputs": [
    {
     "data": {
      "text/latex": [
       "$\\displaystyle i \\left(- \\frac{\\sin{\\left(2 \\phi \\right)} \\cos{\\left(s \\theta \\right)}}{4} + \\frac{\\sin{\\left(2 \\phi \\right)}}{4}\\right) - \\frac{\\cos{\\left(2 \\phi \\right)} \\cos{\\left(s \\theta \\right)}}{4} + \\frac{\\cos{\\left(2 \\phi \\right)}}{4} + \\frac{\\cos{\\left(s \\theta \\right)}}{4} + \\frac{1}{4}$"
      ],
      "text/plain": [
       "I*(-sin(2*phi)*cos(s*theta)/4 + sin(2*phi)/4) - cos(2*phi)*cos(s*theta)/4 + cos(2*phi)/4 + cos(s*theta)/4 + 1/4"
      ]
     },
     "execution_count": 36,
     "metadata": {},
     "output_type": "execute_result"
    }
   ],
   "source": [
    "sigma_plus_s_decomp_cleaned['X']"
   ]
  },
  {
   "cell_type": "code",
   "execution_count": 37,
   "id": "a4370679",
   "metadata": {},
   "outputs": [
    {
     "data": {
      "text/latex": [
       "$\\displaystyle i \\left(- \\frac{\\sin^{2}{\\left(\\frac{s \\theta}{2} \\right)} \\cos{\\left(2 \\phi \\right)}}{2} + \\frac{\\cos^{2}{\\left(\\frac{s \\theta}{2} \\right)}}{2}\\right) + \\frac{\\sin{\\left(2 \\phi \\right)} \\sin^{2}{\\left(\\frac{s \\theta}{2} \\right)}}{2}$"
      ],
      "text/plain": [
       "I*(-sin(s*theta/2)**2*cos(2*phi)/2 + cos(s*theta/2)**2/2) + sin(2*phi)*sin(s*theta/2)**2/2"
      ]
     },
     "execution_count": 37,
     "metadata": {},
     "output_type": "execute_result"
    }
   ],
   "source": [
    "sigma_plus_s_decomp_cleaned['Y']"
   ]
  },
  {
   "cell_type": "code",
   "execution_count": 38,
   "id": "b608346d",
   "metadata": {},
   "outputs": [
    {
     "data": {
      "text/latex": [
       "$\\displaystyle \\sin{\\left(\\phi \\right)} \\sin{\\left(\\frac{s \\theta}{2} \\right)} \\cos{\\left(\\frac{s \\theta}{2} \\right)} - i \\sin{\\left(\\frac{s \\theta}{2} \\right)} \\cos{\\left(\\phi \\right)} \\cos{\\left(\\frac{s \\theta}{2} \\right)}$"
      ],
      "text/plain": [
       "sin(phi)*sin(s*theta/2)*cos(s*theta/2) - I*sin(s*theta/2)*cos(phi)*cos(s*theta/2)"
      ]
     },
     "execution_count": 38,
     "metadata": {},
     "output_type": "execute_result"
    }
   ],
   "source": [
    "sigma_plus_s_decomp_cleaned['Z']"
   ]
  },
  {
   "cell_type": "markdown",
   "id": "e202969a",
   "metadata": {},
   "source": [
    "\n",
    "\n",
    "---\n",
    "\n",
    "### Compute the variance over time\n",
    "\n",
    "We define the variance of this process as:\n",
    "\n",
    "$$\n",
    "\\mathrm{Var} = \\int_0^1 f(s)^2 \\, ds\n",
    "$$\n",
    "\n",
    "This integral gives us a symbolic expression that depends on θ, φ, and ψ. It represents the **Itô variance** associated with the stochastic evolution.\n",
    "\n",
    "---\n",
    "\n",
    "### Sample from the variance\n",
    "\n",
    "Once we evaluate the variance for specific values of θ, φ, and ψ, we obtain a real scalar σ². We can sample from the corresponding zero-mean Gaussian distribution:\n",
    "\n",
    "$$\n",
    "x \\sim \\mathcal{N}(0, \\mathrm{Var})\n",
    "$$\n",
    "\n",
    "This sampled value represents one instance of the quantum noise coefficient aligned with this Pauli component.\n",
    "\n",
    "---\n",
    "\n",
    "### Construct the Hermitian noise matrix\n",
    "\n",
    "Once we sample all 3 Pauli components (X, Y, Z), we form the Hermitian matrix:\n",
    "\n",
    "$$\n",
    "I_d = e_d \\begin{bmatrix}\n",
    "Z_c & X_c - i Y_c \\\\\n",
    "X_c + i Y_c & -Z_c\n",
    "\\end{bmatrix}\n",
    "$$\n",
    "\n",
    "where `e_d` is the depolarizing amplitude, and $ X_c, Y_c, Z_c $ are the sampled components.\n",
    "\n",
    "This matrix can be added to a unitary evolution or inserted into a stochastic noise model.\n",
    "\n"
   ]
  },
  {
   "cell_type": "markdown",
   "id": "9c71db64",
   "metadata": {},
   "source": [
    "### Deterministic Relaxation Contribution\n",
    "\n",
    "In addition to the stochastic contributions from amplitude damping, there is a deterministic component arising from the average (non-stochastic) part of the Lindblad evolution.\n",
    "\n",
    "This is captured by the term:\n",
    "$$\n",
    "\\Lambda := -\\frac{\\epsilon_1^2}{2} \\int_0^1 \\left( L_{\\downarrow,s}^\\dagger L_{\\downarrow,s} \\right) ds,\n",
    "$$\n",
    "which leads to a Hermitian drift term added to the noisy gate.\n",
    "\n",
    "The corresponding integrals are:\n",
    "$$\n",
    "\\begin{aligned}\n",
    "\\text{det}_1 &= \\frac{\\theta - \\sin(\\theta)}{2\\theta}, \\\\\n",
    "\\text{det}_2 &= \\frac{1 - \\cos(\\theta)}{\\theta}, \\\\\n",
    "\\text{det}_3 &= \\frac{\\theta + \\sin(\\theta)}{2\\theta},\n",
    "\\end{aligned}\n",
    "$$\n",
    "\n",
    "and they form the matrix:\n",
    "$$\n",
    "\\texttt{deterministic} = -\\frac{\\epsilon_1^2}{2}\n",
    "\\begin{pmatrix}\n",
    "\\text{det}_1 & \\frac{i}{2} e^{-i\\phi} \\text{det}_2 \\\\\n",
    "-\\frac{i}{2} e^{i\\phi} \\text{det}_2 & \\text{det}_3\n",
    "\\end{pmatrix}\n",
    "$$\n"
   ]
  },
  {
   "cell_type": "code",
   "execution_count": 39,
   "id": "751e6b03",
   "metadata": {},
   "outputs": [
    {
     "name": "stdout",
     "output_type": "stream",
     "text": [
      "Inner product (L's) = \n"
     ]
    },
    {
     "data": {
      "text/latex": [
       "$\\displaystyle \\left[\\begin{matrix}\\cos^{2}{\\left(\\frac{s \\theta}{2} \\right)} & \\left(i \\left(i \\sin{\\left(\\phi \\right)} - \\cos{\\left(\\phi \\right)}\\right) e^{2 i \\phi} \\cos^{2}{\\left(\\frac{s \\theta}{2} \\right)} + \\left(\\sin{\\left(\\phi \\right)} - i \\cos{\\left(\\phi \\right)}\\right) \\sin^{2}{\\left(\\frac{s \\theta}{2} \\right)}\\right) e^{- 2 i \\phi} \\sin{\\left(\\frac{s \\theta}{2} \\right)} \\cos{\\left(\\frac{s \\theta}{2} \\right)}\\\\\\left(\\left(\\sin{\\left(\\phi \\right)} + i \\cos{\\left(\\phi \\right)}\\right) e^{2 i \\phi} \\sin^{2}{\\left(\\frac{s \\theta}{2} \\right)} + i e^{i \\phi} \\cos^{2}{\\left(\\frac{s \\theta}{2} \\right)}\\right) \\sin{\\left(\\frac{s \\theta}{2} \\right)} \\cos{\\left(\\frac{s \\theta}{2} \\right)} & \\sin^{2}{\\left(\\frac{s \\theta}{2} \\right)}\\end{matrix}\\right]$"
      ],
      "text/plain": [
       "Matrix([\n",
       "[                                                                                                      cos(s*theta/2)**2, (I*(I*sin(phi) - cos(phi))*exp(2*I*phi)*cos(s*theta/2)**2 + (sin(phi) - I*cos(phi))*sin(s*theta/2)**2)*exp(-2*I*phi)*sin(s*theta/2)*cos(s*theta/2)],\n",
       "[((sin(phi) + I*cos(phi))*exp(2*I*phi)*sin(s*theta/2)**2 + I*exp(I*phi)*cos(s*theta/2)**2)*sin(s*theta/2)*cos(s*theta/2),                                                                                                                                  sin(s*theta/2)**2]])"
      ]
     },
     "metadata": {},
     "output_type": "display_data"
    },
    {
     "data": {
      "text/latex": [
       "$\\displaystyle \\left[\\begin{matrix}\\begin{cases} \\frac{\\theta + \\sin{\\left(\\theta \\right)}}{2 \\theta} & \\text{for}\\: \\theta > 0 \\vee \\theta < 0 \\\\1 & \\text{otherwise} \\end{cases} & \\begin{cases} \\frac{i \\left(e^{2 i \\theta} - 2 e^{i \\theta} + 1\\right) e^{- i \\left(\\phi + \\theta\\right)}}{4 \\theta} & \\text{for}\\: \\theta^{2} e^{2 i \\phi} \\neq 0 \\\\0 & \\text{otherwise} \\end{cases}\\\\\\begin{cases} \\frac{i \\left(- e^{2 i \\theta} + 2 e^{i \\theta} - 1\\right) e^{i \\left(\\phi - \\theta\\right)}}{4 \\theta} & \\text{for}\\: \\theta > 0 \\vee \\theta < 0 \\\\0 & \\text{otherwise} \\end{cases} & \\begin{cases} \\frac{\\theta - \\sin{\\left(\\theta \\right)}}{2 \\theta} & \\text{for}\\: \\theta > 0 \\vee \\theta < 0 \\\\0 & \\text{otherwise} \\end{cases}\\end{matrix}\\right]$"
      ],
      "text/plain": [
       "Matrix([\n",
       "[                                         Piecewise(((theta + sin(theta))/(2*theta), (theta > 0) | (theta < 0)), (1, True)), Piecewise((I*(exp(2*I*theta) - 2*exp(I*theta) + 1)*exp(-I*(phi + theta))/(4*theta), Ne(theta**2*exp(2*I*phi), 0)), (0, True))],\n",
       "[Piecewise((I*(-exp(2*I*theta) + 2*exp(I*theta) - 1)*exp(I*(phi - theta))/(4*theta), (theta > 0) | (theta < 0)), (0, True)),                                             Piecewise(((theta - sin(theta))/(2*theta), (theta > 0) | (theta < 0)), (0, True))]])"
      ]
     },
     "metadata": {},
     "output_type": "display_data"
    },
    {
     "data": {
      "text/latex": [
       "$\\displaystyle det_{1} = \\begin{cases} \\frac{\\theta - \\sin{\\left(\\theta \\right)}}{2 \\theta} & \\text{for}\\: \\theta > 0 \\vee \\theta < 0 \\\\0 & \\text{otherwise} \\end{cases}$"
      ],
      "text/plain": [
       "Eq(det1, Piecewise(((theta - sin(theta))/(2*theta), (theta > 0) | (theta < 0)), (0, True)))"
      ]
     },
     "metadata": {},
     "output_type": "display_data"
    },
    {
     "data": {
      "text/latex": [
       "$\\displaystyle det_{2} = \\begin{cases} \\frac{1 - \\cos{\\left(\\theta \\right)}}{\\theta} & \\text{for}\\: \\theta^{2} e^{2 i \\phi} \\neq 0 \\\\0 & \\text{otherwise} \\end{cases}$"
      ],
      "text/plain": [
       "Eq(det2, Piecewise(((1 - cos(theta))/theta, Ne(theta**2*exp(2*I*phi), 0)), (0, True)))"
      ]
     },
     "metadata": {},
     "output_type": "display_data"
    },
    {
     "data": {
      "text/latex": [
       "$\\displaystyle det_{3} = \\begin{cases} \\frac{\\theta + \\sin{\\left(\\theta \\right)}}{2 \\theta} & \\text{for}\\: \\theta > 0 \\vee \\theta < 0 \\\\1 & \\text{otherwise} \\end{cases}$"
      ],
      "text/plain": [
       "Eq(det3, Piecewise(((theta + sin(theta))/(2*theta), (theta > 0) | (theta < 0)), (1, True)))"
      ]
     },
     "metadata": {},
     "output_type": "display_data"
    },
    {
     "data": {
      "text/latex": [
       "$\\displaystyle Λ =$"
      ],
      "text/plain": [
       "Λ ="
      ]
     },
     "metadata": {},
     "output_type": "display_data"
    },
    {
     "data": {
      "text/latex": [
       "$\\displaystyle \\left[\\begin{matrix}- \\frac{\\epsilon_{1}^{2} \\left(\\begin{cases} \\frac{\\theta - \\sin{\\left(\\theta \\right)}}{2 \\theta} & \\text{for}\\: \\theta > 0 \\vee \\theta < 0 \\\\0 & \\text{otherwise} \\end{cases}\\right)}{2} & - \\frac{i \\epsilon_{1}^{2} \\left(\\begin{cases} \\frac{1 - \\cos{\\left(\\theta \\right)}}{\\theta} & \\text{for}\\: \\theta^{2} e^{2 i \\phi} \\neq 0 \\\\0 & \\text{otherwise} \\end{cases}\\right) e^{- i \\phi}}{4}\\\\\\frac{i \\epsilon_{1}^{2} \\left(\\begin{cases} \\frac{1 - \\cos{\\left(\\theta \\right)}}{\\theta} & \\text{for}\\: \\theta^{2} e^{2 i \\phi} \\neq 0 \\\\0 & \\text{otherwise} \\end{cases}\\right) e^{i \\phi}}{4} & - \\frac{\\epsilon_{1}^{2} \\left(\\begin{cases} \\frac{\\theta + \\sin{\\left(\\theta \\right)}}{2 \\theta} & \\text{for}\\: \\theta > 0 \\vee \\theta < 0 \\\\1 & \\text{otherwise} \\end{cases}\\right)}{2}\\end{matrix}\\right]$"
      ],
      "text/plain": [
       "Matrix([\n",
       "[       -epsilon_1**2*Piecewise(((theta - sin(theta))/(2*theta), (theta > 0) | (theta < 0)), (0, True))/2, -I*epsilon_1**2*Piecewise(((1 - cos(theta))/theta, Ne(theta**2*exp(2*I*phi), 0)), (0, True))*exp(-I*phi)/4],\n",
       "[I*epsilon_1**2*Piecewise(((1 - cos(theta))/theta, Ne(theta**2*exp(2*I*phi), 0)), (0, True))*exp(I*phi)/4,          -epsilon_1**2*Piecewise(((theta + sin(theta))/(2*theta), (theta > 0) | (theta < 0)), (1, True))/2]])"
      ]
     },
     "metadata": {},
     "output_type": "display_data"
    }
   ],
   "source": [
    "\n",
    "# Define symbols\n",
    "s, theta, phi = sp.symbols('s theta phi', real=True)\n",
    "epsilon_1 = sp.symbols('epsilon_1', real=True)\n",
    "\n",
    "# Your symbolic sigma_minus_s (2x2 matrix), assumed already computed\n",
    "# sigma_minus_s = ...\n",
    "# Hermitian conjugate\n",
    "sigma_minus_s_dag = sigma_minus_s.H\n",
    "\n",
    "\n",
    "# Compute L†L and simplify\n",
    "product = sp.simplify(sigma_minus_s_dag * sigma_minus_s)\n",
    "print(\"Inner product (L's) = \")\n",
    "display(product)\n",
    "\n",
    "# Integrate each element of the product matrix from s = 0 to 1\n",
    "integrated = sp.Matrix(2, 2, lambda i, j: sp.simplify(sp.integrate(product[i, j], (s, 0, 1))))\n",
    "display(integrated)\n",
    "\n",
    "# Extract raw det1, det3 directly (diagonal)\n",
    "det1 = sp.simplify(integrated[1, 1])  # lower-right\n",
    "det3 = sp.simplify(integrated[0, 0])  # upper-left\n",
    "\n",
    "# Compute the off-diagonal term\n",
    "off_diag = sp.simplify(integrated[0, 1])\n",
    "\n",
    "# Define the known complex prefactor explicitly\n",
    "prefactor = -sp.I / 2 * sp.exp(-sp.I * phi)\n",
    "\n",
    "# Isolate the real-valued part of det2 by factoring out the prefactor\n",
    "# Multiply both sides symbolically instead of dividing\n",
    "det2 = sp.simplify(sp.trigsimp(off_diag / prefactor))\n",
    "det2 = sp.simplify(sp.trigsimp(det2.rewrite(sp.cos)))\n",
    "\n",
    "\n",
    "\n",
    "# Construct Λ matrix in canonical Hermitian form\n",
    "Λ = (-epsilon_1**2)/2 * sp.Matrix([\n",
    "    [det1,  sp.I/2 * sp.exp(-sp.I * phi) * det2],\n",
    "    [-sp.I/2 * sp.exp(sp.I * phi) * det2, det3]\n",
    "])\n",
    "\n",
    "# Display results\n",
    "display(sp.Eq(sp.Symbol('det1'), det1))\n",
    "display(sp.Eq(sp.Symbol('det2'), det2))\n",
    "display(sp.Eq(sp.Symbol('det3'), det3))\n",
    "display(sp.Symbol('Λ ='), Λ)\n"
   ]
  },
  {
   "cell_type": "markdown",
   "id": "ec39ad02",
   "metadata": {},
   "source": [
    "### Variances and covariances for relaxation Itô processes depending on Z(t)\n",
    "**Dephasing Noise — $ \\sigma_z $ Channel**\n",
    "Pure dephasing (phase damping) is modeled via a Lindblad operator:\n",
    "$$\n",
    "L_\\phi(s) = \\sqrt{\\frac{1}{T_2}} \\, \\sigma_z(s),\n",
    "$$\n",
    "where $ \\sigma_z(s) $ is the Pauli-Z operator in the interaction picture.\n",
    "\n",
    "As with other stochastic terms, we expand this in second-order Itô integrals. The statistical quantities used to build the covariance matrix are:\n",
    "$$\n",
    "\\begin{aligned}\n",
    "\\mathbb{V}[\\mathcal{I}_1] &= \\frac{2\\theta + \\sin(2\\theta)}{4\\theta}, \\\\\n",
    "\\mathbb{V}[\\mathcal{I}_2] &= \\frac{2\\theta - \\sin(2\\theta)}{4\\theta}, \\\\\n",
    "\\text{Cov}[\\mathcal{I}_1, \\mathcal{I}_2] &= \\frac{\\sin^2(\\theta)}{2\\theta}.\n",
    "\\end{aligned}\n",
    "$$\n",
    "\n",
    "This results in a 2×2 Hermitian contribution matrix $ \\texttt{Ip} $, scaled by the dephasing amplitude:\n",
    "$$\n",
    "\\epsilon_\\phi = \\sqrt{\\frac{1}{2} \\left( \\frac{t_g}{T_2} - \\frac{t_g}{2T_1} \\right)}.\n",
    "$$"
   ]
  },
  {
   "cell_type": "code",
   "execution_count": 40,
   "id": "553a39cb",
   "metadata": {},
   "outputs": [
    {
     "data": {
      "text/latex": [
       "$\\displaystyle Var_{Z1} = \\begin{cases} \\frac{2 \\theta + \\sin{\\left(2 \\theta \\right)}}{4 \\theta} & \\text{for}\\: \\theta > 0 \\vee \\theta < 0 \\\\1 & \\text{otherwise} \\end{cases}$"
      ],
      "text/plain": [
       "Eq(Var_Z1, Piecewise(((2*theta + sin(2*theta))/(4*theta), (theta > 0) | (theta < 0)), (1, True)))"
      ]
     },
     "metadata": {},
     "output_type": "display_data"
    },
    {
     "data": {
      "text/latex": [
       "$\\displaystyle Var_{Z2} = \\begin{cases} \\frac{\\left(2 \\theta - \\sin{\\left(2 \\theta \\right)}\\right) \\cos^{2}{\\left(\\phi \\right)}}{4 \\theta} & \\text{for}\\: \\theta > 0 \\vee \\theta < 0 \\\\0 & \\text{otherwise} \\end{cases}$"
      ],
      "text/plain": [
       "Eq(Var_Z2, Piecewise(((2*theta - sin(2*theta))*cos(phi)**2/(4*theta), (theta > 0) | (theta < 0)), (0, True)))"
      ]
     },
     "metadata": {},
     "output_type": "display_data"
    },
    {
     "data": {
      "text/latex": [
       "$\\displaystyle Cov_{Z12} = \\begin{cases} \\frac{\\sin^{2}{\\left(\\theta \\right)} \\cos{\\left(\\phi \\right)}}{2 \\theta} & \\text{for}\\: \\theta > 0 \\vee \\theta < 0 \\\\0 & \\text{otherwise} \\end{cases}$"
      ],
      "text/plain": [
       "Eq(Cov_Z12, Piecewise((sin(theta)**2*cos(phi)/(2*theta), (theta > 0) | (theta < 0)), (0, True)))"
      ]
     },
     "metadata": {},
     "output_type": "display_data"
    },
    {
     "data": {
      "text/latex": [
       "$\\displaystyle f_{Zz} = \\cos{\\left(s \\theta \\right)}$"
      ],
      "text/plain": [
       "Eq(f_Zz, cos(s*theta))"
      ]
     },
     "metadata": {},
     "output_type": "display_data"
    },
    {
     "data": {
      "text/latex": [
       "$\\displaystyle f_{Zy} = \\sin{\\left(s \\theta \\right)} \\cos{\\left(\\phi \\right)}$"
      ],
      "text/plain": [
       "Eq(f_Zy, sin(s*theta)*cos(phi))"
      ]
     },
     "metadata": {},
     "output_type": "display_data"
    }
   ],
   "source": [
    "Z_decomp = pauli_decomposition(Z_s, paulis)\n",
    "\n",
    "# Compute variances/covariance\n",
    "def var_and_cov(decomp):\n",
    "    fz = decomp['Z']\n",
    "    fy = decomp['Y']\n",
    "    var_z = sp.integrate(fz**2, (s, 0, 1))\n",
    "    var_y = sp.integrate(fy**2, (s, 0, 1))\n",
    "    cov_zy = sp.integrate(fz * fy, (s, 0, 1))\n",
    "    return fz, fy, sp.simplify(var_z), sp.simplify(var_y), sp.simplify(cov_zy)\n",
    "\n",
    "fZz, fZy, var_Z, var_Y, cov_ZY = var_and_cov(Z_decomp)\n",
    "\n",
    "fZz = sp.simplify(fZz)\n",
    "fZy = sp.simplify(fZy)\n",
    "\n",
    "var_Z = sp.trigsimp(var_Z, trig=True)\n",
    "var_Z = var_Z.rewrite(sp.sin(2*theta))  # Force rewrite if needed\n",
    "var_Z = sp.simplify(var_Z)\n",
    "\n",
    "Var_Z2_sin2theta = sp.trigsimp(var_Y, trig=True)\n",
    "Var_Z2_sin2theta = Var_Z2_sin2theta.rewrite(sp.sin(2*theta))  # Force rewrite if needed\n",
    "Var_Z2_sin2theta = sp.simplify(Var_Z2_sin2theta)\n",
    "\n",
    "# Display results\n",
    "display(sp.Eq(sp.Symbol(\"Var_Z1\"), var_Z))\n",
    "display(sp.Eq(sp.Symbol(\"Var_Z2\"), Var_Z2_sin2theta))\n",
    "display(sp.Eq(sp.Symbol(\"Cov_Z12\"), cov_ZY))\n",
    "\n",
    "display(sp.Eq(sp.Symbol(\"f_Zz\"), fZz))\n",
    "display(sp.Eq(sp.Symbol(\"f_Zy\"), fZy))"
   ]
  },
  {
   "cell_type": "markdown",
   "id": "591efd43",
   "metadata": {},
   "source": [
    "---\n"
   ]
  }
 ],
 "metadata": {
  "kernelspec": {
   "display_name": "Python 3",
   "language": "python",
   "name": "python3"
  },
  "language_info": {
   "codemirror_mode": {
    "name": "ipython",
    "version": 3
   },
   "file_extension": ".py",
   "mimetype": "text/x-python",
   "name": "python",
   "nbconvert_exporter": "python",
   "pygments_lexer": "ipython3",
   "version": "3.12.3"
  }
 },
 "nbformat": 4,
 "nbformat_minor": 5
}
