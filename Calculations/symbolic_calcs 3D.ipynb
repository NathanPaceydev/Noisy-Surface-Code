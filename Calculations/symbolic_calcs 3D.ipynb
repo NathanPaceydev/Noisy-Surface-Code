{
 "cells": [
  {
   "cell_type": "markdown",
   "id": "b0dbb2ff",
   "metadata": {},
   "source": [
    "## Calculating Symbolic 3D expressions\n",
    "$$ U = cos(\\theta s /2) I + i sin(\\theta s /2) R $$\n",
    "Where $$ R_{xyz} = sin(\\psi) cos(\\phi) X + sin(\\psi) sin(\\phi) Y + cos(\\psi) Z $$"
   ]
  },
  {
   "cell_type": "code",
   "execution_count": 1,
   "id": "b6cab5ff",
   "metadata": {},
   "outputs": [],
   "source": [
    "import sympy as sp\n",
    "import numpy as np\n",
    "from numpy import exp, sqrt, array\n",
    "from numpy.random import multivariate_normal"
   ]
  },
  {
   "cell_type": "code",
   "execution_count": 2,
   "id": "10c160ee",
   "metadata": {},
   "outputs": [],
   "source": [
    "# === Symbols ===\n",
    "theta, s, phi, psi = sp.symbols('theta s phi psi', real=True)\n",
    "alpha = s * theta / 2\n",
    "\n",
    "# === Pauli Matrices and Identity ===\n",
    "I2 = sp.eye(2)\n",
    "X = sp.Matrix([[0, 1], [1, 0]])\n",
    "Y = sp.Matrix([[0, -sp.I], [sp.I, 0]])\n",
    "Z = sp.Matrix([[1, 0], [0, -1]])\n",
    "\n",
    "R = (\n",
    "    sp.sin(psi) * sp.cos(phi) * X +\n",
    "    sp.sin(psi) * sp.sin(phi) * Y +\n",
    "    sp.cos(psi) * Z\n",
    ")\n",
    "\n",
    "U = sp.cos(alpha) * I2 - sp.I * sp.sin(alpha) * R\n",
    "U_dag = U.H"
   ]
  },
  {
   "cell_type": "markdown",
   "id": "db090cb2",
   "metadata": {},
   "source": [
    "---\n",
    "## Symbolic Calculations ##"
   ]
  },
  {
   "cell_type": "markdown",
   "id": "93bbfe10",
   "metadata": {},
   "source": [
    "Find components in X Y Z"
   ]
  },
  {
   "cell_type": "code",
   "execution_count": 3,
   "id": "b434036f",
   "metadata": {},
   "outputs": [],
   "source": [
    "def pauli_decomposition(Z_s ,paulis):\n",
    "    components = {}\n",
    "    for label, sigma in paulis.items():\n",
    "        coeff = (Z_s * sigma).trace() / 2\n",
    "        components[label] = sp.simplify(coeff)\n",
    "    return components\n",
    "\n",
    "paulis = {'I': I2, 'X': X, 'Y': Y, 'Z': Z}\n"
   ]
  },
  {
   "cell_type": "code",
   "execution_count": 4,
   "id": "8ed30df2",
   "metadata": {},
   "outputs": [],
   "source": [
    "def fully_simplify_pauli_decomposition(decomp, collect_vars=None):\n",
    "    \"\"\"\n",
    "    Deeply simplify and factor a symbolic Pauli decomposition dictionary.\n",
    "\n",
    "    Parameters:\n",
    "        decomp (dict): output from pauli_decomposition\n",
    "        collect_vars (list): list of sympy symbols to factor/collect\n",
    "\n",
    "    Returns:\n",
    "        dict: simplified and factored expressions\n",
    "    \"\"\"\n",
    "    simplified = {}\n",
    "    for pauli, expr in decomp.items():\n",
    "        # Step-by-step simplification\n",
    "        expr = sp.expand_trig(expr)\n",
    "        expr = sp.trigsimp(expr)\n",
    "        expr = sp.expand(expr)\n",
    "        expr = sp.powsimp(expr, force=True)\n",
    "        expr = sp.simplify(expr)\n",
    "        expr = sp.expand_complex(expr)\n",
    "\n",
    "        # Collect φ, ψ, or any variables provided\n",
    "        if collect_vars:\n",
    "            for var in collect_vars:\n",
    "                expr = sp.collect(expr, var)\n",
    "                if isinstance(var, sp.Basic):\n",
    "                    expr = sp.collect(expr, sp.exp(sp.I * var))\n",
    "                    expr = sp.collect(expr, sp.exp(-sp.I * var))\n",
    "        \n",
    "        simplified[pauli] = expr\n",
    "    return simplified\n"
   ]
  },
  {
   "cell_type": "markdown",
   "id": "a2ac7fad",
   "metadata": {},
   "source": [
    "## Z(t) Component ##"
   ]
  },
  {
   "cell_type": "code",
   "execution_count": 5,
   "id": "d78f55e8",
   "metadata": {},
   "outputs": [
    {
     "data": {
      "text/latex": [
       "$\\displaystyle \\left[\\begin{matrix}- 2 \\sin^{2}{\\left(\\psi \\right)} \\sin^{2}{\\left(\\frac{s \\theta}{2} \\right)} + 1 & 2 i \\left(i \\sin{\\left(\\phi \\right)} - \\cos{\\left(\\phi \\right)}\\right) \\left(i \\sin{\\left(\\frac{s \\theta}{2} \\right)} \\cos{\\left(\\psi \\right)} + \\cos{\\left(\\frac{s \\theta}{2} \\right)}\\right) \\sin{\\left(\\psi \\right)} \\sin{\\left(\\frac{s \\theta}{2} \\right)}\\\\- 2 i \\left(i \\sin{\\left(\\frac{s \\theta}{2} \\right)} \\cos{\\left(\\psi \\right)} - \\cos{\\left(\\frac{s \\theta}{2} \\right)}\\right) e^{i \\phi} \\sin{\\left(\\psi \\right)} \\sin{\\left(\\frac{s \\theta}{2} \\right)} & 2 \\sin^{2}{\\left(\\psi \\right)} \\sin^{2}{\\left(\\frac{s \\theta}{2} \\right)} - 1\\end{matrix}\\right]$"
      ],
      "text/plain": [
       "Matrix([\n",
       "[                                                -2*sin(psi)**2*sin(s*theta/2)**2 + 1, 2*I*(I*sin(phi) - cos(phi))*(I*sin(s*theta/2)*cos(psi) + cos(s*theta/2))*sin(psi)*sin(s*theta/2)],\n",
       "[-2*I*(I*sin(s*theta/2)*cos(psi) - cos(s*theta/2))*exp(I*phi)*sin(psi)*sin(s*theta/2),                                                              2*sin(psi)**2*sin(s*theta/2)**2 - 1]])"
      ]
     },
     "execution_count": 5,
     "metadata": {},
     "output_type": "execute_result"
    }
   ],
   "source": [
    "Z_s = U_dag * Z * U\n",
    "Z_s = sp.simplify(Z_s)\n",
    "Z_s = sp.expand_trig(Z_s)\n",
    "Z_s = sp.trigsimp(Z_s)\n",
    "Z_s"
   ]
  },
  {
   "cell_type": "code",
   "execution_count": 6,
   "id": "bf626ee7",
   "metadata": {},
   "outputs": [
    {
     "data": {
      "text/latex": [
       "$\\displaystyle \\left\\{ i : 0, \\  X : i \\left(\\left(i \\sin{\\left(\\phi \\right)} - \\cos{\\left(\\phi \\right)}\\right) \\left(i \\sin{\\left(\\frac{s \\theta}{2} \\right)} \\cos{\\left(\\psi \\right)} + \\cos{\\left(\\frac{s \\theta}{2} \\right)}\\right) - \\left(i \\sin{\\left(\\frac{s \\theta}{2} \\right)} \\cos{\\left(\\psi \\right)} - \\cos{\\left(\\frac{s \\theta}{2} \\right)}\\right) e^{i \\phi}\\right) \\sin{\\left(\\psi \\right)} \\sin{\\left(\\frac{s \\theta}{2} \\right)}, \\  Y : \\left(- \\left(i \\sin{\\left(\\phi \\right)} - \\cos{\\left(\\phi \\right)}\\right) \\left(i \\sin{\\left(\\frac{s \\theta}{2} \\right)} \\cos{\\left(\\psi \\right)} + \\cos{\\left(\\frac{s \\theta}{2} \\right)}\\right) + \\left(- i \\sin{\\left(\\frac{s \\theta}{2} \\right)} \\cos{\\left(\\psi \\right)} + \\cos{\\left(\\frac{s \\theta}{2} \\right)}\\right) e^{i \\phi}\\right) \\sin{\\left(\\psi \\right)} \\sin{\\left(\\frac{s \\theta}{2} \\right)}, \\  Z : - 2 \\sin^{2}{\\left(\\psi \\right)} \\sin^{2}{\\left(\\frac{s \\theta}{2} \\right)} + 1\\right\\}$"
      ],
      "text/plain": [
       "{I: 0, X: I*((I*sin(phi) - cos(phi))*(I*sin(s*theta/2)*cos(psi) + cos(s*theta/2)) - (I*sin(s*theta/2)*cos(psi) - cos(s*theta/2))*exp(I*phi))*sin(psi)*sin(s*theta/2), Y: (-(I*sin(phi) - cos(phi))*(I*sin(s*theta/2)*cos(psi) + cos(s*theta/2)) + (-I*sin(s*theta/2)*cos(psi) + cos(s*theta/2))*exp(I*phi))*sin(psi)*sin(s*theta/2), Z: -2*sin(psi)**2*sin(s*theta/2)**2 + 1}"
      ]
     },
     "execution_count": 6,
     "metadata": {},
     "output_type": "execute_result"
    }
   ],
   "source": [
    "Z_s_decomp = pauli_decomposition(Z_s, paulis)\n",
    "Z_s_decomp = sp.simplify(Z_s_decomp)\n",
    "Z_s_decomp = sp.trigsimp(Z_s_decomp)\n",
    "Z_s_decomp"
   ]
  },
  {
   "cell_type": "code",
   "execution_count": 7,
   "id": "4bed7270",
   "metadata": {},
   "outputs": [
    {
     "data": {
      "text/plain": [
       "{'I': 0,\n",
       " 'X': (-2*sin(phi)*cos(s*theta/2) + 2*sin(s*theta/2)*cos(phi)*cos(psi))*sin(psi)*sin(s*theta/2),\n",
       " 'Y': (2*sin(phi)*sin(s*theta/2)*cos(psi) + 2*cos(phi)*cos(s*theta/2))*sin(psi)*sin(s*theta/2),\n",
       " 'Z': -2*sin(psi)**2*sin(s*theta/2)**2 + 1}"
      ]
     },
     "execution_count": 7,
     "metadata": {},
     "output_type": "execute_result"
    }
   ],
   "source": [
    "Z_s_decomp = pauli_decomposition(Z_s, paulis)\n",
    "\n",
    "# Clean and factor using φ and ψ\n",
    "Z_s_decomp_cleaned = fully_simplify_pauli_decomposition(\n",
    "    Z_s_decomp,\n",
    "    collect_vars=[phi, psi, sp.sin(phi), sp.cos(phi), sp.sin(psi), sp.cos(psi)]\n",
    ")\n",
    "Z_s_decomp_cleaned"
   ]
  },
  {
   "cell_type": "markdown",
   "id": "dbe94cdd",
   "metadata": {},
   "source": [
    "Finding X component"
   ]
  },
  {
   "cell_type": "code",
   "execution_count": 8,
   "id": "8a8b76b7",
   "metadata": {},
   "outputs": [
    {
     "data": {
      "text/latex": [
       "$\\displaystyle \\left(- 2 \\sin{\\left(\\phi \\right)} \\cos{\\left(\\frac{s \\theta}{2} \\right)} + 2 \\sin{\\left(\\frac{s \\theta}{2} \\right)} \\cos{\\left(\\phi \\right)} \\cos{\\left(\\psi \\right)}\\right) \\sin{\\left(\\psi \\right)} \\sin{\\left(\\frac{s \\theta}{2} \\right)}$"
      ],
      "text/plain": [
       "(-2*sin(phi)*cos(s*theta/2) + 2*sin(s*theta/2)*cos(phi)*cos(psi))*sin(psi)*sin(s*theta/2)"
      ]
     },
     "execution_count": 8,
     "metadata": {},
     "output_type": "execute_result"
    }
   ],
   "source": [
    "Z_s_decomp_cleaned['X']\n"
   ]
  },
  {
   "cell_type": "markdown",
   "id": "434d4849",
   "metadata": {},
   "source": [
    "Finding Y component"
   ]
  },
  {
   "cell_type": "code",
   "execution_count": 9,
   "id": "1085bbc5",
   "metadata": {},
   "outputs": [
    {
     "data": {
      "text/latex": [
       "$\\displaystyle \\left(2 \\sin{\\left(\\phi \\right)} \\sin{\\left(\\frac{s \\theta}{2} \\right)} \\cos{\\left(\\psi \\right)} + 2 \\cos{\\left(\\phi \\right)} \\cos{\\left(\\frac{s \\theta}{2} \\right)}\\right) \\sin{\\left(\\psi \\right)} \\sin{\\left(\\frac{s \\theta}{2} \\right)}$"
      ],
      "text/plain": [
       "(2*sin(phi)*sin(s*theta/2)*cos(psi) + 2*cos(phi)*cos(s*theta/2))*sin(psi)*sin(s*theta/2)"
      ]
     },
     "execution_count": 9,
     "metadata": {},
     "output_type": "execute_result"
    }
   ],
   "source": [
    "Z_s_decomp_cleaned['Y']"
   ]
  },
  {
   "cell_type": "markdown",
   "id": "e8ab3b41",
   "metadata": {},
   "source": [
    "Finding Y component"
   ]
  },
  {
   "cell_type": "code",
   "execution_count": 10,
   "id": "646cbe07",
   "metadata": {},
   "outputs": [
    {
     "data": {
      "text/latex": [
       "$\\displaystyle - 2 \\sin^{2}{\\left(\\psi \\right)} \\sin^{2}{\\left(\\frac{s \\theta}{2} \\right)} + 1$"
      ],
      "text/plain": [
       "-2*sin(psi)**2*sin(s*theta/2)**2 + 1"
      ]
     },
     "execution_count": 10,
     "metadata": {},
     "output_type": "execute_result"
    }
   ],
   "source": [
    "Z_s_decomp_cleaned['Z']"
   ]
  },
  {
   "cell_type": "markdown",
   "id": "8a9944d7",
   "metadata": {},
   "source": [
    "## Y(t) Component ##"
   ]
  },
  {
   "cell_type": "code",
   "execution_count": 11,
   "id": "30672406",
   "metadata": {},
   "outputs": [
    {
     "data": {
      "text/latex": [
       "$\\displaystyle \\left[\\begin{matrix}2 \\left(\\sin{\\left(\\phi \\right)} \\sin{\\left(\\frac{s \\theta}{2} \\right)} \\cos{\\left(\\psi \\right)} - \\cos{\\left(\\phi \\right)} \\cos{\\left(\\frac{s \\theta}{2} \\right)}\\right) \\sin{\\left(\\psi \\right)} \\sin{\\left(\\frac{s \\theta}{2} \\right)} & i \\left(- \\left(i \\sin{\\left(\\frac{s \\theta}{2} \\right)} \\cos{\\left(\\psi \\right)} + \\cos{\\left(\\frac{s \\theta}{2} \\right)}\\right)^{2} + e^{- 2 i \\phi} \\sin^{2}{\\left(\\psi \\right)} \\sin^{2}{\\left(\\frac{s \\theta}{2} \\right)}\\right)\\\\i \\left(\\left(i \\sin{\\left(\\frac{s \\theta}{2} \\right)} \\cos{\\left(\\psi \\right)} - \\cos{\\left(\\frac{s \\theta}{2} \\right)}\\right)^{2} - e^{2 i \\phi} \\sin^{2}{\\left(\\psi \\right)} \\sin^{2}{\\left(\\frac{s \\theta}{2} \\right)}\\right) & 2 \\left(- \\sin{\\left(\\phi \\right)} \\sin{\\left(\\frac{s \\theta}{2} \\right)} \\cos{\\left(\\psi \\right)} + \\cos{\\left(\\phi \\right)} \\cos{\\left(\\frac{s \\theta}{2} \\right)}\\right) \\sin{\\left(\\psi \\right)} \\sin{\\left(\\frac{s \\theta}{2} \\right)}\\end{matrix}\\right]$"
      ],
      "text/plain": [
       "Matrix([\n",
       "[          2*(sin(phi)*sin(s*theta/2)*cos(psi) - cos(phi)*cos(s*theta/2))*sin(psi)*sin(s*theta/2), I*(-(I*sin(s*theta/2)*cos(psi) + cos(s*theta/2))**2 + exp(-2*I*phi)*sin(psi)**2*sin(s*theta/2)**2)],\n",
       "[I*((I*sin(s*theta/2)*cos(psi) - cos(s*theta/2))**2 - exp(2*I*phi)*sin(psi)**2*sin(s*theta/2)**2),            2*(-sin(phi)*sin(s*theta/2)*cos(psi) + cos(phi)*cos(s*theta/2))*sin(psi)*sin(s*theta/2)]])"
      ]
     },
     "execution_count": 11,
     "metadata": {},
     "output_type": "execute_result"
    }
   ],
   "source": [
    "Y_s = U_dag * Y * U\n",
    "Y_s = sp.simplify(Y_s)\n",
    "Y_s = sp.expand_trig(Y_s)\n",
    "Y_s = sp.trigsimp(Y_s)\n",
    "Y_s"
   ]
  },
  {
   "cell_type": "code",
   "execution_count": 12,
   "id": "5dd177bc",
   "metadata": {},
   "outputs": [
    {
     "data": {
      "text/latex": [
       "$\\displaystyle \\left\\{ i : 0, \\  X : - \\frac{i e^{2 i \\phi} \\sin^{2}{\\left(\\psi \\right)} \\sin^{2}{\\left(\\frac{s \\theta}{2} \\right)}}{2} + \\sin{\\left(s \\theta \\right)} \\cos{\\left(\\psi \\right)} + \\frac{i e^{- 2 i \\phi} \\sin^{2}{\\left(\\psi \\right)} \\sin^{2}{\\left(\\frac{s \\theta}{2} \\right)}}{2}, \\  Y : - \\frac{e^{2 i \\phi} \\sin^{2}{\\left(\\psi \\right)} \\sin^{2}{\\left(\\frac{s \\theta}{2} \\right)}}{2} - \\sin^{2}{\\left(\\frac{s \\theta}{2} \\right)} \\cos^{2}{\\left(\\psi \\right)} + \\cos^{2}{\\left(\\frac{s \\theta}{2} \\right)} - \\frac{e^{- 2 i \\phi} \\sin^{2}{\\left(\\psi \\right)} \\sin^{2}{\\left(\\frac{s \\theta}{2} \\right)}}{2}, \\  Z : 2 \\left(\\sin{\\left(\\phi \\right)} \\sin{\\left(\\frac{s \\theta}{2} \\right)} \\cos{\\left(\\psi \\right)} - \\cos{\\left(\\phi \\right)} \\cos{\\left(\\frac{s \\theta}{2} \\right)}\\right) \\sin{\\left(\\psi \\right)} \\sin{\\left(\\frac{s \\theta}{2} \\right)}\\right\\}$"
      ],
      "text/plain": [
       "{I: 0, X: -I*exp(2*I*phi)*sin(psi)**2*sin(s*theta/2)**2/2 + sin(s*theta)*cos(psi) + I*exp(-2*I*phi)*sin(psi)**2*sin(s*theta/2)**2/2, Y: -exp(2*I*phi)*sin(psi)**2*sin(s*theta/2)**2/2 - sin(s*theta/2)**2*cos(psi)**2 + cos(s*theta/2)**2 - exp(-2*I*phi)*sin(psi)**2*sin(s*theta/2)**2/2, Z: 2*(sin(phi)*sin(s*theta/2)*cos(psi) - cos(phi)*cos(s*theta/2))*sin(psi)*sin(s*theta/2)}"
      ]
     },
     "execution_count": 12,
     "metadata": {},
     "output_type": "execute_result"
    }
   ],
   "source": [
    "Y_s_decomp = pauli_decomposition(Y_s, paulis)\n",
    "Y_s_decomp = sp.simplify(Y_s_decomp)\n",
    "Y_s_decomp = sp.trigsimp(Y_s_decomp)\n",
    "Y_s_decomp"
   ]
  },
  {
   "cell_type": "code",
   "execution_count": 13,
   "id": "b5a7dffd",
   "metadata": {},
   "outputs": [
    {
     "data": {
      "text/plain": [
       "{'I': 0,\n",
       " 'X': sin(2*phi)*sin(psi)**2*sin(s*theta/2)**2 + sin(s*theta)*cos(psi),\n",
       " 'Y': -sin(psi)**2*sin(s*theta/2)**2*cos(2*phi) - sin(s*theta/2)**2*cos(psi)**2 + cos(s*theta/2)**2,\n",
       " 'Z': 2*(sin(phi)*sin(s*theta/2)*cos(psi) - cos(phi)*cos(s*theta/2))*sin(psi)*sin(s*theta/2)}"
      ]
     },
     "execution_count": 13,
     "metadata": {},
     "output_type": "execute_result"
    }
   ],
   "source": [
    "Y_s_decomp = pauli_decomposition(Y_s, paulis)\n",
    "\n",
    "# Clean and factor using φ and ψ\n",
    "Y_s_decomp_cleaned = fully_simplify_pauli_decomposition(\n",
    "    Y_s_decomp,\n",
    "    collect_vars=[phi, psi, sp.sin(phi), sp.cos(phi), sp.sin(psi), sp.cos(psi)]\n",
    ")\n",
    "Y_s_decomp_cleaned"
   ]
  },
  {
   "cell_type": "code",
   "execution_count": 14,
   "id": "68917c0d",
   "metadata": {},
   "outputs": [
    {
     "data": {
      "text/latex": [
       "$\\displaystyle \\sin{\\left(2 \\phi \\right)} \\sin^{2}{\\left(\\psi \\right)} \\sin^{2}{\\left(\\frac{s \\theta}{2} \\right)} + \\sin{\\left(s \\theta \\right)} \\cos{\\left(\\psi \\right)}$"
      ],
      "text/plain": [
       "sin(2*phi)*sin(psi)**2*sin(s*theta/2)**2 + sin(s*theta)*cos(psi)"
      ]
     },
     "execution_count": 14,
     "metadata": {},
     "output_type": "execute_result"
    }
   ],
   "source": [
    "Y_s_decomp_cleaned['X']\n"
   ]
  },
  {
   "cell_type": "code",
   "execution_count": 15,
   "id": "f42e2bb5",
   "metadata": {},
   "outputs": [
    {
     "data": {
      "text/latex": [
       "$\\displaystyle - \\sin^{2}{\\left(\\psi \\right)} \\sin^{2}{\\left(\\frac{s \\theta}{2} \\right)} \\cos{\\left(2 \\phi \\right)} - \\sin^{2}{\\left(\\frac{s \\theta}{2} \\right)} \\cos^{2}{\\left(\\psi \\right)} + \\cos^{2}{\\left(\\frac{s \\theta}{2} \\right)}$"
      ],
      "text/plain": [
       "-sin(psi)**2*sin(s*theta/2)**2*cos(2*phi) - sin(s*theta/2)**2*cos(psi)**2 + cos(s*theta/2)**2"
      ]
     },
     "execution_count": 15,
     "metadata": {},
     "output_type": "execute_result"
    }
   ],
   "source": [
    "Y_s_decomp_cleaned['Y']"
   ]
  },
  {
   "cell_type": "code",
   "execution_count": 16,
   "id": "0ef05a22",
   "metadata": {},
   "outputs": [
    {
     "data": {
      "text/latex": [
       "$\\displaystyle 2 \\left(\\sin{\\left(\\phi \\right)} \\sin{\\left(\\frac{s \\theta}{2} \\right)} \\cos{\\left(\\psi \\right)} - \\cos{\\left(\\phi \\right)} \\cos{\\left(\\frac{s \\theta}{2} \\right)}\\right) \\sin{\\left(\\psi \\right)} \\sin{\\left(\\frac{s \\theta}{2} \\right)}$"
      ],
      "text/plain": [
       "2*(sin(phi)*sin(s*theta/2)*cos(psi) - cos(phi)*cos(s*theta/2))*sin(psi)*sin(s*theta/2)"
      ]
     },
     "execution_count": 16,
     "metadata": {},
     "output_type": "execute_result"
    }
   ],
   "source": [
    "Y_s_decomp_cleaned['Z']"
   ]
  },
  {
   "cell_type": "markdown",
   "id": "56960fdf",
   "metadata": {},
   "source": [
    "## X(t) Component ##"
   ]
  },
  {
   "cell_type": "code",
   "execution_count": 17,
   "id": "0f5ca6f0",
   "metadata": {},
   "outputs": [
    {
     "data": {
      "text/latex": [
       "$\\displaystyle \\left[\\begin{matrix}2 \\left(\\sin{\\left(\\phi \\right)} \\cos{\\left(\\frac{s \\theta}{2} \\right)} + \\sin{\\left(\\frac{s \\theta}{2} \\right)} \\cos{\\left(\\phi \\right)} \\cos{\\left(\\psi \\right)}\\right) \\sin{\\left(\\psi \\right)} \\sin{\\left(\\frac{s \\theta}{2} \\right)} & \\left(i \\sin{\\left(\\frac{s \\theta}{2} \\right)} \\cos{\\left(\\psi \\right)} + \\cos{\\left(\\frac{s \\theta}{2} \\right)}\\right)^{2} + e^{- 2 i \\phi} \\sin^{2}{\\left(\\psi \\right)} \\sin^{2}{\\left(\\frac{s \\theta}{2} \\right)}\\\\\\left(i \\sin{\\left(\\frac{s \\theta}{2} \\right)} \\cos{\\left(\\psi \\right)} - \\cos{\\left(\\frac{s \\theta}{2} \\right)}\\right)^{2} + e^{2 i \\phi} \\sin^{2}{\\left(\\psi \\right)} \\sin^{2}{\\left(\\frac{s \\theta}{2} \\right)} & - 2 \\left(\\sin{\\left(\\phi \\right)} \\cos{\\left(\\frac{s \\theta}{2} \\right)} + \\sin{\\left(\\frac{s \\theta}{2} \\right)} \\cos{\\left(\\phi \\right)} \\cos{\\left(\\psi \\right)}\\right) \\sin{\\left(\\psi \\right)} \\sin{\\left(\\frac{s \\theta}{2} \\right)}\\end{matrix}\\right]$"
      ],
      "text/plain": [
       "Matrix([\n",
       "[      2*(sin(phi)*cos(s*theta/2) + sin(s*theta/2)*cos(phi)*cos(psi))*sin(psi)*sin(s*theta/2), (I*sin(s*theta/2)*cos(psi) + cos(s*theta/2))**2 + exp(-2*I*phi)*sin(psi)**2*sin(s*theta/2)**2],\n",
       "[(I*sin(s*theta/2)*cos(psi) - cos(s*theta/2))**2 + exp(2*I*phi)*sin(psi)**2*sin(s*theta/2)**2,       -2*(sin(phi)*cos(s*theta/2) + sin(s*theta/2)*cos(phi)*cos(psi))*sin(psi)*sin(s*theta/2)]])"
      ]
     },
     "execution_count": 17,
     "metadata": {},
     "output_type": "execute_result"
    }
   ],
   "source": [
    "X_s = U_dag * X * U\n",
    "X_s = sp.simplify(X_s)\n",
    "X_s = sp.expand_trig(X_s)\n",
    "X_s = sp.trigsimp(X_s)\n",
    "X_s"
   ]
  },
  {
   "cell_type": "code",
   "execution_count": 18,
   "id": "8a709394",
   "metadata": {},
   "outputs": [
    {
     "data": {
      "text/latex": [
       "$\\displaystyle \\left\\{ i : 0, \\  X : \\frac{e^{2 i \\phi} \\sin^{2}{\\left(\\psi \\right)} \\sin^{2}{\\left(\\frac{s \\theta}{2} \\right)}}{2} - \\sin^{2}{\\left(\\frac{s \\theta}{2} \\right)} \\cos^{2}{\\left(\\psi \\right)} + \\cos^{2}{\\left(\\frac{s \\theta}{2} \\right)} + \\frac{e^{- 2 i \\phi} \\sin^{2}{\\left(\\psi \\right)} \\sin^{2}{\\left(\\frac{s \\theta}{2} \\right)}}{2}, \\  Y : - \\frac{i e^{2 i \\phi} \\sin^{2}{\\left(\\psi \\right)} \\sin^{2}{\\left(\\frac{s \\theta}{2} \\right)}}{2} - \\sin{\\left(s \\theta \\right)} \\cos{\\left(\\psi \\right)} + \\frac{i e^{- 2 i \\phi} \\sin^{2}{\\left(\\psi \\right)} \\sin^{2}{\\left(\\frac{s \\theta}{2} \\right)}}{2}, \\  Z : 2 \\left(\\sin{\\left(\\phi \\right)} \\cos{\\left(\\frac{s \\theta}{2} \\right)} + \\sin{\\left(\\frac{s \\theta}{2} \\right)} \\cos{\\left(\\phi \\right)} \\cos{\\left(\\psi \\right)}\\right) \\sin{\\left(\\psi \\right)} \\sin{\\left(\\frac{s \\theta}{2} \\right)}\\right\\}$"
      ],
      "text/plain": [
       "{I: 0, X: exp(2*I*phi)*sin(psi)**2*sin(s*theta/2)**2/2 - sin(s*theta/2)**2*cos(psi)**2 + cos(s*theta/2)**2 + exp(-2*I*phi)*sin(psi)**2*sin(s*theta/2)**2/2, Y: -I*exp(2*I*phi)*sin(psi)**2*sin(s*theta/2)**2/2 - sin(s*theta)*cos(psi) + I*exp(-2*I*phi)*sin(psi)**2*sin(s*theta/2)**2/2, Z: 2*(sin(phi)*cos(s*theta/2) + sin(s*theta/2)*cos(phi)*cos(psi))*sin(psi)*sin(s*theta/2)}"
      ]
     },
     "execution_count": 18,
     "metadata": {},
     "output_type": "execute_result"
    }
   ],
   "source": [
    "X_s_decomp = pauli_decomposition(X_s, paulis)\n",
    "X_s_decomp = sp.simplify(X_s_decomp)\n",
    "X_s_decomp = sp.trigsimp(X_s_decomp)\n",
    "X_s_decomp"
   ]
  },
  {
   "cell_type": "code",
   "execution_count": 19,
   "id": "8f946f7d",
   "metadata": {},
   "outputs": [
    {
     "data": {
      "text/plain": [
       "{'I': 0,\n",
       " 'X': sin(psi)**2*sin(s*theta/2)**2*cos(2*phi) - sin(s*theta/2)**2*cos(psi)**2 + cos(s*theta/2)**2,\n",
       " 'Y': sin(2*phi)*sin(psi)**2*sin(s*theta/2)**2 - sin(s*theta)*cos(psi),\n",
       " 'Z': 2*(sin(phi)*cos(s*theta/2) + sin(s*theta/2)*cos(phi)*cos(psi))*sin(psi)*sin(s*theta/2)}"
      ]
     },
     "execution_count": 19,
     "metadata": {},
     "output_type": "execute_result"
    }
   ],
   "source": [
    "X_s_decomp = pauli_decomposition(X_s, paulis)\n",
    "\n",
    "# Clean and factor using φ and ψ\n",
    "X_s_decomp_cleaned = fully_simplify_pauli_decomposition(\n",
    "    X_s_decomp,\n",
    "    collect_vars=[phi, psi, sp.sin(phi), sp.cos(phi), sp.sin(psi), sp.cos(psi)]\n",
    ")\n",
    "X_s_decomp_cleaned"
   ]
  },
  {
   "cell_type": "code",
   "execution_count": 20,
   "id": "d22f7b4e",
   "metadata": {},
   "outputs": [
    {
     "data": {
      "text/latex": [
       "$\\displaystyle \\sin^{2}{\\left(\\psi \\right)} \\sin^{2}{\\left(\\frac{s \\theta}{2} \\right)} \\cos{\\left(2 \\phi \\right)} - \\sin^{2}{\\left(\\frac{s \\theta}{2} \\right)} \\cos^{2}{\\left(\\psi \\right)} + \\cos^{2}{\\left(\\frac{s \\theta}{2} \\right)}$"
      ],
      "text/plain": [
       "sin(psi)**2*sin(s*theta/2)**2*cos(2*phi) - sin(s*theta/2)**2*cos(psi)**2 + cos(s*theta/2)**2"
      ]
     },
     "execution_count": 20,
     "metadata": {},
     "output_type": "execute_result"
    }
   ],
   "source": [
    "X_s_decomp_cleaned['X']"
   ]
  },
  {
   "cell_type": "code",
   "execution_count": 21,
   "id": "5c65b19f",
   "metadata": {},
   "outputs": [
    {
     "data": {
      "text/latex": [
       "$\\displaystyle \\sin{\\left(2 \\phi \\right)} \\sin^{2}{\\left(\\psi \\right)} \\sin^{2}{\\left(\\frac{s \\theta}{2} \\right)} - \\sin{\\left(s \\theta \\right)} \\cos{\\left(\\psi \\right)}$"
      ],
      "text/plain": [
       "sin(2*phi)*sin(psi)**2*sin(s*theta/2)**2 - sin(s*theta)*cos(psi)"
      ]
     },
     "execution_count": 21,
     "metadata": {},
     "output_type": "execute_result"
    }
   ],
   "source": [
    "X_s_decomp_cleaned['Y']"
   ]
  },
  {
   "cell_type": "code",
   "execution_count": 22,
   "id": "83f1bbb6",
   "metadata": {},
   "outputs": [
    {
     "data": {
      "text/latex": [
       "$\\displaystyle 2 \\left(\\sin{\\left(\\phi \\right)} \\cos{\\left(\\frac{s \\theta}{2} \\right)} + \\sin{\\left(\\frac{s \\theta}{2} \\right)} \\cos{\\left(\\phi \\right)} \\cos{\\left(\\psi \\right)}\\right) \\sin{\\left(\\psi \\right)} \\sin{\\left(\\frac{s \\theta}{2} \\right)}$"
      ],
      "text/plain": [
       "2*(sin(phi)*cos(s*theta/2) + sin(s*theta/2)*cos(phi)*cos(psi))*sin(psi)*sin(s*theta/2)"
      ]
     },
     "execution_count": 22,
     "metadata": {},
     "output_type": "execute_result"
    }
   ],
   "source": [
    "X_s_decomp_cleaned['Z']"
   ]
  },
  {
   "cell_type": "markdown",
   "id": "69f57340",
   "metadata": {},
   "source": [
    "## Checking I components"
   ]
  },
  {
   "cell_type": "code",
   "execution_count": 23,
   "id": "2c51bfaf",
   "metadata": {},
   "outputs": [
    {
     "data": {
      "text/latex": [
       "$\\displaystyle \\left[\\begin{matrix}1 & 0\\\\0 & 1\\end{matrix}\\right]$"
      ],
      "text/plain": [
       "Matrix([\n",
       "[1, 0],\n",
       "[0, 1]])"
      ]
     },
     "execution_count": 23,
     "metadata": {},
     "output_type": "execute_result"
    }
   ],
   "source": [
    "I_s = U_dag * I2 * U\n",
    "I_s = sp.simplify(I_s)\n",
    "I_s = sp.expand_trig(I_s)\n",
    "I_s = sp.trigsimp(I_s)\n",
    "I_s"
   ]
  },
  {
   "cell_type": "code",
   "execution_count": 24,
   "id": "8e055524",
   "metadata": {},
   "outputs": [
    {
     "data": {
      "text/plain": [
       "{'I': 1, 'X': 0, 'Y': 0, 'Z': 0}"
      ]
     },
     "execution_count": 24,
     "metadata": {},
     "output_type": "execute_result"
    }
   ],
   "source": [
    "I_s_decomp = pauli_decomposition(I_s, paulis)\n",
    "\n",
    "# Clean and factor using φ and ψ\n",
    "I_s_decomp_cleaned = fully_simplify_pauli_decomposition(\n",
    "    I_s_decomp,\n",
    "    collect_vars=[phi, psi, sp.sin(phi), sp.cos(phi), sp.sin(psi), sp.cos(psi)]\n",
    ")\n",
    "I_s_decomp_cleaned"
   ]
  },
  {
   "cell_type": "markdown",
   "id": "13404bca",
   "metadata": {},
   "source": [
    "# Relaxation Contributions"
   ]
  },
  {
   "cell_type": "markdown",
   "id": "35891b7f",
   "metadata": {},
   "source": [
    "## $ \\sigma_- $ Channel\n",
    "$$ \\sigma^- = (X-iY)/2 $$"
   ]
  },
  {
   "cell_type": "code",
   "execution_count": 25,
   "id": "19f480c5",
   "metadata": {},
   "outputs": [
    {
     "data": {
      "text/latex": [
       "$\\displaystyle \\left[\\begin{matrix}0 & 0\\\\1 & 0\\end{matrix}\\right]$"
      ],
      "text/plain": [
       "Matrix([\n",
       "[0, 0],\n",
       "[1, 0]])"
      ]
     },
     "execution_count": 25,
     "metadata": {},
     "output_type": "execute_result"
    }
   ],
   "source": [
    "sigma_minus = (X - sp.I * Y) / 2\n",
    "sigma_minus"
   ]
  },
  {
   "cell_type": "code",
   "execution_count": 26,
   "id": "e30c1b23",
   "metadata": {},
   "outputs": [
    {
     "data": {
      "text/latex": [
       "$\\displaystyle \\left[\\begin{matrix}i \\left(i \\sin{\\left(\\phi \\right)} - \\cos{\\left(\\phi \\right)}\\right) \\left(i \\sin{\\left(\\frac{s \\theta}{2} \\right)} \\cos{\\left(\\psi \\right)} - \\cos{\\left(\\frac{s \\theta}{2} \\right)}\\right) \\sin{\\left(\\psi \\right)} \\sin{\\left(\\frac{s \\theta}{2} \\right)} & e^{- 2 i \\phi} \\sin^{2}{\\left(\\psi \\right)} \\sin^{2}{\\left(\\frac{s \\theta}{2} \\right)}\\\\\\left(i \\sin{\\left(\\frac{s \\theta}{2} \\right)} \\cos{\\left(\\psi \\right)} - \\cos{\\left(\\frac{s \\theta}{2} \\right)}\\right)^{2} & - i \\left(i \\sin{\\left(\\phi \\right)} - \\cos{\\left(\\phi \\right)}\\right) \\left(i \\sin{\\left(\\frac{s \\theta}{2} \\right)} \\cos{\\left(\\psi \\right)} - \\cos{\\left(\\frac{s \\theta}{2} \\right)}\\right) \\sin{\\left(\\psi \\right)} \\sin{\\left(\\frac{s \\theta}{2} \\right)}\\end{matrix}\\right]$"
      ],
      "text/plain": [
       "Matrix([\n",
       "[I*(I*sin(phi) - cos(phi))*(I*sin(s*theta/2)*cos(psi) - cos(s*theta/2))*sin(psi)*sin(s*theta/2),                                                     exp(-2*I*phi)*sin(psi)**2*sin(s*theta/2)**2],\n",
       "[                                               (I*sin(s*theta/2)*cos(psi) - cos(s*theta/2))**2, -I*(I*sin(phi) - cos(phi))*(I*sin(s*theta/2)*cos(psi) - cos(s*theta/2))*sin(psi)*sin(s*theta/2)]])"
      ]
     },
     "execution_count": 26,
     "metadata": {},
     "output_type": "execute_result"
    }
   ],
   "source": [
    "\n",
    "sigma_minus_s  = U_dag * sigma_minus * U\n",
    "sigma_minus_s  = sp.simplify(sigma_minus_s )\n",
    "sigma_minus_s  = sp.expand_trig(sigma_minus_s )\n",
    "sigma_minus_s  = sp.trigsimp(sigma_minus_s )\n",
    "sigma_minus_s "
   ]
  },
  {
   "cell_type": "code",
   "execution_count": 27,
   "id": "1e0ceef9",
   "metadata": {},
   "outputs": [
    {
     "data": {
      "text/latex": [
       "$\\displaystyle \\left\\{ i : 0, \\  X : \\frac{\\left(i \\sin{\\left(\\frac{s \\theta}{2} \\right)} \\cos{\\left(\\psi \\right)} - \\cos{\\left(\\frac{s \\theta}{2} \\right)}\\right)^{2}}{2} + \\frac{e^{- 2 i \\phi} \\sin^{2}{\\left(\\psi \\right)} \\sin^{2}{\\left(\\frac{s \\theta}{2} \\right)}}{2}, \\  Y : - \\frac{i \\left(i \\sin{\\left(\\frac{s \\theta}{2} \\right)} \\cos{\\left(\\psi \\right)} - \\cos{\\left(\\frac{s \\theta}{2} \\right)}\\right)^{2}}{2} + \\frac{i e^{- 2 i \\phi} \\sin^{2}{\\left(\\psi \\right)} \\sin^{2}{\\left(\\frac{s \\theta}{2} \\right)}}{2}, \\  Z : i \\left(i \\sin{\\left(\\phi \\right)} - \\cos{\\left(\\phi \\right)}\\right) \\left(i \\sin{\\left(\\frac{s \\theta}{2} \\right)} \\cos{\\left(\\psi \\right)} - \\cos{\\left(\\frac{s \\theta}{2} \\right)}\\right) \\sin{\\left(\\psi \\right)} \\sin{\\left(\\frac{s \\theta}{2} \\right)}\\right\\}$"
      ],
      "text/plain": [
       "{I: 0, X: (I*sin(s*theta/2)*cos(psi) - cos(s*theta/2))**2/2 + exp(-2*I*phi)*sin(psi)**2*sin(s*theta/2)**2/2, Y: -I*(I*sin(s*theta/2)*cos(psi) - cos(s*theta/2))**2/2 + I*exp(-2*I*phi)*sin(psi)**2*sin(s*theta/2)**2/2, Z: I*(I*sin(phi) - cos(phi))*(I*sin(s*theta/2)*cos(psi) - cos(s*theta/2))*sin(psi)*sin(s*theta/2)}"
      ]
     },
     "execution_count": 27,
     "metadata": {},
     "output_type": "execute_result"
    }
   ],
   "source": [
    "sigma_minus_s_decomp = pauli_decomposition(sigma_minus_s , paulis)\n",
    "sigma_minus_s_decomp = sp.simplify(sigma_minus_s_decomp)\n",
    "sigma_minus_s_decomp = sp.trigsimp(sigma_minus_s_decomp)\n",
    "sigma_minus_s_decomp"
   ]
  },
  {
   "cell_type": "code",
   "execution_count": 28,
   "id": "21f7f970",
   "metadata": {},
   "outputs": [
    {
     "data": {
      "text/plain": [
       "{'I': 0,\n",
       " 'X': (sin(s*theta/2)**2*cos(2*phi)/2 + sin(s*theta/2)**2/2)*sin(psi)**2 + I*(-sin(2*phi)*sin(psi)**2*sin(s*theta/2)**2/2 - sin(s*theta)*cos(psi)/2) - sin(s*theta/2)**2 + 1/2,\n",
       " 'Y': I*((sin(s*theta/2)**2*cos(2*phi)/2 - sin(s*theta/2)**2/2)*sin(psi)**2 + sin(s*theta/2)**2 - 1/2) + sin(2*phi)*sin(psi)**2*sin(s*theta/2)**2/2 - sin(s*theta)*cos(psi)/2,\n",
       " 'Z': ((sin(phi)*cos(s*theta/2) + sin(s*theta/2)*cos(phi)*cos(psi))*sin(s*theta/2) + I*(-sin(phi)*sin(s*theta/2)*cos(psi) + cos(phi)*cos(s*theta/2))*sin(s*theta/2))*sin(psi)}"
      ]
     },
     "execution_count": 28,
     "metadata": {},
     "output_type": "execute_result"
    }
   ],
   "source": [
    "sigma_minus_s_decomp = pauli_decomposition(sigma_minus_s , paulis)\n",
    "\n",
    "# Clean and factor using φ and ψ\n",
    "sigma_minus_s_decomp_cleaned = fully_simplify_pauli_decomposition(\n",
    "    sigma_minus_s_decomp,\n",
    "    collect_vars=[phi, psi, sp.sin(phi), sp.cos(phi), sp.sin(psi), sp.cos(psi)]\n",
    ")\n",
    "sigma_minus_s_decomp_cleaned"
   ]
  },
  {
   "cell_type": "code",
   "execution_count": 29,
   "id": "49a95cf6",
   "metadata": {},
   "outputs": [
    {
     "data": {
      "text/latex": [
       "$\\displaystyle \\left(\\frac{\\sin^{2}{\\left(\\frac{s \\theta}{2} \\right)} \\cos{\\left(2 \\phi \\right)}}{2} + \\frac{\\sin^{2}{\\left(\\frac{s \\theta}{2} \\right)}}{2}\\right) \\sin^{2}{\\left(\\psi \\right)} + i \\left(- \\frac{\\sin{\\left(2 \\phi \\right)} \\sin^{2}{\\left(\\psi \\right)} \\sin^{2}{\\left(\\frac{s \\theta}{2} \\right)}}{2} - \\frac{\\sin{\\left(s \\theta \\right)} \\cos{\\left(\\psi \\right)}}{2}\\right) - \\sin^{2}{\\left(\\frac{s \\theta}{2} \\right)} + \\frac{1}{2}$"
      ],
      "text/plain": [
       "(sin(s*theta/2)**2*cos(2*phi)/2 + sin(s*theta/2)**2/2)*sin(psi)**2 + I*(-sin(2*phi)*sin(psi)**2*sin(s*theta/2)**2/2 - sin(s*theta)*cos(psi)/2) - sin(s*theta/2)**2 + 1/2"
      ]
     },
     "execution_count": 29,
     "metadata": {},
     "output_type": "execute_result"
    }
   ],
   "source": [
    "sigma_minus_s_decomp_cleaned['X']"
   ]
  },
  {
   "cell_type": "code",
   "execution_count": 30,
   "id": "254d5c04",
   "metadata": {},
   "outputs": [
    {
     "data": {
      "text/latex": [
       "$\\displaystyle i \\left(\\left(\\frac{\\sin^{2}{\\left(\\frac{s \\theta}{2} \\right)} \\cos{\\left(2 \\phi \\right)}}{2} - \\frac{\\sin^{2}{\\left(\\frac{s \\theta}{2} \\right)}}{2}\\right) \\sin^{2}{\\left(\\psi \\right)} + \\sin^{2}{\\left(\\frac{s \\theta}{2} \\right)} - \\frac{1}{2}\\right) + \\frac{\\sin{\\left(2 \\phi \\right)} \\sin^{2}{\\left(\\psi \\right)} \\sin^{2}{\\left(\\frac{s \\theta}{2} \\right)}}{2} - \\frac{\\sin{\\left(s \\theta \\right)} \\cos{\\left(\\psi \\right)}}{2}$"
      ],
      "text/plain": [
       "I*((sin(s*theta/2)**2*cos(2*phi)/2 - sin(s*theta/2)**2/2)*sin(psi)**2 + sin(s*theta/2)**2 - 1/2) + sin(2*phi)*sin(psi)**2*sin(s*theta/2)**2/2 - sin(s*theta)*cos(psi)/2"
      ]
     },
     "execution_count": 30,
     "metadata": {},
     "output_type": "execute_result"
    }
   ],
   "source": [
    "sigma_minus_s_decomp_cleaned['Y']"
   ]
  },
  {
   "cell_type": "code",
   "execution_count": 31,
   "id": "c7119245",
   "metadata": {},
   "outputs": [
    {
     "data": {
      "text/latex": [
       "$\\displaystyle \\left(\\left(\\sin{\\left(\\phi \\right)} \\cos{\\left(\\frac{s \\theta}{2} \\right)} + \\sin{\\left(\\frac{s \\theta}{2} \\right)} \\cos{\\left(\\phi \\right)} \\cos{\\left(\\psi \\right)}\\right) \\sin{\\left(\\frac{s \\theta}{2} \\right)} + i \\left(- \\sin{\\left(\\phi \\right)} \\sin{\\left(\\frac{s \\theta}{2} \\right)} \\cos{\\left(\\psi \\right)} + \\cos{\\left(\\phi \\right)} \\cos{\\left(\\frac{s \\theta}{2} \\right)}\\right) \\sin{\\left(\\frac{s \\theta}{2} \\right)}\\right) \\sin{\\left(\\psi \\right)}$"
      ],
      "text/plain": [
       "((sin(phi)*cos(s*theta/2) + sin(s*theta/2)*cos(phi)*cos(psi))*sin(s*theta/2) + I*(-sin(phi)*sin(s*theta/2)*cos(psi) + cos(phi)*cos(s*theta/2))*sin(s*theta/2))*sin(psi)"
      ]
     },
     "execution_count": 31,
     "metadata": {},
     "output_type": "execute_result"
    }
   ],
   "source": [
    "sigma_minus_s_decomp_cleaned['Z']"
   ]
  },
  {
   "cell_type": "markdown",
   "id": "61dfac5e",
   "metadata": {},
   "source": [
    "## $ \\sigma_+ $ Channel\n",
    "$$ \\sigma^+ = (X+iY)/2 $$"
   ]
  },
  {
   "cell_type": "code",
   "execution_count": 32,
   "id": "f440c53b",
   "metadata": {},
   "outputs": [
    {
     "data": {
      "text/latex": [
       "$\\displaystyle \\left[\\begin{matrix}0 & 1\\\\0 & 0\\end{matrix}\\right]$"
      ],
      "text/plain": [
       "Matrix([\n",
       "[0, 1],\n",
       "[0, 0]])"
      ]
     },
     "execution_count": 32,
     "metadata": {},
     "output_type": "execute_result"
    }
   ],
   "source": [
    "sigma_plus = (X + sp.I * Y) / 2\n",
    "sigma_plus"
   ]
  },
  {
   "cell_type": "code",
   "execution_count": 33,
   "id": "43dc2fc7",
   "metadata": {},
   "outputs": [
    {
     "data": {
      "text/latex": [
       "$\\displaystyle \\left[\\begin{matrix}- i \\left(i \\sin{\\left(\\frac{s \\theta}{2} \\right)} \\cos{\\left(\\psi \\right)} + \\cos{\\left(\\frac{s \\theta}{2} \\right)}\\right) e^{i \\phi} \\sin{\\left(\\psi \\right)} \\sin{\\left(\\frac{s \\theta}{2} \\right)} & \\left(i \\sin{\\left(\\frac{s \\theta}{2} \\right)} \\cos{\\left(\\psi \\right)} + \\cos{\\left(\\frac{s \\theta}{2} \\right)}\\right)^{2}\\\\e^{2 i \\phi} \\sin^{2}{\\left(\\psi \\right)} \\sin^{2}{\\left(\\frac{s \\theta}{2} \\right)} & i \\left(i \\sin{\\left(\\frac{s \\theta}{2} \\right)} \\cos{\\left(\\psi \\right)} + \\cos{\\left(\\frac{s \\theta}{2} \\right)}\\right) e^{i \\phi} \\sin{\\left(\\psi \\right)} \\sin{\\left(\\frac{s \\theta}{2} \\right)}\\end{matrix}\\right]$"
      ],
      "text/plain": [
       "Matrix([\n",
       "[-I*(I*sin(s*theta/2)*cos(psi) + cos(s*theta/2))*exp(I*phi)*sin(psi)*sin(s*theta/2),                                   (I*sin(s*theta/2)*cos(psi) + cos(s*theta/2))**2],\n",
       "[                                        exp(2*I*phi)*sin(psi)**2*sin(s*theta/2)**2, I*(I*sin(s*theta/2)*cos(psi) + cos(s*theta/2))*exp(I*phi)*sin(psi)*sin(s*theta/2)]])"
      ]
     },
     "execution_count": 33,
     "metadata": {},
     "output_type": "execute_result"
    }
   ],
   "source": [
    "\n",
    "sigma_plus_s  = U_dag * sigma_plus * U\n",
    "sigma_plus_s  = sp.simplify(sigma_plus_s )\n",
    "sigma_plus_s  = sp.expand_trig(sigma_plus_s )\n",
    "sigma_plus_s  = sp.trigsimp(sigma_plus_s )\n",
    "sigma_plus_s "
   ]
  },
  {
   "cell_type": "code",
   "execution_count": 34,
   "id": "d28a7eea",
   "metadata": {},
   "outputs": [
    {
     "data": {
      "text/latex": [
       "$\\displaystyle \\left\\{ i : 0, \\  X : \\frac{\\left(i \\sin{\\left(\\frac{s \\theta}{2} \\right)} \\cos{\\left(\\psi \\right)} + \\cos{\\left(\\frac{s \\theta}{2} \\right)}\\right)^{2}}{2} + \\frac{e^{2 i \\phi} \\sin^{2}{\\left(\\psi \\right)} \\sin^{2}{\\left(\\frac{s \\theta}{2} \\right)}}{2}, \\  Y : \\frac{i \\left(\\left(i \\sin{\\left(\\frac{s \\theta}{2} \\right)} \\cos{\\left(\\psi \\right)} + \\cos{\\left(\\frac{s \\theta}{2} \\right)}\\right)^{2} - e^{2 i \\phi} \\sin^{2}{\\left(\\psi \\right)} \\sin^{2}{\\left(\\frac{s \\theta}{2} \\right)}\\right)}{2}, \\  Z : \\left(\\sin{\\left(\\frac{s \\theta}{2} \\right)} \\cos{\\left(\\psi \\right)} - i \\cos{\\left(\\frac{s \\theta}{2} \\right)}\\right) e^{i \\phi} \\sin{\\left(\\psi \\right)} \\sin{\\left(\\frac{s \\theta}{2} \\right)}\\right\\}$"
      ],
      "text/plain": [
       "{I: 0, X: (I*sin(s*theta/2)*cos(psi) + cos(s*theta/2))**2/2 + exp(2*I*phi)*sin(psi)**2*sin(s*theta/2)**2/2, Y: I*((I*sin(s*theta/2)*cos(psi) + cos(s*theta/2))**2 - exp(2*I*phi)*sin(psi)**2*sin(s*theta/2)**2)/2, Z: (sin(s*theta/2)*cos(psi) - I*cos(s*theta/2))*exp(I*phi)*sin(psi)*sin(s*theta/2)}"
      ]
     },
     "execution_count": 34,
     "metadata": {},
     "output_type": "execute_result"
    }
   ],
   "source": [
    "sigma_plus_s_decomp = pauli_decomposition(sigma_plus_s , paulis)\n",
    "sigma_plus_s_decomp = sp.simplify(sigma_plus_s_decomp)\n",
    "sigma_plus_s_decomp = sp.trigsimp(sigma_plus_s_decomp)\n",
    "sigma_plus_s_decomp"
   ]
  },
  {
   "cell_type": "code",
   "execution_count": 35,
   "id": "6fdd22e5",
   "metadata": {},
   "outputs": [
    {
     "data": {
      "text/plain": [
       "{'I': 0,\n",
       " 'X': (sin(s*theta/2)**2*cos(2*phi)/2 + sin(s*theta/2)**2/2)*sin(psi)**2 + I*(sin(2*phi)*sin(psi)**2*sin(s*theta/2)**2/2 + sin(s*theta)*cos(psi)/2) - sin(s*theta/2)**2 + 1/2,\n",
       " 'Y': I*(-sin(psi)**2*sin(s*theta/2)**2*cos(2*phi)/2 - sin(s*theta/2)**2*cos(psi)**2/2 + cos(s*theta/2)**2/2) + sin(2*phi)*sin(psi)**2*sin(s*theta/2)**2/2 - sin(s*theta)*cos(psi)/2,\n",
       " 'Z': ((sin(phi)*cos(s*theta/2) + sin(s*theta/2)*cos(phi)*cos(psi))*sin(s*theta/2) + I*(sin(phi)*sin(s*theta/2)*cos(psi) - cos(phi)*cos(s*theta/2))*sin(s*theta/2))*sin(psi)}"
      ]
     },
     "execution_count": 35,
     "metadata": {},
     "output_type": "execute_result"
    }
   ],
   "source": [
    "sigma_plus_s_decomp = pauli_decomposition(sigma_plus_s , paulis)\n",
    "\n",
    "# Clean and factor using φ and ψ\n",
    "sigma_plus_s_decomp_cleaned = fully_simplify_pauli_decomposition(\n",
    "    sigma_plus_s_decomp,\n",
    "    collect_vars=[phi, psi, sp.sin(phi), sp.cos(phi), sp.sin(psi), sp.cos(psi)]\n",
    ")\n",
    "sigma_plus_s_decomp_cleaned"
   ]
  },
  {
   "cell_type": "code",
   "execution_count": 36,
   "id": "1d0a5742",
   "metadata": {},
   "outputs": [
    {
     "data": {
      "text/latex": [
       "$\\displaystyle \\left(\\frac{\\sin^{2}{\\left(\\frac{s \\theta}{2} \\right)} \\cos{\\left(2 \\phi \\right)}}{2} + \\frac{\\sin^{2}{\\left(\\frac{s \\theta}{2} \\right)}}{2}\\right) \\sin^{2}{\\left(\\psi \\right)} + i \\left(\\frac{\\sin{\\left(2 \\phi \\right)} \\sin^{2}{\\left(\\psi \\right)} \\sin^{2}{\\left(\\frac{s \\theta}{2} \\right)}}{2} + \\frac{\\sin{\\left(s \\theta \\right)} \\cos{\\left(\\psi \\right)}}{2}\\right) - \\sin^{2}{\\left(\\frac{s \\theta}{2} \\right)} + \\frac{1}{2}$"
      ],
      "text/plain": [
       "(sin(s*theta/2)**2*cos(2*phi)/2 + sin(s*theta/2)**2/2)*sin(psi)**2 + I*(sin(2*phi)*sin(psi)**2*sin(s*theta/2)**2/2 + sin(s*theta)*cos(psi)/2) - sin(s*theta/2)**2 + 1/2"
      ]
     },
     "execution_count": 36,
     "metadata": {},
     "output_type": "execute_result"
    }
   ],
   "source": [
    "sigma_plus_s_decomp_cleaned['X']"
   ]
  },
  {
   "cell_type": "code",
   "execution_count": 37,
   "id": "dd919d0f",
   "metadata": {},
   "outputs": [
    {
     "data": {
      "text/latex": [
       "$\\displaystyle i \\left(- \\frac{\\sin^{2}{\\left(\\psi \\right)} \\sin^{2}{\\left(\\frac{s \\theta}{2} \\right)} \\cos{\\left(2 \\phi \\right)}}{2} - \\frac{\\sin^{2}{\\left(\\frac{s \\theta}{2} \\right)} \\cos^{2}{\\left(\\psi \\right)}}{2} + \\frac{\\cos^{2}{\\left(\\frac{s \\theta}{2} \\right)}}{2}\\right) + \\frac{\\sin{\\left(2 \\phi \\right)} \\sin^{2}{\\left(\\psi \\right)} \\sin^{2}{\\left(\\frac{s \\theta}{2} \\right)}}{2} - \\frac{\\sin{\\left(s \\theta \\right)} \\cos{\\left(\\psi \\right)}}{2}$"
      ],
      "text/plain": [
       "I*(-sin(psi)**2*sin(s*theta/2)**2*cos(2*phi)/2 - sin(s*theta/2)**2*cos(psi)**2/2 + cos(s*theta/2)**2/2) + sin(2*phi)*sin(psi)**2*sin(s*theta/2)**2/2 - sin(s*theta)*cos(psi)/2"
      ]
     },
     "execution_count": 37,
     "metadata": {},
     "output_type": "execute_result"
    }
   ],
   "source": [
    "sigma_plus_s_decomp_cleaned['Y']"
   ]
  },
  {
   "cell_type": "code",
   "execution_count": 38,
   "id": "cec921bc",
   "metadata": {},
   "outputs": [
    {
     "data": {
      "text/latex": [
       "$\\displaystyle \\left(\\left(\\sin{\\left(\\phi \\right)} \\cos{\\left(\\frac{s \\theta}{2} \\right)} + \\sin{\\left(\\frac{s \\theta}{2} \\right)} \\cos{\\left(\\phi \\right)} \\cos{\\left(\\psi \\right)}\\right) \\sin{\\left(\\frac{s \\theta}{2} \\right)} + i \\left(\\sin{\\left(\\phi \\right)} \\sin{\\left(\\frac{s \\theta}{2} \\right)} \\cos{\\left(\\psi \\right)} - \\cos{\\left(\\phi \\right)} \\cos{\\left(\\frac{s \\theta}{2} \\right)}\\right) \\sin{\\left(\\frac{s \\theta}{2} \\right)}\\right) \\sin{\\left(\\psi \\right)}$"
      ],
      "text/plain": [
       "((sin(phi)*cos(s*theta/2) + sin(s*theta/2)*cos(phi)*cos(psi))*sin(s*theta/2) + I*(sin(phi)*sin(s*theta/2)*cos(psi) - cos(phi)*cos(s*theta/2))*sin(s*theta/2))*sin(psi)"
      ]
     },
     "execution_count": 38,
     "metadata": {},
     "output_type": "execute_result"
    }
   ],
   "source": [
    "sigma_plus_s_decomp_cleaned['Z']"
   ]
  },
  {
   "cell_type": "markdown",
   "id": "2f6a42db",
   "metadata": {},
   "source": [
    "\n",
    "\n",
    "---\n",
    "\n",
    "### Compute the variance over time\n",
    "\n",
    "We define the variance of this process as:\n",
    "\n",
    "$$\n",
    "\\mathrm{Var} = \\int_0^1 f(s)^2 \\, ds\n",
    "$$\n",
    "\n",
    "This integral gives us a symbolic expression that depends on θ, φ, and ψ. It represents the **Itô variance** associated with the stochastic evolution.\n",
    "\n",
    "---\n",
    "\n",
    "### Sample from the variance\n",
    "\n",
    "Once we evaluate the variance for specific values of θ, φ, and ψ, we obtain a real scalar σ². We can sample from the corresponding zero-mean Gaussian distribution:\n",
    "\n",
    "$$\n",
    "x \\sim \\mathcal{N}(0, \\mathrm{Var})\n",
    "$$\n",
    "\n",
    "This sampled value represents one instance of the quantum noise coefficient aligned with this Pauli component.\n",
    "\n",
    "---\n",
    "\n",
    "### Construct the Hermitian noise matrix\n",
    "\n",
    "Once we sample all 3 Pauli components (X, Y, Z), we form the Hermitian matrix:\n",
    "\n",
    "$$\n",
    "I_d = e_d \\begin{bmatrix}\n",
    "Z_c & X_c - i Y_c \\\\\n",
    "X_c + i Y_c & -Z_c\n",
    "\\end{bmatrix}\n",
    "$$\n",
    "\n",
    "where `e_d` is the depolarizing amplitude, and $ X_c, Y_c, Z_c $ are the sampled components.\n",
    "\n",
    "This matrix can be added to a unitary evolution or inserted into a stochastic noise model.\n",
    "\n"
   ]
  },
  {
   "cell_type": "markdown",
   "id": "a505a91d",
   "metadata": {},
   "source": [
    "### Deterministic Relaxation Contribution\n",
    "\n",
    "In addition to the stochastic contributions from amplitude damping, there is a deterministic component arising from the average (non-stochastic) part of the Lindblad evolution.\n",
    "\n",
    "This is captured by the term:\n",
    "$$\n",
    "\\Lambda := -\\frac{\\epsilon_1^2}{2} \\int_0^1 \\left( L_{\\downarrow,s}^\\dagger L_{\\downarrow,s} \\right) ds,\n",
    "$$\n",
    "which leads to a Hermitian drift term added to the noisy gate.\n",
    "\n",
    "The corresponding integrals are:\n",
    "$$\n",
    "\\begin{aligned}\n",
    "\\text{det}_1 &= \\frac{\\theta - \\sin(\\theta)}{2\\theta}, \\\\\n",
    "\\text{det}_2 &= \\frac{1 - \\cos(\\theta)}{\\theta}, \\\\\n",
    "\\text{det}_3 &= \\frac{\\theta + \\sin(\\theta)}{2\\theta},\n",
    "\\end{aligned}\n",
    "$$\n",
    "\n",
    "and they form the matrix:\n",
    "$$\n",
    "\\texttt{deterministic} = -\\frac{\\epsilon_1^2}{2}\n",
    "\\begin{pmatrix}\n",
    "\\text{det}_1 & \\frac{i}{2} e^{-i\\phi} \\text{det}_2 \\\\\n",
    "-\\frac{i}{2} e^{i\\phi} \\text{det}_2 & \\text{det}_3\n",
    "\\end{pmatrix}\n",
    "$$\n"
   ]
  },
  {
   "cell_type": "code",
   "execution_count": 49,
   "id": "33fab093",
   "metadata": {},
   "outputs": [
    {
     "data": {
      "text/latex": [
       "$\\displaystyle det_{1} = 0$"
      ],
      "text/plain": [
       "Eq(det1, 0)"
      ]
     },
     "metadata": {},
     "output_type": "display_data"
    },
    {
     "data": {
      "text/latex": [
       "$\\displaystyle det_{2} = 0$"
      ],
      "text/plain": [
       "Eq(det2, 0)"
      ]
     },
     "metadata": {},
     "output_type": "display_data"
    },
    {
     "data": {
      "text/latex": [
       "$\\displaystyle det_{3} = 1$"
      ],
      "text/plain": [
       "Eq(det3, 1)"
      ]
     },
     "metadata": {},
     "output_type": "display_data"
    },
    {
     "data": {
      "text/latex": [
       "$\\displaystyle Λ =$"
      ],
      "text/plain": [
       "Λ ="
      ]
     },
     "metadata": {},
     "output_type": "display_data"
    },
    {
     "data": {
      "text/latex": [
       "$\\displaystyle \\left[\\begin{matrix}0 & 0\\\\0 & - \\frac{\\epsilon_{1}^{2}}{2}\\end{matrix}\\right]$"
      ],
      "text/plain": [
       "Matrix([\n",
       "[0,               0],\n",
       "[0, -epsilon_1**2/2]])"
      ]
     },
     "metadata": {},
     "output_type": "display_data"
    },
    {
     "data": {
      "text/latex": [
       "$\\displaystyle \\left[\\begin{matrix}0 & 0\\\\0 & - \\frac{\\epsilon_{1}^{2}}{2}\\end{matrix}\\right]$"
      ],
      "text/plain": [
       "Matrix([\n",
       "[0,               0],\n",
       "[0, -epsilon_1**2/2]])"
      ]
     },
     "execution_count": 49,
     "metadata": {},
     "output_type": "execute_result"
    }
   ],
   "source": [
    "\n",
    "\n",
    "# Define symbols\n",
    "s, theta, phi = sp.symbols('s theta phi', real=True)\n",
    "epsilon_1 = sp.symbols('epsilon_1', real=True)\n",
    "\n",
    "#theta = sp.pi  # Arbitrary phase, can be set to pi/2\n",
    "# Y - gate\n",
    "phi_val = sp.pi/2  # Z gate is a rotation of pi/2 around the Z axis\n",
    "psi_val = 0\n",
    "\n",
    "sigma_minus_s_sub = sigma_minus_s.subs({phi:phi_val, psi:psi_val})\n",
    "\n",
    "# Hermitian conjugate\n",
    "sigma_minus_s_dag_sub = sigma_minus_s_sub.H\n",
    "\n",
    "# Compute L†L and simplify\n",
    "product = sp.simplify(sigma_minus_s_dag_sub * sigma_minus_s_sub)\n",
    "\n",
    "# Integrate each element of the product matrix from s = 0 to 1\n",
    "integrated = sp.Matrix(2, 2, lambda i, j: sp.simplify(sp.integrate(product[i, j], (s, 0, 1))))\n",
    "\n",
    "# Extract raw det1, det3 directly (diagonal)\n",
    "det1 = sp.simplify(integrated[1, 1])  # lower-right\n",
    "det3 = sp.simplify(integrated[0, 0])  # upper-left\n",
    "\n",
    "# Compute the off-diagonal term\n",
    "off_diag = sp.simplify(integrated[0, 1])\n",
    "\n",
    "# Define the known complex prefactor explicitly\n",
    "#prefactor = -sp.I / 2 * sp.exp(-sp.I * phi)\n",
    "\n",
    "# Isolate the real-valued part of det2 by factoring out the prefactor\n",
    "# Multiply both sides symbolically instead of dividing\n",
    "det2 = sp.simplify(sp.trigsimp(off_diag))\n",
    "det2 = sp.simplify(sp.trigsimp(det2.rewrite(sp.cos)))\n",
    "\n",
    "\n",
    "# Construct Λ matrix in canonical Hermitian form\n",
    "Λ = (-epsilon_1**2)/2 * sp.Matrix([\n",
    "    [det1,  sp.I/2 * sp.exp(-sp.I * phi) * det2],\n",
    "    [-sp.I/2 * sp.exp(sp.I * phi) * det2, det3]\n",
    "])\n",
    "\n",
    "# Display results\n",
    "display(sp.Eq(sp.Symbol('det1'), det1))\n",
    "display(sp.Eq(sp.Symbol('det2'), det2))\n",
    "display(sp.Eq(sp.Symbol('det3'), det3))\n",
    "display(sp.Symbol('Λ ='), Λ)\n",
    "\n",
    "Λ.subs({phi:phi_val})\n"
   ]
  },
  {
   "cell_type": "markdown",
   "id": "b69467a6",
   "metadata": {},
   "source": [
    "### Variances and covariances for relaxation Itô processes depending on Z(t)\n",
    "**Dephasing Noise — $ \\sigma_z $ Channel**\n",
    "Pure dephasing (phase damping) is modeled via a Lindblad operator:\n",
    "$$\n",
    "L_\\phi(s) = \\sqrt{\\frac{1}{T_2}} \\, \\sigma_z(s),\n",
    "$$\n",
    "where $ \\sigma_z(s) $ is the Pauli-Z operator in the interaction picture.\n",
    "\n",
    "As with other stochastic terms, we expand this in second-order Itô integrals. The statistical quantities used to build the covariance matrix are:\n",
    "$$\n",
    "\\begin{aligned}\n",
    "\\mathbb{V}[\\mathcal{I}_1] &= \\frac{2\\theta + \\sin(2\\theta)}{4\\theta}, \\\\\n",
    "\\mathbb{V}[\\mathcal{I}_2] &= \\frac{2\\theta - \\sin(2\\theta)}{4\\theta}, \\\\\n",
    "\\text{Cov}[\\mathcal{I}_1, \\mathcal{I}_2] &= \\frac{\\sin^2(\\theta)}{2\\theta}.\n",
    "\\end{aligned}\n",
    "$$\n",
    "\n",
    "This results in a 2×2 Hermitian contribution matrix $ \\texttt{Ip} $, scaled by the dephasing amplitude:\n",
    "$$\n",
    "\\epsilon_\\phi = \\sqrt{\\frac{1}{2} \\left( \\frac{t_g}{T_2} - \\frac{t_g}{2T_1} \\right)}.\n",
    "$$"
   ]
  },
  {
   "cell_type": "code",
   "execution_count": null,
   "id": "ecfd930b",
   "metadata": {},
   "outputs": [
    {
     "data": {
      "text/plain": [
       "{'I': 0,\n",
       " 'X': I*((I*sin(phi) - cos(phi))*(I*sin(s*theta/2)*cos(psi) + cos(s*theta/2)) - (I*sin(s*theta/2)*cos(psi) - cos(s*theta/2))*exp(I*phi))*sin(psi)*sin(s*theta/2),\n",
       " 'Y': (-(I*sin(phi) - cos(phi))*(I*sin(s*theta/2)*cos(psi) + cos(s*theta/2)) + (-I*sin(s*theta/2)*cos(psi) + cos(s*theta/2))*exp(I*phi))*sin(psi)*sin(s*theta/2),\n",
       " 'Z': -2*sin(psi)**2*sin(s*theta/2)**2 + 1}"
      ]
     },
     "execution_count": 41,
     "metadata": {},
     "output_type": "execute_result"
    }
   ],
   "source": [
    "Z_s_decomp \n",
    "\n"
   ]
  },
  {
   "cell_type": "code",
   "execution_count": null,
   "id": "d81c01b6",
   "metadata": {},
   "outputs": [
    {
     "data": {
      "text/latex": [
       "$\\displaystyle Var_{Z1} = \\begin{cases} \\frac{\\frac{3 \\theta \\sin^{4}{\\left(\\psi \\right)}}{2} - 2 \\theta \\sin^{2}{\\left(\\psi \\right)} + \\theta - 2 \\sin^{4}{\\left(\\psi \\right)} \\sin{\\left(\\theta \\right)} + \\frac{\\sin^{4}{\\left(\\psi \\right)} \\sin{\\left(2 \\theta \\right)}}{4} + 2 \\sin^{2}{\\left(\\psi \\right)} \\sin{\\left(\\theta \\right)}}{\\theta} & \\text{for}\\: \\theta > 0 \\vee \\theta < 0 \\\\1 & \\text{otherwise} \\end{cases}$"
      ],
      "text/plain": [
       "Eq(Var_Z1, Piecewise(((3*theta*sin(psi)**4/2 - 2*theta*sin(psi)**2 + theta - 2*sin(psi)**4*sin(theta) + sin(psi)**4*sin(2*theta)/4 + 2*sin(psi)**2*sin(theta))/theta, (theta > 0) | (theta < 0)), (1, True)))"
      ]
     },
     "metadata": {},
     "output_type": "display_data"
    },
    {
     "data": {
      "text/latex": [
       "$\\displaystyle Var_{Z2} = \\begin{cases} \\frac{\\left(- 4 \\theta \\left(- 3 e^{4 i \\phi} + 6 e^{2 i \\phi} - 3 e^{8 i \\psi} + 4 e^{6 i \\psi} - 2 e^{4 i \\psi} + 4 e^{2 i \\psi} - 2 e^{4 i \\left(\\phi + \\psi\\right)} + 8 e^{2 i \\left(\\phi + \\psi\\right)} - 3 e^{4 i \\left(\\phi + 2 \\psi\\right)} - 28 e^{2 i \\left(\\phi + 2 \\psi\\right)} + 8 e^{2 i \\left(\\phi + 3 \\psi\\right)} + 6 e^{2 i \\left(\\phi + 4 \\psi\\right)} + 4 e^{2 i \\left(2 \\phi + \\psi\\right)} + 4 e^{2 i \\left(2 \\phi + 3 \\psi\\right)} - 3\\right) e^{i \\left(16 \\phi + 32 \\psi + 3 \\theta\\right)} + i \\left(24 \\left(- e^{5 i \\left(2 \\phi + 3 \\psi\\right)} + e^{3 i \\left(2 \\phi + 5 \\psi\\right)} - e^{i \\left(6 \\phi + 13 \\psi\\right)} + e^{i \\left(6 \\phi + 17 \\psi\\right)} - e^{i \\left(6 \\phi + 19 \\psi\\right)} + e^{i \\left(10 \\phi + 13 \\psi\\right)} - e^{i \\left(10 \\phi + 17 \\psi\\right)} + e^{i \\left(10 \\phi + 19 \\psi\\right)}\\right) e^{i \\left(8 \\phi + 16 \\psi + 3 \\theta\\right)} + \\left(8 \\left(- e^{10 i \\left(\\phi + 2 \\psi\\right)} - 4 e^{8 i \\left(\\phi + 2 \\psi\\right)} - e^{6 i \\left(\\phi + 2 \\psi\\right)} + 2 e^{5 i \\left(2 \\phi + 3 \\psi\\right)} + 2 e^{4 i \\left(2 \\phi + 3 \\psi\\right)} + 2 e^{4 i \\left(2 \\phi + 5 \\psi\\right)} - 2 e^{3 i \\left(2 \\phi + 5 \\psi\\right)} + 2 e^{2 i \\left(3 \\phi + 8 \\psi\\right)} - e^{2 i \\left(3 \\phi + 10 \\psi\\right)} - e^{2 i \\left(5 \\phi + 6 \\psi\\right)} + 2 e^{2 i \\left(5 \\phi + 8 \\psi\\right)} + 2 e^{i \\left(6 \\phi + 13 \\psi\\right)} - 2 e^{i \\left(6 \\phi + 17 \\psi\\right)} + 2 e^{i \\left(6 \\phi + 19 \\psi\\right)} - 2 e^{i \\left(10 \\phi + 13 \\psi\\right)} + 2 e^{i \\left(10 \\phi + 17 \\psi\\right)} - 2 e^{i \\left(10 \\phi + 19 \\psi\\right)}\\right) e^{i \\theta} + \\left(\\left(- e^{10 i \\left(\\phi + 2 \\psi\\right)} + 12 e^{8 i \\left(\\phi + 2 \\psi\\right)} - e^{6 i \\left(\\phi + 2 \\psi\\right)} - 4 e^{6 i \\left(\\phi + 3 \\psi\\right)} - 4 e^{5 i \\left(2 \\phi + 3 \\psi\\right)} + 2 e^{4 i \\left(2 \\phi + 3 \\psi\\right)} + 2 e^{4 i \\left(2 \\phi + 5 \\psi\\right)} + 4 e^{3 i \\left(2 \\phi + 5 \\psi\\right)} - 4 e^{2 i \\left(3 \\phi + 7 \\psi\\right)} + 10 e^{2 i \\left(3 \\phi + 8 \\psi\\right)} - e^{2 i \\left(3 \\phi + 10 \\psi\\right)} - 8 e^{2 i \\left(4 \\phi + 7 \\psi\\right)} - 8 e^{2 i \\left(4 \\phi + 9 \\psi\\right)} - e^{2 i \\left(5 \\phi + 6 \\psi\\right)} - 4 e^{2 i \\left(5 \\phi + 7 \\psi\\right)} + 10 e^{2 i \\left(5 \\phi + 8 \\psi\\right)} - 4 e^{2 i \\left(5 \\phi + 9 \\psi\\right)} - 4 e^{i \\left(6 \\phi + 13 \\psi\\right)} + 4 e^{i \\left(6 \\phi + 17 \\psi\\right)} - 4 e^{i \\left(6 \\phi + 19 \\psi\\right)} + 4 e^{i \\left(10 \\phi + 13 \\psi\\right)} - 4 e^{i \\left(10 \\phi + 17 \\psi\\right)} + 4 e^{i \\left(10 \\phi + 19 \\psi\\right)}\\right) e^{i \\theta} + 8 e^{10 i \\left(\\phi + 2 \\psi\\right)} + 32 e^{8 i \\left(\\phi + 2 \\psi\\right)} + 8 e^{6 i \\left(\\phi + 2 \\psi\\right)} + 16 e^{5 i \\left(2 \\phi + 3 \\psi\\right)} - 16 e^{4 i \\left(2 \\phi + 3 \\psi\\right)} - 16 e^{4 i \\left(2 \\phi + 5 \\psi\\right)} - 16 e^{3 i \\left(2 \\phi + 5 \\psi\\right)} - 16 e^{2 i \\left(3 \\phi + 8 \\psi\\right)} + 8 e^{2 i \\left(3 \\phi + 10 \\psi\\right)} + 8 e^{2 i \\left(5 \\phi + 6 \\psi\\right)} - 16 e^{2 i \\left(5 \\phi + 8 \\psi\\right)} + 16 e^{i \\left(6 \\phi + 13 \\psi\\right)} - 16 e^{i \\left(6 \\phi + 17 \\psi\\right)} + 16 e^{i \\left(6 \\phi + 19 \\psi\\right)} - 16 e^{i \\left(10 \\phi + 13 \\psi\\right)} + 16 e^{i \\left(10 \\phi + 17 \\psi\\right)} - 16 e^{i \\left(10 \\phi + 19 \\psi\\right)}\\right) e^{3 i \\theta} + e^{10 i \\left(\\phi + 2 \\psi\\right)} - 12 e^{8 i \\left(\\phi + 2 \\psi\\right)} + e^{6 i \\left(\\phi + 2 \\psi\\right)} + 4 e^{6 i \\left(\\phi + 3 \\psi\\right)} - 4 e^{5 i \\left(2 \\phi + 3 \\psi\\right)} - 2 e^{4 i \\left(2 \\phi + 3 \\psi\\right)} - 2 e^{4 i \\left(2 \\phi + 5 \\psi\\right)} + 4 e^{3 i \\left(2 \\phi + 5 \\psi\\right)} + 4 e^{2 i \\left(3 \\phi + 7 \\psi\\right)} - 10 e^{2 i \\left(3 \\phi + 8 \\psi\\right)} + e^{2 i \\left(3 \\phi + 10 \\psi\\right)} + 8 e^{2 i \\left(4 \\phi + 7 \\psi\\right)} + 8 e^{2 i \\left(4 \\phi + 9 \\psi\\right)} + e^{2 i \\left(5 \\phi + 6 \\psi\\right)} + 4 e^{2 i \\left(5 \\phi + 7 \\psi\\right)} - 10 e^{2 i \\left(5 \\phi + 8 \\psi\\right)} + 4 e^{2 i \\left(5 \\phi + 9 \\psi\\right)} - 4 e^{i \\left(6 \\phi + 13 \\psi\\right)} + 4 e^{i \\left(6 \\phi + 17 \\psi\\right)} - 4 e^{i \\left(6 \\phi + 19 \\psi\\right)} + 4 e^{i \\left(10 \\phi + 13 \\psi\\right)} - 4 e^{i \\left(10 \\phi + 17 \\psi\\right)} + 4 e^{i \\left(10 \\phi + 19 \\psi\\right)}\\right) e^{i \\left(8 \\phi + 16 \\psi + \\theta\\right)}\\right) e^{2 i \\left(\\phi + 2 \\psi\\right)}\\right) e^{- 3 i \\left(6 \\phi + 12 \\psi + \\theta\\right)}}{512 \\theta} & \\text{for}\\: \\theta^{4} e^{8 i \\left(\\phi + 2 \\psi\\right)} \\neq 0 \\\\0 & \\text{otherwise} \\end{cases}$"
      ],
      "text/plain": [
       "Eq(Var_Z2, Piecewise(((-4*theta*(-3*exp(4*I*phi) + 6*exp(2*I*phi) - 3*exp(8*I*psi) + 4*exp(6*I*psi) - 2*exp(4*I*psi) + 4*exp(2*I*psi) - 2*exp(4*I*(phi + psi)) + 8*exp(2*I*(phi + psi)) - 3*exp(4*I*(phi + 2*psi)) - 28*exp(2*I*(phi + 2*psi)) + 8*exp(2*I*(phi + 3*psi)) + 6*exp(2*I*(phi + 4*psi)) + 4*exp(2*I*(2*phi + psi)) + 4*exp(2*I*(2*phi + 3*psi)) - 3)*exp(I*(16*phi + 32*psi + 3*theta)) + I*(24*(-exp(5*I*(2*phi + 3*psi)) + exp(3*I*(2*phi + 5*psi)) - exp(I*(6*phi + 13*psi)) + exp(I*(6*phi + 17*psi)) - exp(I*(6*phi + 19*psi)) + exp(I*(10*phi + 13*psi)) - exp(I*(10*phi + 17*psi)) + exp(I*(10*phi + 19*psi)))*exp(I*(8*phi + 16*psi + 3*theta)) + (8*(-exp(10*I*(phi + 2*psi)) - 4*exp(8*I*(phi + 2*psi)) - exp(6*I*(phi + 2*psi)) + 2*exp(5*I*(2*phi + 3*psi)) + 2*exp(4*I*(2*phi + 3*psi)) + 2*exp(4*I*(2*phi + 5*psi)) - 2*exp(3*I*(2*phi + 5*psi)) + 2*exp(2*I*(3*phi + 8*psi)) - exp(2*I*(3*phi + 10*psi)) - exp(2*I*(5*phi + 6*psi)) + 2*exp(2*I*(5*phi + 8*psi)) + 2*exp(I*(6*phi + 13*psi)) - 2*exp(I*(6*phi + 17*psi)) + 2*exp(I*(6*phi + 19*psi)) - 2*exp(I*(10*phi + 13*psi)) + 2*exp(I*(10*phi + 17*psi)) - 2*exp(I*(10*phi + 19*psi)))*exp(I*theta) + ((-exp(10*I*(phi + 2*psi)) + 12*exp(8*I*(phi + 2*psi)) - exp(6*I*(phi + 2*psi)) - 4*exp(6*I*(phi + 3*psi)) - 4*exp(5*I*(2*phi + 3*psi)) + 2*exp(4*I*(2*phi + 3*psi)) + 2*exp(4*I*(2*phi + 5*psi)) + 4*exp(3*I*(2*phi + 5*psi)) - 4*exp(2*I*(3*phi + 7*psi)) + 10*exp(2*I*(3*phi + 8*psi)) - exp(2*I*(3*phi + 10*psi)) - 8*exp(2*I*(4*phi + 7*psi)) - 8*exp(2*I*(4*phi + 9*psi)) - exp(2*I*(5*phi + 6*psi)) - 4*exp(2*I*(5*phi + 7*psi)) + 10*exp(2*I*(5*phi + 8*psi)) - 4*exp(2*I*(5*phi + 9*psi)) - 4*exp(I*(6*phi + 13*psi)) + 4*exp(I*(6*phi + 17*psi)) - 4*exp(I*(6*phi + 19*psi)) + 4*exp(I*(10*phi + 13*psi)) - 4*exp(I*(10*phi + 17*psi)) + 4*exp(I*(10*phi + 19*psi)))*exp(I*theta) + 8*exp(10*I*(phi + 2*psi)) + 32*exp(8*I*(phi + 2*psi)) + 8*exp(6*I*(phi + 2*psi)) + 16*exp(5*I*(2*phi + 3*psi)) - 16*exp(4*I*(2*phi + 3*psi)) - 16*exp(4*I*(2*phi + 5*psi)) - 16*exp(3*I*(2*phi + 5*psi)) - 16*exp(2*I*(3*phi + 8*psi)) + 8*exp(2*I*(3*phi + 10*psi)) + 8*exp(2*I*(5*phi + 6*psi)) - 16*exp(2*I*(5*phi + 8*psi)) + 16*exp(I*(6*phi + 13*psi)) - 16*exp(I*(6*phi + 17*psi)) + 16*exp(I*(6*phi + 19*psi)) - 16*exp(I*(10*phi + 13*psi)) + 16*exp(I*(10*phi + 17*psi)) - 16*exp(I*(10*phi + 19*psi)))*exp(3*I*theta) + exp(10*I*(phi + 2*psi)) - 12*exp(8*I*(phi + 2*psi)) + exp(6*I*(phi + 2*psi)) + 4*exp(6*I*(phi + 3*psi)) - 4*exp(5*I*(2*phi + 3*psi)) - 2*exp(4*I*(2*phi + 3*psi)) - 2*exp(4*I*(2*phi + 5*psi)) + 4*exp(3*I*(2*phi + 5*psi)) + 4*exp(2*I*(3*phi + 7*psi)) - 10*exp(2*I*(3*phi + 8*psi)) + exp(2*I*(3*phi + 10*psi)) + 8*exp(2*I*(4*phi + 7*psi)) + 8*exp(2*I*(4*phi + 9*psi)) + exp(2*I*(5*phi + 6*psi)) + 4*exp(2*I*(5*phi + 7*psi)) - 10*exp(2*I*(5*phi + 8*psi)) + 4*exp(2*I*(5*phi + 9*psi)) - 4*exp(I*(6*phi + 13*psi)) + 4*exp(I*(6*phi + 17*psi)) - 4*exp(I*(6*phi + 19*psi)) + 4*exp(I*(10*phi + 13*psi)) - 4*exp(I*(10*phi + 17*psi)) + 4*exp(I*(10*phi + 19*psi)))*exp(I*(8*phi + 16*psi + theta)))*exp(2*I*(phi + 2*psi)))*exp(-3*I*(6*phi + 12*psi + theta))/(512*theta), Ne(theta**4*exp(8*I*(phi + 2*psi)), 0)), (0, True)))"
      ]
     },
     "metadata": {},
     "output_type": "display_data"
    },
    {
     "data": {
      "text/latex": [
       "$\\displaystyle Cov_{Z12} = \\begin{cases} \\frac{\\left(4 \\theta \\left(3 e^{2 i \\phi} + 3 e^{8 i \\psi} + 2 e^{6 i \\psi} - 2 e^{2 i \\psi} + 2 e^{2 i \\left(\\phi + \\psi\\right)} - 2 e^{2 i \\left(\\phi + 3 \\psi\\right)} - 3 e^{2 i \\left(\\phi + 4 \\psi\\right)} - 3\\right) e^{i \\left(8 \\phi + 32 \\psi + 3 \\theta\\right)} + i \\left(4 \\left(7 e^{5 i \\left(\\phi + 3 \\psi\\right)} + 7 e^{3 i \\left(\\phi + 5 \\psi\\right)} + 3 e^{i \\left(3 \\phi + 13 \\psi\\right)} - 7 e^{i \\left(3 \\phi + 17 \\psi\\right)} - 3 e^{i \\left(3 \\phi + 19 \\psi\\right)} + 3 e^{i \\left(5 \\phi + 13 \\psi\\right)} - 7 e^{i \\left(5 \\phi + 17 \\psi\\right)} - 3 e^{i \\left(5 \\phi + 19 \\psi\\right)}\\right) e^{i \\left(4 \\phi + 16 \\psi + 3 \\theta\\right)} + \\left(8 \\left(- e^{5 i \\left(\\phi + 3 \\psi\\right)} + e^{5 i \\left(\\phi + 4 \\psi\\right)} + e^{3 i \\left(\\phi + 4 \\psi\\right)} - e^{3 i \\left(\\phi + 5 \\psi\\right)} - e^{i \\left(3 \\phi + 13 \\psi\\right)} + e^{i \\left(3 \\phi + 17 \\psi\\right)} + e^{i \\left(3 \\phi + 19 \\psi\\right)} - e^{i \\left(3 \\phi + 20 \\psi\\right)} - e^{i \\left(5 \\phi + 12 \\psi\\right)} - e^{i \\left(5 \\phi + 13 \\psi\\right)} + e^{i \\left(5 \\phi + 17 \\psi\\right)} + e^{i \\left(5 \\phi + 19 \\psi\\right)}\\right) e^{i \\theta} + \\left(\\left(- 6 e^{5 i \\left(\\phi + 3 \\psi\\right)} + e^{5 i \\left(\\phi + 4 \\psi\\right)} + e^{3 i \\left(\\phi + 4 \\psi\\right)} - 6 e^{3 i \\left(\\phi + 5 \\psi\\right)} + 2 e^{3 i \\left(\\phi + 6 \\psi\\right)} + 2 e^{i \\left(3 \\phi + 13 \\psi\\right)} - 2 e^{i \\left(3 \\phi + 14 \\psi\\right)} + 6 e^{i \\left(3 \\phi + 17 \\psi\\right)} - 2 e^{i \\left(3 \\phi + 19 \\psi\\right)} - e^{i \\left(3 \\phi + 20 \\psi\\right)} - e^{i \\left(5 \\phi + 12 \\psi\\right)} + 2 e^{i \\left(5 \\phi + 13 \\psi\\right)} + 2 e^{i \\left(5 \\phi + 14 \\psi\\right)} + 6 e^{i \\left(5 \\phi + 17 \\psi\\right)} - 2 e^{i \\left(5 \\phi + 18 \\psi\\right)} - 2 e^{i \\left(5 \\phi + 19 \\psi\\right)}\\right) e^{i \\theta} - 8 e^{5 i \\left(\\phi + 3 \\psi\\right)} - 8 e^{5 i \\left(\\phi + 4 \\psi\\right)} - 8 e^{3 i \\left(\\phi + 4 \\psi\\right)} - 8 e^{3 i \\left(\\phi + 5 \\psi\\right)} - 8 e^{i \\left(3 \\phi + 13 \\psi\\right)} + 8 e^{i \\left(3 \\phi + 17 \\psi\\right)} + 8 e^{i \\left(3 \\phi + 19 \\psi\\right)} + 8 e^{i \\left(3 \\phi + 20 \\psi\\right)} + 8 e^{i \\left(5 \\phi + 12 \\psi\\right)} - 8 e^{i \\left(5 \\phi + 13 \\psi\\right)} + 8 e^{i \\left(5 \\phi + 17 \\psi\\right)} + 8 e^{i \\left(5 \\phi + 19 \\psi\\right)}\\right) e^{3 i \\theta} - 6 e^{5 i \\left(\\phi + 3 \\psi\\right)} - e^{5 i \\left(\\phi + 4 \\psi\\right)} - e^{3 i \\left(\\phi + 4 \\psi\\right)} - 6 e^{3 i \\left(\\phi + 5 \\psi\\right)} - 2 e^{3 i \\left(\\phi + 6 \\psi\\right)} + 2 e^{i \\left(3 \\phi + 13 \\psi\\right)} + 2 e^{i \\left(3 \\phi + 14 \\psi\\right)} + 6 e^{i \\left(3 \\phi + 17 \\psi\\right)} - 2 e^{i \\left(3 \\phi + 19 \\psi\\right)} + e^{i \\left(3 \\phi + 20 \\psi\\right)} + e^{i \\left(5 \\phi + 12 \\psi\\right)} + 2 e^{i \\left(5 \\phi + 13 \\psi\\right)} - 2 e^{i \\left(5 \\phi + 14 \\psi\\right)} + 6 e^{i \\left(5 \\phi + 17 \\psi\\right)} + 2 e^{i \\left(5 \\phi + 18 \\psi\\right)} - 2 e^{i \\left(5 \\phi + 19 \\psi\\right)}\\right) e^{i \\left(4 \\phi + 16 \\psi + \\theta\\right)}\\right) e^{i \\left(\\phi + 4 \\psi\\right)}\\right) e^{- 3 i \\left(3 \\phi + 12 \\psi + \\theta\\right)}}{256 \\theta} & \\text{for}\\: \\theta^{4} e^{4 i \\left(\\phi + 4 \\psi\\right)} \\neq 0 \\\\0 & \\text{otherwise} \\end{cases}$"
      ],
      "text/plain": [
       "Eq(Cov_Z12, Piecewise(((4*theta*(3*exp(2*I*phi) + 3*exp(8*I*psi) + 2*exp(6*I*psi) - 2*exp(2*I*psi) + 2*exp(2*I*(phi + psi)) - 2*exp(2*I*(phi + 3*psi)) - 3*exp(2*I*(phi + 4*psi)) - 3)*exp(I*(8*phi + 32*psi + 3*theta)) + I*(4*(7*exp(5*I*(phi + 3*psi)) + 7*exp(3*I*(phi + 5*psi)) + 3*exp(I*(3*phi + 13*psi)) - 7*exp(I*(3*phi + 17*psi)) - 3*exp(I*(3*phi + 19*psi)) + 3*exp(I*(5*phi + 13*psi)) - 7*exp(I*(5*phi + 17*psi)) - 3*exp(I*(5*phi + 19*psi)))*exp(I*(4*phi + 16*psi + 3*theta)) + (8*(-exp(5*I*(phi + 3*psi)) + exp(5*I*(phi + 4*psi)) + exp(3*I*(phi + 4*psi)) - exp(3*I*(phi + 5*psi)) - exp(I*(3*phi + 13*psi)) + exp(I*(3*phi + 17*psi)) + exp(I*(3*phi + 19*psi)) - exp(I*(3*phi + 20*psi)) - exp(I*(5*phi + 12*psi)) - exp(I*(5*phi + 13*psi)) + exp(I*(5*phi + 17*psi)) + exp(I*(5*phi + 19*psi)))*exp(I*theta) + ((-6*exp(5*I*(phi + 3*psi)) + exp(5*I*(phi + 4*psi)) + exp(3*I*(phi + 4*psi)) - 6*exp(3*I*(phi + 5*psi)) + 2*exp(3*I*(phi + 6*psi)) + 2*exp(I*(3*phi + 13*psi)) - 2*exp(I*(3*phi + 14*psi)) + 6*exp(I*(3*phi + 17*psi)) - 2*exp(I*(3*phi + 19*psi)) - exp(I*(3*phi + 20*psi)) - exp(I*(5*phi + 12*psi)) + 2*exp(I*(5*phi + 13*psi)) + 2*exp(I*(5*phi + 14*psi)) + 6*exp(I*(5*phi + 17*psi)) - 2*exp(I*(5*phi + 18*psi)) - 2*exp(I*(5*phi + 19*psi)))*exp(I*theta) - 8*exp(5*I*(phi + 3*psi)) - 8*exp(5*I*(phi + 4*psi)) - 8*exp(3*I*(phi + 4*psi)) - 8*exp(3*I*(phi + 5*psi)) - 8*exp(I*(3*phi + 13*psi)) + 8*exp(I*(3*phi + 17*psi)) + 8*exp(I*(3*phi + 19*psi)) + 8*exp(I*(3*phi + 20*psi)) + 8*exp(I*(5*phi + 12*psi)) - 8*exp(I*(5*phi + 13*psi)) + 8*exp(I*(5*phi + 17*psi)) + 8*exp(I*(5*phi + 19*psi)))*exp(3*I*theta) - 6*exp(5*I*(phi + 3*psi)) - exp(5*I*(phi + 4*psi)) - exp(3*I*(phi + 4*psi)) - 6*exp(3*I*(phi + 5*psi)) - 2*exp(3*I*(phi + 6*psi)) + 2*exp(I*(3*phi + 13*psi)) + 2*exp(I*(3*phi + 14*psi)) + 6*exp(I*(3*phi + 17*psi)) - 2*exp(I*(3*phi + 19*psi)) + exp(I*(3*phi + 20*psi)) + exp(I*(5*phi + 12*psi)) + 2*exp(I*(5*phi + 13*psi)) - 2*exp(I*(5*phi + 14*psi)) + 6*exp(I*(5*phi + 17*psi)) + 2*exp(I*(5*phi + 18*psi)) - 2*exp(I*(5*phi + 19*psi)))*exp(I*(4*phi + 16*psi + theta)))*exp(I*(phi + 4*psi)))*exp(-3*I*(3*phi + 12*psi + theta))/(256*theta), Ne(theta**4*exp(4*I*(phi + 4*psi)), 0)), (0, True)))"
      ]
     },
     "metadata": {},
     "output_type": "display_data"
    },
    {
     "data": {
      "text/latex": [
       "$\\displaystyle f_{Zz} = - 2 \\sin^{2}{\\left(\\psi \\right)} \\sin^{2}{\\left(\\frac{s \\theta}{2} \\right)} + 1$"
      ],
      "text/plain": [
       "Eq(f_Zz, -2*sin(psi)**2*sin(s*theta/2)**2 + 1)"
      ]
     },
     "metadata": {},
     "output_type": "display_data"
    },
    {
     "data": {
      "text/latex": [
       "$\\displaystyle f_{Zy} = - \\left(\\left(i \\sin{\\left(\\phi \\right)} - \\cos{\\left(\\phi \\right)}\\right) \\left(i \\sin{\\left(\\frac{s \\theta}{2} \\right)} \\cos{\\left(\\psi \\right)} + \\cos{\\left(\\frac{s \\theta}{2} \\right)}\\right) + \\left(i \\sin{\\left(\\frac{s \\theta}{2} \\right)} \\cos{\\left(\\psi \\right)} - \\cos{\\left(\\frac{s \\theta}{2} \\right)}\\right) e^{i \\phi}\\right) \\sin{\\left(\\psi \\right)} \\sin{\\left(\\frac{s \\theta}{2} \\right)}$"
      ],
      "text/plain": [
       "Eq(f_Zy, -((I*sin(phi) - cos(phi))*(I*sin(s*theta/2)*cos(psi) + cos(s*theta/2)) + (I*sin(s*theta/2)*cos(psi) - cos(s*theta/2))*exp(I*phi))*sin(psi)*sin(s*theta/2))"
      ]
     },
     "metadata": {},
     "output_type": "display_data"
    }
   ],
   "source": [
    "# Compute variances/covariance\n",
    "def var_and_cov(decomp):\n",
    "    fz = decomp['Z']\n",
    "    fy = decomp['Y']\n",
    "    var_z = sp.integrate(fz**2, (s, 0, 1))\n",
    "    var_y = sp.integrate(fy**2, (s, 0, 1))\n",
    "    cov_zy = sp.integrate(fz * fy, (s, 0, 1))\n",
    "    return fz, fy, sp.simplify(var_z), sp.simplify(var_y), sp.simplify(cov_zy)\n",
    "\n",
    "fZz, fZy, var_Z, var_Y, cov_ZY = var_and_cov(Z_s_decomp)\n",
    "\n",
    "fZz = sp.simplify(fZz)\n",
    "fZy = sp.simplify(fZy)\n",
    "\n",
    "var_Z = sp.trigsimp(var_Z, trig=True)\n",
    "#var_Z = var_Z.rewrite(sp.sin(2*theta))  # Force rewrite if needed\n",
    "var_Z = sp.simplify(var_Z)\n",
    "\n",
    "Var_Z2_sin2theta = sp.trigsimp(var_Y, trig=True)\n",
    "#Var_Z2_sin2theta = Var_Z2_sin2theta.rewrite(sp.sin(2*theta))  # Force rewrite if needed\n",
    "Var_Z2_sin2theta = sp.simplify(Var_Z2_sin2theta)\n",
    "\n",
    "# Display results\n",
    "display(sp.Eq(sp.Symbol(\"Var_Z1\"), var_Z))\n",
    "display(sp.Eq(sp.Symbol(\"Var_Z2\"), Var_Z2_sin2theta))\n",
    "display(sp.Eq(sp.Symbol(\"Cov_Z12\"), cov_ZY))\n",
    "\n",
    "display(sp.Eq(sp.Symbol(\"f_Zz\"), fZz))\n",
    "display(sp.Eq(sp.Symbol(\"f_Zy\"), fZy))"
   ]
  }
 ],
 "metadata": {
  "kernelspec": {
   "display_name": "Python 3",
   "language": "python",
   "name": "python3"
  },
  "language_info": {
   "codemirror_mode": {
    "name": "ipython",
    "version": 3
   },
   "file_extension": ".py",
   "mimetype": "text/x-python",
   "name": "python",
   "nbconvert_exporter": "python",
   "pygments_lexer": "ipython3",
   "version": "3.12.3"
  }
 },
 "nbformat": 4,
 "nbformat_minor": 5
}
