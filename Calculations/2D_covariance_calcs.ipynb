{
 "cells": [
  {
   "cell_type": "markdown",
   "id": "60a6f930",
   "metadata": {},
   "source": [
    "## Deriving the Covariance relationships of Depolarizing Channel\n",
    "\n",
    "Given the Hamiltonain only depends on $R_xy$\n",
    "Where:\n",
    "$$R_xy = cos(\\phi) X + sin(\\phi) Y$$\n",
    "\n",
    "and \n",
    "$$ U = cos(\\theta s /2) I - i sin(\\theta s /2) R $$"
   ]
  },
  {
   "cell_type": "code",
   "execution_count": 1,
   "id": "6ceebea5",
   "metadata": {},
   "outputs": [],
   "source": [
    "import sympy as sp\n",
    "import numpy as np\n",
    "from numpy import exp, sqrt, array\n",
    "from numpy.random import multivariate_normal"
   ]
  },
  {
   "cell_type": "code",
   "execution_count": 2,
   "id": "d9acbdbd",
   "metadata": {},
   "outputs": [],
   "source": [
    "def parameters(pp, pT1, pT2, ptg):\n",
    "    p = pp                  # depolarizing probability\n",
    "    T1 = pT1                 # relaxation time (seconds)\n",
    "    T2 = pT2                 # dephasing time (seconds)\n",
    "    tg = ptg                 # gate time (seconds)\n",
    "\n",
    "    # Derived noise amplitudes\n",
    "    ed = sqrt(p / 4)\n",
    "    e1 = sqrt(tg / T1) if T1 else 0\n",
    "    e2 = sqrt(tg / T2) if T2 else 0\n",
    "    ep = sqrt(0.5 * (e2**2 - e1**2 / 2)) if T2 else 0\n",
    "    return ed, e1, e2, ep"
   ]
  },
  {
   "cell_type": "code",
   "execution_count": 3,
   "id": "45a22c0f",
   "metadata": {},
   "outputs": [],
   "source": [
    "\n",
    "# === Symbols ===\n",
    "theta, s, phi = sp.symbols('theta s phi', real=True)\n",
    "alpha = s * theta / 2\n",
    "\n",
    "i = sp.I\n",
    "\n",
    "# === Pauli Matrices ===\n",
    "I2 = sp.eye(2)\n",
    "X = sp.Matrix([[0, 1], [1, 0]])\n",
    "Y = sp.Matrix([[0, -i], [i, 0]])\n",
    "Z = sp.Matrix([[1, 0], [0, -1]])\n",
    "pauli_labels = {'I': I2, 'X': X, 'Y': Y, 'Z': Z}\n",
    "\n",
    "# === Rotation Axes ===\n",
    "R_xy = sp.cos(phi) * X + sp.sin(phi) * Y\n",
    "R = R_xy\n",
    "\n",
    "# === IBM-style unitary ===\n",
    "U = sp.cos(alpha) * I2 - sp.I * sp.sin(alpha) * R\n",
    "U_dag = U.H\n",
    "\n",
    "# === Core function: compute f_k^σ(s) components ===\n",
    "def compute_pauli_components(sigma_k):\n",
    "    Lk = sp.simplify(U_dag * sigma_k * U)\n",
    "    components = {}\n",
    "    for label, P in pauli_labels.items():\n",
    "        f_σ = sp.simplify(sp.trigsimp((Lk * P).trace() / 2))\n",
    "        components[label] = f_σ\n",
    "    return Lk, components\n",
    "\n",
    "# === Integration helper for variances and covariances ===\n",
    "def compute_var_and_cov(f_dict):\n",
    "    keys = list(f_dict.keys())\n",
    "    results = {}\n",
    "    for k in keys:\n",
    "        results[f'Var_{k}'] = sp.simplify(sp.integrate(f_dict[k]**2, (s, 0, 1)))\n",
    "    for i in range(len(keys)):\n",
    "        for j in range(i+1, len(keys)):\n",
    "            k1, k2 = keys[i], keys[j]\n",
    "            cov = sp.simplify(sp.integrate(f_dict[k1] * f_dict[k2], (s, 0, 1)))\n",
    "            results[f'Cov_{k1}_{k2}'] = cov\n",
    "    return results\n",
    "\n"
   ]
  },
  {
   "cell_type": "code",
   "execution_count": 4,
   "id": "ab203471",
   "metadata": {},
   "outputs": [],
   "source": [
    "def analyze_pauli_rotation(pauli_target):\n",
    "    # Identify label dynamically\n",
    "    inv_pauli_labels = {id(mat): label for label, mat in pauli_labels.items()}\n",
    "    pauli_target_label = inv_pauli_labels.get(id(pauli_target), \"Unknown\")\n",
    "\n",
    "    # Compute L_k and its Pauli decomposition\n",
    "    Lk, f_components = compute_pauli_components(pauli_target)\n",
    "    variances = compute_var_and_cov(f_components)\n",
    "\n",
    "    # Print results\n",
    "    print(f\"\\n=== Analysis for Pauli Target: {pauli_target_label} ===\")\n",
    "    print(f\"\\n--- Matrix L_k = U† {pauli_target_label} U ---\")\n",
    "    print(Lk)  # cleaner symbolic form\n",
    "\n",
    "\n",
    "    print(f\"\\n--- Pauli Basis Components f_k^({pauli_target_label})(s) ---\")\n",
    "    for label, expr in f_components.items():\n",
    "        print(f\"f_{pauli_target_label}^{label}(s) =\", expr)\n",
    "\n",
    "    print(f\"\\n--- Variances and Covariances for L_k = {pauli_target_label} ---\")\n",
    "    for name, val in variances.items():\n",
    "        print(f\"{name} =\", val)\n",
    "        \n",
    "    return Lk, f_components, variances\n"
   ]
  },
  {
   "cell_type": "code",
   "execution_count": 5,
   "id": "30f875af",
   "metadata": {},
   "outputs": [
    {
     "name": "stdout",
     "output_type": "stream",
     "text": [
      "\n",
      "=== Analysis for Pauli Target: Z ===\n",
      "\n",
      "--- Matrix L_k = U† Z U ---\n",
      "Matrix([[cos(s*theta), 2*I*(I*sin(phi) - cos(phi))*sin(s*theta/2)*cos(s*theta/2)], [2*(-sin(phi) + I*cos(phi))*sin(s*theta/2)*cos(s*theta/2), -cos(s*theta)]])\n",
      "\n",
      "--- Pauli Basis Components f_k^(Z)(s) ---\n",
      "f_Z^I(s) = 0\n",
      "f_Z^X(s) = -sin(phi)*sin(s*theta)\n",
      "f_Z^Y(s) = sin(s*theta)*cos(phi)\n",
      "f_Z^Z(s) = cos(s*theta)\n",
      "\n",
      "--- Variances and Covariances for L_k = Z ---\n",
      "Var_I = 0\n",
      "Var_X = Piecewise(((theta - sin(2*theta)/2)*sin(phi)**2/(2*theta), (theta > 0) | (theta < 0)), (0, True))\n",
      "Var_Y = Piecewise(((theta - sin(2*theta)/2)*cos(phi)**2/(2*theta), (theta > 0) | (theta < 0)), (0, True))\n",
      "Var_Z = Piecewise(((theta + sin(2*theta)/2)/(2*theta), (theta > 0) | (theta < 0)), (1, True))\n",
      "Cov_I_X = 0\n",
      "Cov_I_Y = 0\n",
      "Cov_I_Z = 0\n",
      "Cov_X_Y = Piecewise(((-theta + sin(2*theta)/2)*sin(phi)*cos(phi)/(2*theta), (theta > 0) | (theta < 0)), (0, True))\n",
      "Cov_X_Z = Piecewise((-sin(phi)*sin(theta)**2/(2*theta), (theta > 0) | (theta < 0)), (0, True))\n",
      "Cov_Y_Z = Piecewise((sin(theta)**2*cos(phi)/(2*theta), (theta > 0) | (theta < 0)), (0, True))\n"
     ]
    },
    {
     "data": {
      "text/latex": [
       "$\\displaystyle \\left[\\begin{matrix}\\begin{cases} \\frac{\\left(2 \\theta - \\sin{\\left(2 \\theta \\right)}\\right) \\sin^{2}{\\left(\\phi \\right)}}{4 \\theta} & \\text{for}\\: \\theta > 0 \\vee \\theta < 0 \\\\0 & \\text{otherwise} \\end{cases} & \\begin{cases} \\frac{\\left(- 2 \\theta + \\sin{\\left(2 \\theta \\right)}\\right) \\sin{\\left(\\phi \\right)} \\cos{\\left(\\phi \\right)}}{4 \\theta} & \\text{for}\\: \\theta > 0 \\vee \\theta < 0 \\\\0 & \\text{otherwise} \\end{cases} & \\begin{cases} - \\frac{\\sin{\\left(\\phi \\right)} \\sin^{2}{\\left(\\theta \\right)}}{2 \\theta} & \\text{for}\\: \\theta > 0 \\vee \\theta < 0 \\\\0 & \\text{otherwise} \\end{cases}\\\\\\begin{cases} \\frac{\\left(- 2 \\theta + \\sin{\\left(2 \\theta \\right)}\\right) \\sin{\\left(\\phi \\right)} \\cos{\\left(\\phi \\right)}}{4 \\theta} & \\text{for}\\: \\theta > 0 \\vee \\theta < 0 \\\\0 & \\text{otherwise} \\end{cases} & \\begin{cases} \\frac{\\left(2 \\theta - \\sin{\\left(2 \\theta \\right)}\\right) \\cos^{2}{\\left(\\phi \\right)}}{4 \\theta} & \\text{for}\\: \\theta > 0 \\vee \\theta < 0 \\\\0 & \\text{otherwise} \\end{cases} & \\begin{cases} \\frac{\\sin^{2}{\\left(\\theta \\right)} \\cos{\\left(\\phi \\right)}}{2 \\theta} & \\text{for}\\: \\theta > 0 \\vee \\theta < 0 \\\\0 & \\text{otherwise} \\end{cases}\\\\\\begin{cases} - \\frac{\\sin{\\left(\\phi \\right)} \\sin^{2}{\\left(\\theta \\right)}}{2 \\theta} & \\text{for}\\: \\theta > 0 \\vee \\theta < 0 \\\\0 & \\text{otherwise} \\end{cases} & \\begin{cases} \\frac{\\sin^{2}{\\left(\\theta \\right)} \\cos{\\left(\\phi \\right)}}{2 \\theta} & \\text{for}\\: \\theta > 0 \\vee \\theta < 0 \\\\0 & \\text{otherwise} \\end{cases} & \\begin{cases} \\frac{2 \\theta + \\sin{\\left(2 \\theta \\right)}}{4 \\theta} & \\text{for}\\: \\theta > 0 \\vee \\theta < 0 \\\\1 & \\text{otherwise} \\end{cases}\\end{matrix}\\right]$"
      ],
      "text/plain": [
       "Matrix([\n",
       "[       Piecewise(((2*theta - sin(2*theta))*sin(phi)**2/(4*theta), (theta > 0) | (theta < 0)), (0, True)), Piecewise(((-2*theta + sin(2*theta))*sin(phi)*cos(phi)/(4*theta), (theta > 0) | (theta < 0)), (0, True)),  Piecewise((-sin(phi)*sin(theta)**2/(2*theta), (theta > 0) | (theta < 0)), (0, True))],\n",
       "[Piecewise(((-2*theta + sin(2*theta))*sin(phi)*cos(phi)/(4*theta), (theta > 0) | (theta < 0)), (0, True)),        Piecewise(((2*theta - sin(2*theta))*cos(phi)**2/(4*theta), (theta > 0) | (theta < 0)), (0, True)),   Piecewise((sin(theta)**2*cos(phi)/(2*theta), (theta > 0) | (theta < 0)), (0, True))],\n",
       "[                    Piecewise((-sin(phi)*sin(theta)**2/(2*theta), (theta > 0) | (theta < 0)), (0, True)),                      Piecewise((sin(theta)**2*cos(phi)/(2*theta), (theta > 0) | (theta < 0)), (0, True)), Piecewise(((2*theta + sin(2*theta))/(4*theta), (theta > 0) | (theta < 0)), (1, True))]])"
      ]
     },
     "execution_count": 5,
     "metadata": {},
     "output_type": "execute_result"
    }
   ],
   "source": [
    "## Z - Target Depolarizing Component ##\n",
    "Lk_Z, f_components_Z, variances_Z = analyze_pauli_rotation(Z)  # func call\n",
    "\n",
    "# Extract relevant entries for cov_x matrix\n",
    "VarZ_X = variances_Z['Var_X']\n",
    "VarZ_Y = variances_Z['Var_Y']\n",
    "VarZ_Z = variances_Z['Var_Z']\n",
    "CovZ_XY = variances_Z.get('Cov_X_Y', 0)\n",
    "CovZ_XZ = variances_Z.get('Cov_X_Z', 0)\n",
    "CovZ_YZ = variances_Z.get('Cov_Y_Z', 0)\n",
    "\n",
    "\n",
    "cov_Z_symbolic = sp.Matrix([[VarZ_X, CovZ_XY, CovZ_XZ],\n",
    "                            [CovZ_XY, VarZ_Y, CovZ_YZ],\n",
    "                            [CovZ_XZ, CovZ_YZ, VarZ_Z]])\n",
    "\n",
    "cov_Z_symbolic = sp.simplify(cov_Z_symbolic)\n",
    "\n",
    "cov_Z_symbolic"
   ]
  },
  {
   "cell_type": "code",
   "execution_count": 6,
   "id": "45e113c6",
   "metadata": {},
   "outputs": [
    {
     "name": "stdout",
     "output_type": "stream",
     "text": [
      "\n",
      "=== Analysis for Pauli Target: X ===\n",
      "\n",
      "--- Matrix L_k = U† X U ---\n",
      "Matrix([[cos(phi - s*theta)/2 - cos(phi + s*theta)/2, cos(s*theta/2)**2 + exp(-2*I*phi)*sin(s*theta/2)**2], [exp(2*I*phi)*sin(s*theta/2)**2 + cos(s*theta/2)**2, -cos(phi - s*theta)/2 + cos(phi + s*theta)/2]])\n",
      "\n",
      "--- Pauli Basis Components f_k^(X)(s) ---\n",
      "f_X^I(s) = 0\n",
      "f_X^X(s) = exp(2*I*phi)*sin(s*theta/2)**2/2 + cos(s*theta/2)**2 + exp(-2*I*phi)*sin(s*theta/2)**2/2\n",
      "f_X^Y(s) = sin(2*phi)*sin(s*theta/2)**2\n",
      "f_X^Z(s) = sin(phi)*sin(s*theta)\n",
      "\n",
      "--- Variances and Covariances for L_k = X ---\n",
      "Var_I = 0\n",
      "Var_X = Piecewise(((4*theta*(3*exp(8*I*phi) + 4*exp(6*I*phi) + 18*exp(4*I*phi) + 4*exp(2*I*phi) + 3)*exp(2*I*(2*phi + theta)) + I*(8*(-exp(8*I*phi) + 2*exp(4*I*phi) - 1)*exp(I*theta) + ((-exp(8*I*phi) + 4*exp(6*I*phi) - 6*exp(4*I*phi) + 4*exp(2*I*phi) - 1)*exp(I*theta) + 8*exp(8*I*phi) - 16*exp(4*I*phi) + 8)*exp(3*I*theta) + exp(8*I*phi) - 4*exp(6*I*phi) + 6*exp(4*I*phi) - 4*exp(2*I*phi) + 1)*exp(4*I*phi))*exp(-2*I*(4*phi + theta))/(128*theta), Ne(theta**4*exp(16*I*phi), 0)), (cos(2*phi)/4 + 3*cos(4*phi)/16 - 3*cos(phi - pi/2)**4/2 + 2*cos(phi - pi/2)**2 + 9/16, True))\n",
      "Var_Y = Piecewise(((3*theta - 4*sin(theta) + sin(2*theta)/2)*sin(2*phi)**2/(8*theta), (theta > 0) | (theta < 0)), (0, True))\n",
      "Var_Z = Piecewise(((theta - sin(2*theta)/2)*sin(phi)**2/(2*theta), (theta > 0) | (theta < 0)), (0, True))\n",
      "Cov_I_X = 0\n",
      "Cov_I_Y = 0\n",
      "Cov_I_Z = 0\n",
      "Cov_X_Y = Piecewise(((4*I*theta*(-3*exp(8*I*phi) - 2*exp(6*I*phi) + 2*exp(2*I*phi) + 3)*exp(2*I*(2*phi + theta)) + (8*(1 - exp(8*I*phi))*exp(I*theta) + (-(exp(8*I*phi) - 2*exp(6*I*phi) + 2*exp(2*I*phi) - 1)*exp(I*theta) + 8*exp(8*I*phi) - 8)*exp(3*I*theta) + exp(8*I*phi) - 2*exp(6*I*phi) + 2*exp(2*I*phi) - 1)*exp(4*I*phi))*exp(-2*I*(4*phi + theta))/(128*theta), Ne(theta**4*exp(16*I*phi), 0)), (0, True))\n",
      "Cov_X_Z = Piecewise((I*(2*(-3*exp(6*I*phi) - 7*exp(4*I*phi) + 7*exp(2*I*phi) + 3)*exp(3*I*(4*phi + theta)) + (4*(exp(6*I*phi) + exp(4*I*phi) - exp(2*I*phi) - 1)*exp(I*theta) + ((-exp(6*I*phi) + 3*exp(4*I*phi) - 3*exp(2*I*phi) + 1)*exp(I*theta) + 4*exp(6*I*phi) + 4*exp(4*I*phi) - 4*exp(2*I*phi) - 4)*exp(3*I*theta) - exp(6*I*phi) + 3*exp(4*I*phi) - 3*exp(2*I*phi) + 1)*exp(I*(12*phi + theta)))*exp(-3*I*(5*phi + theta))/(64*theta), Ne(theta**4*exp(12*I*phi), 0)), (0, True))\n",
      "Cov_Y_Z = Piecewise(((-sin(theta)**2 - 2*cos(theta) + 2)*sin(phi)**2*cos(phi)/(2*theta), (theta > 0) | (theta < 0)), (0, True))\n"
     ]
    },
    {
     "data": {
      "text/latex": [
       "$\\displaystyle \\left[\\begin{matrix}\\begin{cases} \\frac{\\left(4 \\theta \\left(3 e^{8 i \\phi} + 4 e^{6 i \\phi} + 18 e^{4 i \\phi} + 4 e^{2 i \\phi} + 3\\right) e^{2 i \\left(2 \\phi + \\theta\\right)} + i \\left(8 \\left(- e^{8 i \\phi} + 2 e^{4 i \\phi} - 1\\right) e^{i \\theta} + \\left(\\left(- e^{8 i \\phi} + 4 e^{6 i \\phi} - 6 e^{4 i \\phi} + 4 e^{2 i \\phi} - 1\\right) e^{i \\theta} + 8 e^{8 i \\phi} - 16 e^{4 i \\phi} + 8\\right) e^{3 i \\theta} + e^{8 i \\phi} - 4 e^{6 i \\phi} + 6 e^{4 i \\phi} - 4 e^{2 i \\phi} + 1\\right) e^{4 i \\phi}\\right) e^{- 2 i \\left(4 \\phi + \\theta\\right)}}{128 \\theta} & \\text{for}\\: \\theta^{4} e^{16 i \\phi} \\neq 0 \\\\1 & \\text{otherwise} \\end{cases} & \\begin{cases} \\frac{\\left(- 4 i \\theta \\left(3 e^{8 i \\phi} + 2 e^{6 i \\phi} - 2 e^{2 i \\phi} - 3\\right) e^{2 i \\left(2 \\phi + \\theta\\right)} + \\left(8 \\left(1 - e^{8 i \\phi}\\right) e^{i \\theta} + \\left(\\left(- e^{8 i \\phi} + 2 e^{6 i \\phi} - 2 e^{2 i \\phi} + 1\\right) e^{i \\theta} + 8 e^{8 i \\phi} - 8\\right) e^{3 i \\theta} + e^{8 i \\phi} - 2 e^{6 i \\phi} + 2 e^{2 i \\phi} - 1\\right) e^{4 i \\phi}\\right) e^{- 2 i \\left(4 \\phi + \\theta\\right)}}{128 \\theta} & \\text{for}\\: \\theta^{4} e^{16 i \\phi} \\neq 0 \\\\0 & \\text{otherwise} \\end{cases} & \\begin{cases} \\frac{i \\left(- 2 \\left(3 e^{6 i \\phi} + 7 e^{4 i \\phi} - 7 e^{2 i \\phi} - 3\\right) e^{3 i \\left(4 \\phi + \\theta\\right)} - \\left(4 \\left(- e^{6 i \\phi} - e^{4 i \\phi} + e^{2 i \\phi} + 1\\right) e^{i \\theta} + \\left(- \\left(- e^{6 i \\phi} + 3 e^{4 i \\phi} - 3 e^{2 i \\phi} + 1\\right) e^{i \\theta} - 4 e^{6 i \\phi} - 4 e^{4 i \\phi} + 4 e^{2 i \\phi} + 4\\right) e^{3 i \\theta} + e^{6 i \\phi} - 3 e^{4 i \\phi} + 3 e^{2 i \\phi} - 1\\right) e^{i \\left(12 \\phi + \\theta\\right)}\\right) e^{- 3 i \\left(5 \\phi + \\theta\\right)}}{64 \\theta} & \\text{for}\\: \\theta^{4} e^{12 i \\phi} \\neq 0 \\\\0 & \\text{otherwise} \\end{cases}\\\\\\begin{cases} \\frac{\\left(- 4 i \\theta \\left(3 e^{8 i \\phi} + 2 e^{6 i \\phi} - 2 e^{2 i \\phi} - 3\\right) e^{2 i \\left(2 \\phi + \\theta\\right)} + \\left(8 \\left(1 - e^{8 i \\phi}\\right) e^{i \\theta} + \\left(\\left(- e^{8 i \\phi} + 2 e^{6 i \\phi} - 2 e^{2 i \\phi} + 1\\right) e^{i \\theta} + 8 e^{8 i \\phi} - 8\\right) e^{3 i \\theta} + e^{8 i \\phi} - 2 e^{6 i \\phi} + 2 e^{2 i \\phi} - 1\\right) e^{4 i \\phi}\\right) e^{- 2 i \\left(4 \\phi + \\theta\\right)}}{128 \\theta} & \\text{for}\\: \\theta^{4} e^{16 i \\phi} \\neq 0 \\\\0 & \\text{otherwise} \\end{cases} & \\begin{cases} \\frac{\\left(6 \\theta - 8 \\sin{\\left(\\theta \\right)} + \\sin{\\left(2 \\theta \\right)}\\right) \\sin^{2}{\\left(2 \\phi \\right)}}{16 \\theta} & \\text{for}\\: \\theta > 0 \\vee \\theta < 0 \\\\0 & \\text{otherwise} \\end{cases} & \\begin{cases} \\frac{\\left(\\cos{\\left(\\theta \\right)} - 1\\right)^{2} \\sin^{2}{\\left(\\phi \\right)} \\cos{\\left(\\phi \\right)}}{2 \\theta} & \\text{for}\\: \\theta > 0 \\vee \\theta < 0 \\\\0 & \\text{otherwise} \\end{cases}\\\\\\begin{cases} \\frac{i \\left(- 2 \\left(3 e^{6 i \\phi} + 7 e^{4 i \\phi} - 7 e^{2 i \\phi} - 3\\right) e^{3 i \\left(4 \\phi + \\theta\\right)} - \\left(4 \\left(- e^{6 i \\phi} - e^{4 i \\phi} + e^{2 i \\phi} + 1\\right) e^{i \\theta} + \\left(- \\left(- e^{6 i \\phi} + 3 e^{4 i \\phi} - 3 e^{2 i \\phi} + 1\\right) e^{i \\theta} - 4 e^{6 i \\phi} - 4 e^{4 i \\phi} + 4 e^{2 i \\phi} + 4\\right) e^{3 i \\theta} + e^{6 i \\phi} - 3 e^{4 i \\phi} + 3 e^{2 i \\phi} - 1\\right) e^{i \\left(12 \\phi + \\theta\\right)}\\right) e^{- 3 i \\left(5 \\phi + \\theta\\right)}}{64 \\theta} & \\text{for}\\: \\theta^{4} e^{12 i \\phi} \\neq 0 \\\\0 & \\text{otherwise} \\end{cases} & \\begin{cases} \\frac{\\left(\\cos{\\left(\\theta \\right)} - 1\\right)^{2} \\sin^{2}{\\left(\\phi \\right)} \\cos{\\left(\\phi \\right)}}{2 \\theta} & \\text{for}\\: \\theta > 0 \\vee \\theta < 0 \\\\0 & \\text{otherwise} \\end{cases} & \\begin{cases} \\frac{\\left(2 \\theta - \\sin{\\left(2 \\theta \\right)}\\right) \\sin^{2}{\\left(\\phi \\right)}}{4 \\theta} & \\text{for}\\: \\theta > 0 \\vee \\theta < 0 \\\\0 & \\text{otherwise} \\end{cases}\\end{matrix}\\right]$"
      ],
      "text/plain": [
       "Matrix([\n",
       "[Piecewise(((4*theta*(3*exp(8*I*phi) + 4*exp(6*I*phi) + 18*exp(4*I*phi) + 4*exp(2*I*phi) + 3)*exp(2*I*(2*phi + theta)) + I*(8*(-exp(8*I*phi) + 2*exp(4*I*phi) - 1)*exp(I*theta) + ((-exp(8*I*phi) + 4*exp(6*I*phi) - 6*exp(4*I*phi) + 4*exp(2*I*phi) - 1)*exp(I*theta) + 8*exp(8*I*phi) - 16*exp(4*I*phi) + 8)*exp(3*I*theta) + exp(8*I*phi) - 4*exp(6*I*phi) + 6*exp(4*I*phi) - 4*exp(2*I*phi) + 1)*exp(4*I*phi))*exp(-2*I*(4*phi + theta))/(128*theta), Ne(theta**4*exp(16*I*phi), 0)), (1, True)), Piecewise(((-4*I*theta*(3*exp(8*I*phi) + 2*exp(6*I*phi) - 2*exp(2*I*phi) - 3)*exp(2*I*(2*phi + theta)) + (8*(1 - exp(8*I*phi))*exp(I*theta) + ((-exp(8*I*phi) + 2*exp(6*I*phi) - 2*exp(2*I*phi) + 1)*exp(I*theta) + 8*exp(8*I*phi) - 8)*exp(3*I*theta) + exp(8*I*phi) - 2*exp(6*I*phi) + 2*exp(2*I*phi) - 1)*exp(4*I*phi))*exp(-2*I*(4*phi + theta))/(128*theta), Ne(theta**4*exp(16*I*phi), 0)), (0, True)), Piecewise((I*(-2*(3*exp(6*I*phi) + 7*exp(4*I*phi) - 7*exp(2*I*phi) - 3)*exp(3*I*(4*phi + theta)) - (4*(-exp(6*I*phi) - exp(4*I*phi) + exp(2*I*phi) + 1)*exp(I*theta) + (-(-exp(6*I*phi) + 3*exp(4*I*phi) - 3*exp(2*I*phi) + 1)*exp(I*theta) - 4*exp(6*I*phi) - 4*exp(4*I*phi) + 4*exp(2*I*phi) + 4)*exp(3*I*theta) + exp(6*I*phi) - 3*exp(4*I*phi) + 3*exp(2*I*phi) - 1)*exp(I*(12*phi + theta)))*exp(-3*I*(5*phi + theta))/(64*theta), Ne(theta**4*exp(12*I*phi), 0)), (0, True))],\n",
       "[                                                                                       Piecewise(((-4*I*theta*(3*exp(8*I*phi) + 2*exp(6*I*phi) - 2*exp(2*I*phi) - 3)*exp(2*I*(2*phi + theta)) + (8*(1 - exp(8*I*phi))*exp(I*theta) + ((-exp(8*I*phi) + 2*exp(6*I*phi) - 2*exp(2*I*phi) + 1)*exp(I*theta) + 8*exp(8*I*phi) - 8)*exp(3*I*theta) + exp(8*I*phi) - 2*exp(6*I*phi) + 2*exp(2*I*phi) - 1)*exp(4*I*phi))*exp(-2*I*(4*phi + theta))/(128*theta), Ne(theta**4*exp(16*I*phi), 0)), (0, True)),                                                                                                                                                                                                                                                                                          Piecewise(((6*theta - 8*sin(theta) + sin(2*theta))*sin(2*phi)**2/(16*theta), (theta > 0) | (theta < 0)), (0, True)),                                                                                                                                                                                                                                                                                                                                                                              Piecewise(((cos(theta) - 1)**2*sin(phi)**2*cos(phi)/(2*theta), (theta > 0) | (theta < 0)), (0, True))],\n",
       "[                 Piecewise((I*(-2*(3*exp(6*I*phi) + 7*exp(4*I*phi) - 7*exp(2*I*phi) - 3)*exp(3*I*(4*phi + theta)) - (4*(-exp(6*I*phi) - exp(4*I*phi) + exp(2*I*phi) + 1)*exp(I*theta) + (-(-exp(6*I*phi) + 3*exp(4*I*phi) - 3*exp(2*I*phi) + 1)*exp(I*theta) - 4*exp(6*I*phi) - 4*exp(4*I*phi) + 4*exp(2*I*phi) + 4)*exp(3*I*theta) + exp(6*I*phi) - 3*exp(4*I*phi) + 3*exp(2*I*phi) - 1)*exp(I*(12*phi + theta)))*exp(-3*I*(5*phi + theta))/(64*theta), Ne(theta**4*exp(12*I*phi), 0)), (0, True)),                                                                                                                                                                                                                                                                                                        Piecewise(((cos(theta) - 1)**2*sin(phi)**2*cos(phi)/(2*theta), (theta > 0) | (theta < 0)), (0, True)),                                                                                                                                                                                                                                                                                                                                                                                  Piecewise(((2*theta - sin(2*theta))*sin(phi)**2/(4*theta), (theta > 0) | (theta < 0)), (0, True))]])"
      ]
     },
     "execution_count": 6,
     "metadata": {},
     "output_type": "execute_result"
    }
   ],
   "source": [
    "## X - Target Depolarizing Component ##\n",
    "# Compute and extract symbolic variances/covariances for Pauli X\n",
    "Lk_X, f_components_X, variances_X = analyze_pauli_rotation(X)  # func call\n",
    "\n",
    "# Extract relevant entries for cov_x matrix\n",
    "VarX_X = variances_X['Var_X']\n",
    "VarX_Y = variances_X['Var_Y']\n",
    "VarX_Z = variances_X['Var_Z']\n",
    "CovX_XY = variances_X.get('Cov_X_Y', 0)\n",
    "CovX_XZ = variances_X.get('Cov_X_Z', 0)\n",
    "CovX_YZ = variances_X.get('Cov_Y_Z', 0)\n",
    "\n",
    "# Construct symbolic covariance matrix\n",
    "cov_x_symbolic = sp.Matrix([\n",
    "    [VarX_X,    CovX_XY,   CovX_XZ],\n",
    "    [CovX_XY,   VarX_Y,    CovX_YZ],\n",
    "    [CovX_XZ,   CovX_YZ,   VarX_Z]\n",
    "])\n",
    "\n",
    "cov_x_symbolic = sp.simplify(cov_x_symbolic)\n",
    "\n",
    "cov_x_symbolic"
   ]
  },
  {
   "cell_type": "markdown",
   "id": "84beb8bf",
   "metadata": {},
   "source": [
    "Check expression"
   ]
  },
  {
   "cell_type": "code",
   "execution_count": 7,
   "id": "1b43f0fb",
   "metadata": {},
   "outputs": [
    {
     "name": "stdout",
     "output_type": "stream",
     "text": [
      "\n",
      "--- Numerical Values for X Target phi = 0 ---\n",
      "VarX_X = Piecewise((1/2 - I*exp(2*I*theta)/(8*theta) + I*exp(-2*I*theta)/(8*theta), (theta > 0) | (theta < 0)), (1, True))\n",
      "VarX_Y = 0\n",
      "VarX_Z = Piecewise(((2*theta - sin(2*theta))/(4*theta), (theta > 0) | (theta < 0)), (0, True))\n",
      "CovX_XY = 0\n",
      "CovX_XZ = Piecewise(((-exp(4*I*theta) + 2*exp(2*I*theta) - 1)*exp(-2*I*theta)/(8*theta), (theta > 0) | (theta < 0)), (0, True))\n",
      "CovX_YZ = 0\n"
     ]
    }
   ],
   "source": [
    "# Substitute φ = pi/2 into each expression\n",
    "phi_val = sp.pi / 2\n",
    "subs_dict = {phi: phi_val}\n",
    "\n",
    "VarX_X_num = VarX_X.subs(subs_dict).simplify()\n",
    "VarX_Y_num = VarX_Y.subs(subs_dict).simplify()\n",
    "VarX_Z_num = VarX_Z.subs(subs_dict).simplify()\n",
    "CovX_XY_num = CovX_XY.subs(subs_dict).simplify()\n",
    "CovX_XZ_num = CovX_XZ.subs(subs_dict).simplify()\n",
    "CovX_YZ_num = CovX_YZ.subs(subs_dict).simplify()\n",
    "\n",
    "\n",
    "# print all results\n",
    "print(f\"\\n--- Numerical Values for X Target phi = 0 ---\")\n",
    "print(f\"VarX_X = {VarX_X_num}\")\n",
    "print(f\"VarX_Y = {VarX_Y_num}\")\n",
    "print(f\"VarX_Z = {VarX_Z_num}\")\n",
    "print(f\"CovX_XY = {CovX_XY_num}\")\n",
    "print(f\"CovX_XZ = {CovX_XZ_num}\")\n",
    "print(f\"CovX_YZ = {CovX_YZ_num}\")\n",
    "\n",
    "# === Numerical Simulation ==="
   ]
  },
  {
   "cell_type": "code",
   "execution_count": 8,
   "id": "8bb911af",
   "metadata": {},
   "outputs": [
    {
     "name": "stdout",
     "output_type": "stream",
     "text": [
      "\n",
      "=== Analysis for Pauli Target: Y ===\n",
      "\n",
      "--- Matrix L_k = U† Y U ---\n",
      "Matrix([[sin(phi - s*theta)/2 - sin(phi + s*theta)/2, I*(-cos(s*theta/2)**2 + exp(-2*I*phi)*sin(s*theta/2)**2)], [I*(-exp(2*I*phi)*sin(s*theta/2)**2 + cos(s*theta/2)**2), -sin(phi - s*theta)/2 + sin(phi + s*theta)/2]])\n",
      "\n",
      "--- Pauli Basis Components f_k^(Y)(s) ---\n",
      "f_Y^I(s) = 0\n",
      "f_Y^X(s) = sin(2*phi)*sin(s*theta/2)**2\n",
      "f_Y^Y(s) = -exp(2*I*phi)*sin(s*theta/2)**2/2 + cos(s*theta/2)**2 - exp(-2*I*phi)*sin(s*theta/2)**2/2\n",
      "f_Y^Z(s) = -sin(s*theta)*cos(phi)\n",
      "\n",
      "--- Variances and Covariances for L_k = Y ---\n",
      "Var_I = 0\n",
      "Var_X = Piecewise(((3*theta - 4*sin(theta) + sin(2*theta)/2)*sin(2*phi)**2/(8*theta), (theta > 0) | (theta < 0)), (0, True))\n",
      "Var_Y = Piecewise(((4*theta*(3*exp(8*I*phi) - 4*exp(6*I*phi) + 18*exp(4*I*phi) - 4*exp(2*I*phi) + 3)*exp(2*I*(2*phi + theta)) + I*(8*(-exp(8*I*phi) + 2*exp(4*I*phi) - 1)*exp(I*theta) + (-(exp(8*I*phi) + 4*exp(6*I*phi) + 6*exp(4*I*phi) + 4*exp(2*I*phi) + 1)*exp(I*theta) + 8*exp(8*I*phi) - 16*exp(4*I*phi) + 8)*exp(3*I*theta) + exp(8*I*phi) + 4*exp(6*I*phi) + 6*exp(4*I*phi) + 4*exp(2*I*phi) + 1)*exp(4*I*phi))*exp(-2*I*(4*phi + theta))/(128*theta), Ne(theta**4*exp(16*I*phi), 0)), (-3*cos(phi)**4/2 + 2*cos(phi)**2 - cos(2*phi)/4 + 3*cos(4*phi)/16 + 9/16, True))\n",
      "Var_Z = Piecewise(((theta - sin(2*theta)/2)*cos(phi)**2/(2*theta), (theta > 0) | (theta < 0)), (0, True))\n",
      "Cov_I_X = 0\n",
      "Cov_I_Y = 0\n",
      "Cov_I_Z = 0\n",
      "Cov_X_Y = Piecewise(((-4*I*theta*(-3*exp(8*I*phi) + 2*exp(6*I*phi) - 2*exp(2*I*phi) + 3)*exp(2*I*(2*phi + theta)) + (-8*(1 - exp(8*I*phi))*exp(I*theta) + (-(-exp(8*I*phi) - 2*exp(6*I*phi) + 2*exp(2*I*phi) + 1)*exp(I*theta) - 8*exp(8*I*phi) + 8)*exp(3*I*theta) - exp(8*I*phi) - 2*exp(6*I*phi) + 2*exp(2*I*phi) + 1)*exp(4*I*phi))*exp(-2*I*(4*phi + theta))/(128*theta), Ne(theta**4*exp(16*I*phi), 0)), (0, True))\n",
      "Cov_X_Z = Piecewise(((-cos(theta)**2 + 2*cos(theta) - 1)*sin(phi)*cos(phi)**2/(2*theta), (theta > 0) | (theta < 0)), (0, True))\n",
      "Cov_Y_Z = Piecewise(((2*(3*exp(6*I*phi) - 7*exp(4*I*phi) - 7*exp(2*I*phi) + 3)*exp(3*I*(4*phi + theta)) + (4*(-exp(6*I*phi) + exp(4*I*phi) + exp(2*I*phi) - 1)*exp(I*theta) + ((exp(6*I*phi) + 3*exp(4*I*phi) + 3*exp(2*I*phi) + 1)*exp(I*theta) - 4*exp(6*I*phi) + 4*exp(4*I*phi) + 4*exp(2*I*phi) - 4)*exp(3*I*theta) + exp(6*I*phi) + 3*exp(4*I*phi) + 3*exp(2*I*phi) + 1)*exp(I*(12*phi + theta)))*exp(-3*I*(5*phi + theta))/(64*theta), Ne(theta**4*exp(12*I*phi), 0)), (0, True))\n"
     ]
    },
    {
     "data": {
      "text/latex": [
       "$\\displaystyle \\left[\\begin{matrix}\\begin{cases} \\frac{\\left(6 \\theta - 8 \\sin{\\left(\\theta \\right)} + \\sin{\\left(2 \\theta \\right)}\\right) \\sin^{2}{\\left(2 \\phi \\right)}}{16 \\theta} & \\text{for}\\: \\theta > 0 \\vee \\theta < 0 \\\\0 & \\text{otherwise} \\end{cases} & \\begin{cases} \\frac{\\left(4 i \\theta \\left(3 e^{8 i \\phi} - 2 e^{6 i \\phi} + 2 e^{2 i \\phi} - 3\\right) e^{2 i \\left(2 \\phi + \\theta\\right)} + \\left(- 8 \\left(1 - e^{8 i \\phi}\\right) e^{i \\theta} + \\left(- \\left(- e^{8 i \\phi} - 2 e^{6 i \\phi} + 2 e^{2 i \\phi} + 1\\right) e^{i \\theta} - 8 e^{8 i \\phi} + 8\\right) e^{3 i \\theta} - e^{8 i \\phi} - 2 e^{6 i \\phi} + 2 e^{2 i \\phi} + 1\\right) e^{4 i \\phi}\\right) e^{- 2 i \\left(4 \\phi + \\theta\\right)}}{128 \\theta} & \\text{for}\\: \\theta^{4} e^{16 i \\phi} \\neq 0 \\\\0 & \\text{otherwise} \\end{cases} & \\begin{cases} - \\frac{\\left(\\cos{\\left(\\theta \\right)} - 1\\right)^{2} \\sin{\\left(\\phi \\right)} \\cos^{2}{\\left(\\phi \\right)}}{2 \\theta} & \\text{for}\\: \\theta > 0 \\vee \\theta < 0 \\\\0 & \\text{otherwise} \\end{cases}\\\\\\begin{cases} \\frac{\\left(4 i \\theta \\left(3 e^{8 i \\phi} - 2 e^{6 i \\phi} + 2 e^{2 i \\phi} - 3\\right) e^{2 i \\left(2 \\phi + \\theta\\right)} + \\left(- 8 \\left(1 - e^{8 i \\phi}\\right) e^{i \\theta} + \\left(- \\left(- e^{8 i \\phi} - 2 e^{6 i \\phi} + 2 e^{2 i \\phi} + 1\\right) e^{i \\theta} - 8 e^{8 i \\phi} + 8\\right) e^{3 i \\theta} - e^{8 i \\phi} - 2 e^{6 i \\phi} + 2 e^{2 i \\phi} + 1\\right) e^{4 i \\phi}\\right) e^{- 2 i \\left(4 \\phi + \\theta\\right)}}{128 \\theta} & \\text{for}\\: \\theta^{4} e^{16 i \\phi} \\neq 0 \\\\0 & \\text{otherwise} \\end{cases} & \\begin{cases} \\frac{\\left(4 \\theta \\left(3 e^{8 i \\phi} - 4 e^{6 i \\phi} + 18 e^{4 i \\phi} - 4 e^{2 i \\phi} + 3\\right) e^{2 i \\left(2 \\phi + \\theta\\right)} + i \\left(8 \\left(- e^{8 i \\phi} + 2 e^{4 i \\phi} - 1\\right) e^{i \\theta} + \\left(- \\left(e^{8 i \\phi} + 4 e^{6 i \\phi} + 6 e^{4 i \\phi} + 4 e^{2 i \\phi} + 1\\right) e^{i \\theta} + 8 e^{8 i \\phi} - 16 e^{4 i \\phi} + 8\\right) e^{3 i \\theta} + e^{8 i \\phi} + 4 e^{6 i \\phi} + 6 e^{4 i \\phi} + 4 e^{2 i \\phi} + 1\\right) e^{4 i \\phi}\\right) e^{- 2 i \\left(4 \\phi + \\theta\\right)}}{128 \\theta} & \\text{for}\\: \\theta^{4} e^{16 i \\phi} \\neq 0 \\\\1 & \\text{otherwise} \\end{cases} & \\begin{cases} \\frac{\\left(2 \\left(3 e^{6 i \\phi} - 7 e^{4 i \\phi} - 7 e^{2 i \\phi} + 3\\right) e^{3 i \\left(4 \\phi + \\theta\\right)} + \\left(4 \\left(- e^{6 i \\phi} + e^{4 i \\phi} + e^{2 i \\phi} - 1\\right) e^{i \\theta} + \\left(\\left(e^{6 i \\phi} + 3 e^{4 i \\phi} + 3 e^{2 i \\phi} + 1\\right) e^{i \\theta} - 4 e^{6 i \\phi} + 4 e^{4 i \\phi} + 4 e^{2 i \\phi} - 4\\right) e^{3 i \\theta} + e^{6 i \\phi} + 3 e^{4 i \\phi} + 3 e^{2 i \\phi} + 1\\right) e^{i \\left(12 \\phi + \\theta\\right)}\\right) e^{- 3 i \\left(5 \\phi + \\theta\\right)}}{64 \\theta} & \\text{for}\\: \\theta^{4} e^{12 i \\phi} \\neq 0 \\\\0 & \\text{otherwise} \\end{cases}\\\\\\begin{cases} - \\frac{\\left(\\cos{\\left(\\theta \\right)} - 1\\right)^{2} \\sin{\\left(\\phi \\right)} \\cos^{2}{\\left(\\phi \\right)}}{2 \\theta} & \\text{for}\\: \\theta > 0 \\vee \\theta < 0 \\\\0 & \\text{otherwise} \\end{cases} & \\begin{cases} \\frac{\\left(2 \\left(3 e^{6 i \\phi} - 7 e^{4 i \\phi} - 7 e^{2 i \\phi} + 3\\right) e^{3 i \\left(4 \\phi + \\theta\\right)} + \\left(4 \\left(- e^{6 i \\phi} + e^{4 i \\phi} + e^{2 i \\phi} - 1\\right) e^{i \\theta} + \\left(\\left(e^{6 i \\phi} + 3 e^{4 i \\phi} + 3 e^{2 i \\phi} + 1\\right) e^{i \\theta} - 4 e^{6 i \\phi} + 4 e^{4 i \\phi} + 4 e^{2 i \\phi} - 4\\right) e^{3 i \\theta} + e^{6 i \\phi} + 3 e^{4 i \\phi} + 3 e^{2 i \\phi} + 1\\right) e^{i \\left(12 \\phi + \\theta\\right)}\\right) e^{- 3 i \\left(5 \\phi + \\theta\\right)}}{64 \\theta} & \\text{for}\\: \\theta^{4} e^{12 i \\phi} \\neq 0 \\\\0 & \\text{otherwise} \\end{cases} & \\begin{cases} \\frac{\\left(2 \\theta - \\sin{\\left(2 \\theta \\right)}\\right) \\cos^{2}{\\left(\\phi \\right)}}{4 \\theta} & \\text{for}\\: \\theta > 0 \\vee \\theta < 0 \\\\0 & \\text{otherwise} \\end{cases}\\end{matrix}\\right]$"
      ],
      "text/plain": [
       "Matrix([\n",
       "[                                                                                                                                                                                                                                                                                          Piecewise(((6*theta - 8*sin(theta) + sin(2*theta))*sin(2*phi)**2/(16*theta), (theta > 0) | (theta < 0)), (0, True)),                                                                                       Piecewise(((4*I*theta*(3*exp(8*I*phi) - 2*exp(6*I*phi) + 2*exp(2*I*phi) - 3)*exp(2*I*(2*phi + theta)) + (-8*(1 - exp(8*I*phi))*exp(I*theta) + (-(-exp(8*I*phi) - 2*exp(6*I*phi) + 2*exp(2*I*phi) + 1)*exp(I*theta) - 8*exp(8*I*phi) + 8)*exp(3*I*theta) - exp(8*I*phi) - 2*exp(6*I*phi) + 2*exp(2*I*phi) + 1)*exp(4*I*phi))*exp(-2*I*(4*phi + theta))/(128*theta), Ne(theta**4*exp(16*I*phi), 0)), (0, True)),                                                                                                                                                                                                                                                                                                                                                                        Piecewise((-(cos(theta) - 1)**2*sin(phi)*cos(phi)**2/(2*theta), (theta > 0) | (theta < 0)), (0, True))],\n",
       "[Piecewise(((4*I*theta*(3*exp(8*I*phi) - 2*exp(6*I*phi) + 2*exp(2*I*phi) - 3)*exp(2*I*(2*phi + theta)) + (-8*(1 - exp(8*I*phi))*exp(I*theta) + (-(-exp(8*I*phi) - 2*exp(6*I*phi) + 2*exp(2*I*phi) + 1)*exp(I*theta) - 8*exp(8*I*phi) + 8)*exp(3*I*theta) - exp(8*I*phi) - 2*exp(6*I*phi) + 2*exp(2*I*phi) + 1)*exp(4*I*phi))*exp(-2*I*(4*phi + theta))/(128*theta), Ne(theta**4*exp(16*I*phi), 0)), (0, True)), Piecewise(((4*theta*(3*exp(8*I*phi) - 4*exp(6*I*phi) + 18*exp(4*I*phi) - 4*exp(2*I*phi) + 3)*exp(2*I*(2*phi + theta)) + I*(8*(-exp(8*I*phi) + 2*exp(4*I*phi) - 1)*exp(I*theta) + (-(exp(8*I*phi) + 4*exp(6*I*phi) + 6*exp(4*I*phi) + 4*exp(2*I*phi) + 1)*exp(I*theta) + 8*exp(8*I*phi) - 16*exp(4*I*phi) + 8)*exp(3*I*theta) + exp(8*I*phi) + 4*exp(6*I*phi) + 6*exp(4*I*phi) + 4*exp(2*I*phi) + 1)*exp(4*I*phi))*exp(-2*I*(4*phi + theta))/(128*theta), Ne(theta**4*exp(16*I*phi), 0)), (1, True)), Piecewise(((2*(3*exp(6*I*phi) - 7*exp(4*I*phi) - 7*exp(2*I*phi) + 3)*exp(3*I*(4*phi + theta)) + (4*(-exp(6*I*phi) + exp(4*I*phi) + exp(2*I*phi) - 1)*exp(I*theta) + ((exp(6*I*phi) + 3*exp(4*I*phi) + 3*exp(2*I*phi) + 1)*exp(I*theta) - 4*exp(6*I*phi) + 4*exp(4*I*phi) + 4*exp(2*I*phi) - 4)*exp(3*I*theta) + exp(6*I*phi) + 3*exp(4*I*phi) + 3*exp(2*I*phi) + 1)*exp(I*(12*phi + theta)))*exp(-3*I*(5*phi + theta))/(64*theta), Ne(theta**4*exp(12*I*phi), 0)), (0, True))],\n",
       "[                                                                                                                                                                                                                                                                                                       Piecewise((-(cos(theta) - 1)**2*sin(phi)*cos(phi)**2/(2*theta), (theta > 0) | (theta < 0)), (0, True)),                       Piecewise(((2*(3*exp(6*I*phi) - 7*exp(4*I*phi) - 7*exp(2*I*phi) + 3)*exp(3*I*(4*phi + theta)) + (4*(-exp(6*I*phi) + exp(4*I*phi) + exp(2*I*phi) - 1)*exp(I*theta) + ((exp(6*I*phi) + 3*exp(4*I*phi) + 3*exp(2*I*phi) + 1)*exp(I*theta) - 4*exp(6*I*phi) + 4*exp(4*I*phi) + 4*exp(2*I*phi) - 4)*exp(3*I*theta) + exp(6*I*phi) + 3*exp(4*I*phi) + 3*exp(2*I*phi) + 1)*exp(I*(12*phi + theta)))*exp(-3*I*(5*phi + theta))/(64*theta), Ne(theta**4*exp(12*I*phi), 0)), (0, True)),                                                                                                                                                                                                                                                                                                                                                                             Piecewise(((2*theta - sin(2*theta))*cos(phi)**2/(4*theta), (theta > 0) | (theta < 0)), (0, True))]])"
      ]
     },
     "execution_count": 8,
     "metadata": {},
     "output_type": "execute_result"
    }
   ],
   "source": [
    "## Y - Target Depolarizing Component ##\n",
    "Lk_Y, f_components_Y, variances_Y = analyze_pauli_rotation(Y)\n",
    "\n",
    "VarY_X = variances_Y['Var_X']\n",
    "VarY_Y = variances_Y['Var_Y']\n",
    "VarY_Z = variances_Y['Var_Z']\n",
    "CovY_XY = variances_Y.get('Cov_X_Y', 0)\n",
    "CovY_XZ = variances_Y.get('Cov_X_Z', 0)\n",
    "CovY_YZ = variances_Y.get('Cov_Y_Z', 0)\n",
    "\n",
    "cov_Y_symbolic = sp.Matrix([\n",
    "    [VarY_X, CovY_XY, CovY_XZ],\n",
    "    [CovY_XY, VarY_Y, CovY_YZ],\n",
    "    [CovY_XZ, CovY_YZ, VarY_Z]\n",
    "])\n",
    "\n",
    "cov_Y_symbolic = sp.simplify(cov_Y_symbolic)\n",
    "\n",
    "cov_Y_symbolic"
   ]
  },
  {
   "cell_type": "markdown",
   "id": "ef2ed692",
   "metadata": {},
   "source": [
    "Check that this matches Noisy Gate Library Code"
   ]
  },
  {
   "cell_type": "code",
   "execution_count": 9,
   "id": "4dcbc730",
   "metadata": {},
   "outputs": [
    {
     "name": "stdout",
     "output_type": "stream",
     "text": [
      "\n",
      "--- Numerical Values for Y Target phi = 0 ---\n",
      "VarY_X = 0\n",
      "VarY_Y = Piecewise((1/2 - I*exp(2*I*theta)/(8*theta) + I*exp(-2*I*theta)/(8*theta), (theta > 0) | (theta < 0)), (1, True))\n",
      "VarY_Z = Piecewise(((2*theta - sin(2*theta))/(4*theta), (theta > 0) | (theta < 0)), (0, True))\n",
      "CovY_XY = 0\n",
      "CovY_XZ = 0\n",
      "CovY_YZ = Piecewise(((exp(4*I*theta) - 2*exp(2*I*theta) + 1)*exp(-2*I*theta)/(8*theta), (theta > 0) | (theta < 0)), (0, True))\n"
     ]
    }
   ],
   "source": [
    "# Substitute φ = 0 into each expression\n",
    "phi_val = 0\n",
    "subs_dict = {phi: phi_val}\n",
    "\n",
    "VarY_X_num = VarY_X.subs(subs_dict).simplify()\n",
    "VarY_Y_num = VarY_Y.subs(subs_dict).simplify()\n",
    "VarY_Z_num = VarY_Z.subs(subs_dict).simplify()\n",
    "CovY_XY_num = CovY_XY.subs(subs_dict).simplify()\n",
    "CovY_XZ_num = CovY_XZ.subs(subs_dict).simplify()\n",
    "CovY_YZ_num = CovY_YZ.subs(subs_dict).simplify()\n",
    "\n",
    "# print all results\n",
    "print(f\"\\n--- Numerical Values for Y Target phi = 0 ---\")\n",
    "print(f\"VarY_X = {VarY_X_num}\")\n",
    "print(f\"VarY_Y = {VarY_Y_num}\")\n",
    "print(f\"VarY_Z = {VarY_Z_num}\")\n",
    "print(f\"CovY_XY = {CovY_XY_num}\")\n",
    "print(f\"CovY_XZ = {CovY_XZ_num}\")\n",
    "print(f\"CovY_YZ = {CovY_YZ_num}\")\n",
    "# === Numerical Simulation ==="
   ]
  },
  {
   "cell_type": "markdown",
   "id": "128d8116",
   "metadata": {},
   "source": [
    "## Compute Depolarizing Noise\n",
    "Now neeed to rewrite the noise matricies "
   ]
  },
  {
   "cell_type": "code",
   "execution_count": 10,
   "id": "9c9ad9d6",
   "metadata": {},
   "outputs": [],
   "source": [
    "# compute depolarizing channel for X component\n",
    "def sample_pauli_noise_matrix(phi_val, theta_val, ed, cov_σ_sym, phi_sym, theta_sym):\n",
    "    \"\"\"\n",
    "    Sample a Hermitian Pauli noise matrix aligned with Paulis, \n",
    "    using φ- and θ-dependent covariance matrix.\n",
    "\n",
    "    Parameters:\n",
    "        phi_val     : float — φ angle (rotation axis)\n",
    "        theta_val   : float — θ angle (rotation amplitude)\n",
    "        ed          : float — depolarizing strength amplitude\n",
    "        cov_σ_sym   : sympy.Matrix — symbolic covariance matrix with entries depending on phi, theta\n",
    "        phi_sym     : sympy.Symbol — symbolic phi variable used in cov_x_sym\n",
    "        theta_sym   : sympy.Symbol — symbolic theta variable used in cov_x_sym\n",
    "\n",
    "    Returns:\n",
    "        Idσ : np.ndarray — 2x2 Hermitian noise matrix\n",
    "    \"\"\"\n",
    "    # Evaluate symbolic covariance matrix numerically\n",
    "    cov_σ_numeric = np.array(cov_σ_sym.evalf(subs={phi_sym: phi_val, theta_sym: theta_val})).astype(np.complex128)\n",
    "\n",
    "    # Sample from multivariate normal with zero mean\n",
    "    mean_σ = np.zeros(3)\n",
    "    Xc, Yc, Zc = np.random.multivariate_normal(mean_σ, cov_σ_numeric, 1)[0]\n",
    "\n",
    "    # Build Hermitian matrix\n",
    "    Idσ = ed * np.array([\n",
    "        [ Zc,       Xc - 1j * Yc ],\n",
    "        [ Xc + 1j * Yc,   -Zc     ]\n",
    "    ], dtype=np.complex128)\n",
    "\n",
    "    return Idσ\n",
    "\n",
    "# Sample from φ-dependent version\n",
    "def sample_pauli_noise_matrix_numeric(ed, cov_σ_numeric):\n",
    "    mean = np.zeros(3)\n",
    "    Xc, Yc, Zc = np.random.multivariate_normal(mean, cov_σ_numeric, 1)[0]\n",
    "    Idσ = ed * np.array([\n",
    "        [ Zc,       Xc - 1j * Yc ],\n",
    "        [ Xc + 1j * Yc,   -Zc     ]\n",
    "    ], dtype=np.complex128)\n",
    "    return Idσ\n"
   ]
  },
  {
   "cell_type": "markdown",
   "id": "a79c8391",
   "metadata": {},
   "source": [
    "Check With Library Version"
   ]
  },
  {
   "cell_type": "code",
   "execution_count": 11,
   "id": "a75608a6",
   "metadata": {},
   "outputs": [],
   "source": [
    "def depolarization_noise_x(theta,phi,ed):\n",
    "    # Variances and covariances for depolarization Itô processes (X axis)\n",
    "    Vdx_1 = (2*theta - np.sin(2*theta)) / (4*theta)\n",
    "    Vdx_2 = (6*theta - 8*np.sin(theta) + np.sin(2*theta)) / (16*theta)\n",
    "    Covdx_12 = (np.sin(theta/2))**4 / theta\n",
    "    Covdx_1Wdx = (1 - np.cos(theta)) / theta\n",
    "    Covdx_2Wdx = (theta - np.sin(theta)) / (2 * theta)\n",
    "\n",
    "    meand_x = array([0, 0, 0])\n",
    "    covd_x = array([\n",
    "        [Vdx_1, Covdx_12, Covdx_1Wdx],\n",
    "        [Covdx_12, Vdx_2, Covdx_2Wdx],\n",
    "        [Covdx_1Wdx, Covdx_2Wdx, 1]\n",
    "    ])\n",
    "\n",
    "    sample_dx = multivariate_normal(meand_x, covd_x, 1)\n",
    "    Idx1, Idx2, Wdx = sample_dx[0]\n",
    "\n",
    "    Idx = ed * array([\n",
    "        [np.sin(phi) * Idx1, Wdx + (exp(-2j*phi) - 1) * Idx2],\n",
    "        [Wdx + (exp(2j*phi) - 1) * Idx2, -np.sin(phi) * Idx1]\n",
    "    ])\n",
    "    return Vdx_1, Vdx_2, Covdx_12, Covdx_1Wdx, Covdx_2Wdx, Idx\n"
   ]
  },
  {
   "cell_type": "code",
   "execution_count": 26,
   "id": "583b7ee3",
   "metadata": {},
   "outputs": [
    {
     "name": "stdout",
     "output_type": "stream",
     "text": [
      "\n",
      "--- Library Numerical Values for Depolarization Noise ---\n",
      "Vdx_1 = 0.5\n",
      "Vdx_2 = 0.05669011381620932\n",
      "Covdx_12 = 0.15915494309189537\n",
      "Covdx_1Wdx = 0.6366197723675813\n",
      "Covdx_2Wdx = 0.1816901138162093\n",
      "Idx_lib = [[ 0.        +0.j  0.24664987+0.j]\n",
      " [ 0.24664987+0.j -0.        +0.j]]\n",
      "\n",
      "--- Numerical Values for X Target phi = 0 ---\n",
      "VarX_X = 1\n",
      "VarX_Y = 0\n",
      "VarX_Z = 0\n",
      "CovX_XY = 0\n",
      "CovX_XZ = 0\n",
      "CovX_YZ = 0\n",
      "Idx_numer = [[ 0.        +0.j -0.00219295+0.j]\n",
      " [-0.00219295+0.j -0.        +0.j]]\n"
     ]
    }
   ],
   "source": [
    "# Define symbols\n",
    "# Set φ and θ values\n",
    "phi_val = 0\n",
    "theta_val = sp.pi/2\n",
    "ed = 0.1\n",
    "subs_dict = {phi: phi_val, theta: theta_val}\n",
    "# Substitute φ and θ into the covariance matrix\n",
    "\n",
    "Vdx_1_lib, Vdx_2_lib, Covdx_12_lib, Covdx_1Wdx_lib, Covdx_2Wdx_lib, Idx_lib = depolarization_noise_x(float(theta_val), float(phi_val), ed)\n",
    "\n",
    "\n",
    "# Print results\n",
    "print(f\"\\n--- Library Numerical Values for Depolarization Noise ---\")\n",
    "print(f\"Vdx_1 = {Vdx_1_lib}\")\n",
    "print(f\"Vdx_2 = {Vdx_2_lib}\")\n",
    "print(f\"Covdx_12 = {Covdx_12_lib}\")\n",
    "print(f\"Covdx_1Wdx = {Covdx_1Wdx_lib}\")\n",
    "print(f\"Covdx_2Wdx = {Covdx_2Wdx_lib}\")\n",
    "\n",
    "print(f\"Idx_lib = {Idx_lib}\")\n",
    "\n",
    "# === Numerical Solutions ===\n",
    "\n",
    "\n",
    "VarX_X_numer = VarX_X.subs(subs_dict).simplify()\n",
    "VarX_Y_numer = VarX_Y.subs(subs_dict).simplify()\n",
    "VarX_Z_numer = VarX_Z.subs(subs_dict).simplify()\n",
    "CovX_XY_numer = CovX_XY.subs(subs_dict).simplify()\n",
    "CovX_XZ_numer = CovX_XZ.subs(subs_dict).simplify()\n",
    "CovX_YZ_numer = CovX_YZ.subs(subs_dict).simplify()\n",
    "\n",
    "cov_x_numer = sp.Matrix([\n",
    "    [VarX_X_numer, CovX_XY_numer, CovX_XZ_numer],\n",
    "    [CovX_XY_numer, VarX_Y_numer, CovX_YZ_numer],\n",
    "    [CovX_XZ_numer, CovX_YZ_numer, VarX_Z_numer]\n",
    "])\n",
    "\n",
    "\n",
    "# print all results\n",
    "print(f\"\\n--- Numerical Values for X Target phi = {phi_val} ---\")\n",
    "print(f\"VarX_X = {VarX_X_numer}\")\n",
    "print(f\"VarX_Y = {VarX_Y_numer}\")\n",
    "print(f\"VarX_Z = {VarX_Z_numer}\")\n",
    "print(f\"CovX_XY = {CovX_XY_numer}\")\n",
    "print(f\"CovX_XZ = {CovX_XZ_numer}\")\n",
    "print(f\"CovX_YZ = {CovX_YZ_numer}\")\n",
    "\n",
    "Idx_numer = sample_pauli_noise_matrix_numeric(ed, cov_x_numer)\n",
    "print(f\"Idx_numer = {Idx_numer}\")\n"
   ]
  },
  {
   "cell_type": "code",
   "execution_count": 27,
   "id": "626f63da",
   "metadata": {},
   "outputs": [],
   "source": [
    "num_samples = 10000\n",
    "samples_phi = []\n",
    "samples_lib = []\n",
    "\n",
    "for _ in range(num_samples):\n",
    "    # φ-dependent sampling\n",
    "    cov_phi_numeric = np.array(cov_x_symbolic.evalf(subs={phi: phi_val, theta: theta_val})).astype(np.float64)\n",
    "    Xc, Yc, Zc = np.random.multivariate_normal([0, 0, 0], cov_phi_numeric)\n",
    "    samples_phi.append([Xc, Yc, Zc])\n",
    "\n",
    "    # Library sampling\n",
    "    Vdx_1, Vdx_2, Covdx_12, Covdx_1Wdx, Covdx_2Wdx, _ = depolarization_noise_x(float(theta_val), float(phi_val), ed)\n",
    "    cov_lib = np.array([\n",
    "        [Vdx_1, Covdx_12, Covdx_1Wdx],\n",
    "        [Covdx_12, Vdx_2, Covdx_2Wdx],\n",
    "        [Covdx_1Wdx, Covdx_2Wdx, 1.0]\n",
    "    ])\n",
    "    Idx1, Idx2, Wdx = np.random.multivariate_normal([0, 0, 0], cov_lib)\n",
    "    samples_lib.append([\n",
    "        np.sin(float(phi_val)) * Idx1,\n",
    "        (np.exp(2j * float(phi_val)) - 1).real * Idx2,  # approximate\n",
    "        Wdx\n",
    "    ])\n"
   ]
  },
  {
   "cell_type": "code",
   "execution_count": 28,
   "id": "bacc289a",
   "metadata": {},
   "outputs": [
    {
     "name": "stdout",
     "output_type": "stream",
     "text": [
      "Mean diff: [0.01013072 0.         0.0043387 ]\n",
      "Covariance diff:\n",
      " [[1.02404812 0.         0.        ]\n",
      " [0.         0.         0.        ]\n",
      " [0.         0.         1.01893266]]\n"
     ]
    }
   ],
   "source": [
    "samples_phi = np.array(samples_phi)\n",
    "samples_lib = np.array(samples_lib)\n",
    "\n",
    "mean_phi = np.mean(samples_phi, axis=0)\n",
    "cov_phi = np.cov(samples_phi.T)\n",
    "\n",
    "mean_lib = np.mean(samples_lib, axis=0)\n",
    "cov_lib = np.cov(samples_lib.T)\n",
    "\n",
    "print(\"Mean diff:\", np.abs(mean_phi - mean_lib))\n",
    "print(\"Covariance diff:\\n\", np.abs(cov_phi - cov_lib))\n"
   ]
  },
  {
   "cell_type": "markdown",
   "id": "b65af21c",
   "metadata": {},
   "source": [
    "WHAT THE FCCKKKK"
   ]
  },
  {
   "cell_type": "code",
   "execution_count": 19,
   "id": "85708c6f",
   "metadata": {},
   "outputs": [],
   "source": [
    "def depolarization_noise_z(theta,phi,ed):\n",
    "    Vdz_1 = (2*theta + np.sin(2*theta)) / (4*theta)\n",
    "    Vdz_2 = (2*theta - np.sin(2*theta)) / (4*theta)\n",
    "    Covdz_12 = (np.sin(theta))**2 / (2*theta)\n",
    "\n",
    "    meand_z = array([0, 0])\n",
    "    covd_z = array([\n",
    "        [Vdz_1, Covdz_12],\n",
    "        [Covdz_12, Vdz_2]\n",
    "    ])\n",
    "\n",
    "    sample_dz = multivariate_normal(meand_z, covd_z, 1)\n",
    "    Idz1, Idz2 = sample_dz[0]\n",
    "\n",
    "    Idz = ed * array([\n",
    "        [Idz1, -1j * exp(-1j*phi) * Idz2],\n",
    "        [1j * exp(1j*phi) * Idz2, -Idz1]\n",
    "    ])\n",
    "    return Vdz_1, Vdz_2, Covdz_12, Idz\n"
   ]
  },
  {
   "cell_type": "code",
   "execution_count": 20,
   "id": "c07c2b71",
   "metadata": {},
   "outputs": [
    {
     "name": "stdout",
     "output_type": "stream",
     "text": [
      "\n",
      "--- Library Numerical Values for Depolarization Noise ---\n",
      "Vdz_1 = 0.5\n",
      "Vdz_2 = 0.5\n",
      "Covdz_12 = 2.3869418286106128e-33\n",
      "Idz = [[ 0.08760467+0.00000000e+00j  0.06332237+3.87737692e-18j]\n",
      " [ 0.06332237-3.87737692e-18j -0.08760467+0.00000000e+00j]]\n",
      "\n",
      "--- Numerical Values for Z Target phi = pi/2 ---\n",
      "VarZ_X = 1/2\n",
      "VarZ_Y = 0\n",
      "VarZ_Z = 1/2\n",
      "CovZ_XY = 0\n",
      "CovZ_XZ = 0\n",
      "CovZ_YZ = 0\n",
      "\n",
      "\n",
      "Idx_numeric = [[-0.17041195+0.j -0.00062256+0.j]\n",
      " [-0.00062256+0.j  0.17041195+0.j]]\n"
     ]
    }
   ],
   "source": [
    "# Define symbols\n",
    "# Set φ and θ values\n",
    "phi_val = 0\n",
    "theta_val = sp.pi\n",
    "ed = 0.1\n",
    "subs_dict = {phi: phi_val, theta: theta_val}\n",
    "# Substitute φ and θ into the covariance matrix\n",
    "\n",
    "Vdz_1, Vdz_2, Covdz_12, Idz = depolarization_noise_z(float(theta_val), float(phi_val), ed)\n",
    "\n",
    "\n",
    "# Print results\n",
    "print(f\"\\n--- Library Numerical Values for Depolarization Noise ---\")\n",
    "print(f\"Vdz_1 = {Vdz_1}\")\n",
    "print(f\"Vdz_2 = {Vdz_2}\")\n",
    "print(f\"Covdz_12 = {Covdz_12}\")\n",
    "print(f\"Idz = {Idz}\")\n",
    "\n",
    "# === Numerical Solutions ===\n",
    "VarZ_X_numer = VarZ_X.subs(subs_dict).simplify()\n",
    "VarZ_Y_numer = VarZ_Y.subs(subs_dict).simplify()\n",
    "VarZ_Z_numer = VarZ_Z.subs(subs_dict).simplify()\n",
    "CovZ_XY_numer = CovZ_XY.subs(subs_dict).simplify()\n",
    "CovZ_XZ_numer = CovZ_XZ.subs(subs_dict).simplify()\n",
    "CovZ_YZ_numer = CovZ_YZ.subs(subs_dict).simplify()\n",
    "\n",
    "cov_Z_numer = sp.Matrix([\n",
    "    [VarZ_X_numer, CovZ_XY_numer, CovZ_XZ_numer],\n",
    "    [CovZ_XY_numer, VarZ_Y_numer, CovZ_YZ_numer],\n",
    "    [CovZ_XZ_numer, CovZ_YZ_numer, VarZ_Z_numer]\n",
    "])\n",
    "\n",
    "\n",
    "# print all results\n",
    "print(f\"\\n--- Numerical Values for Z Target phi = {phi_val} ---\")\n",
    "print(f\"VarZ_X = {VarZ_X_numer}\")\n",
    "print(f\"VarZ_Y = {VarZ_Y_numer}\")\n",
    "print(f\"VarZ_Z = {VarZ_Z_numer}\")\n",
    "print(f\"CovZ_XY = {CovZ_XY_numer}\")\n",
    "print(f\"CovZ_XZ = {CovZ_XZ_numer}\")\n",
    "print(f\"CovZ_YZ = {CovZ_YZ_numer}\") \n",
    "\n",
    "\n",
    "\n",
    "Idz_numer = sample_pauli_noise_matrix_numeric(ed=0.1, cov_σ_numeric=cov_Z_numer)\n",
    "\n",
    "print(f\"\\n\\nIdx_numeric = {Idz_numer}\")"
   ]
  }
 ],
 "metadata": {
  "kernelspec": {
   "display_name": "Python 3",
   "language": "python",
   "name": "python3"
  },
  "language_info": {
   "codemirror_mode": {
    "name": "ipython",
    "version": 3
   },
   "file_extension": ".py",
   "mimetype": "text/x-python",
   "name": "python",
   "nbconvert_exporter": "python",
   "pygments_lexer": "ipython3",
   "version": "3.12.3"
  }
 },
 "nbformat": 4,
 "nbformat_minor": 5
}
